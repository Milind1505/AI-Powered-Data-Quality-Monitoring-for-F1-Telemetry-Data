{
  "nbformat": 4,
  "nbformat_minor": 0,
  "metadata": {
    "colab": {
      "provenance": [],
      "authorship_tag": "ABX9TyMFKvG5wGrhiS9HVQh8kvYT",
      "include_colab_link": true
    },
    "kernelspec": {
      "name": "python3",
      "display_name": "Python 3"
    },
    "language_info": {
      "name": "python"
    }
  },
  "cells": [
    {
      "cell_type": "markdown",
      "metadata": {
        "id": "view-in-github",
        "colab_type": "text"
      },
      "source": [
        "<a href=\"https://colab.research.google.com/github/Milind1505/AI-Powered-Data-Quality-Monitoring-for-F1-Telemetry-Data/blob/main/AI_Powered_Data_Quality_Monitoring_System_for_F1_Telemetry_Data.ipynb\" target=\"_parent\"><img src=\"https://colab.research.google.com/assets/colab-badge.svg\" alt=\"Open In Colab\"/></a>"
      ]
    },
    {
      "cell_type": "markdown",
      "source": [
        "AI-Powered Data Quality Monitoring System for F1 Telemetry Data\n",
        "\n",
        "Introduction\n",
        "\n",
        "This project demonstrates an AI-powered pipeline to monitor and flag anomalies in Formula 1 telemetry data for George Russell. We use the fastf1 library to access telemetry data, build a rules engine, and employ an Isolation Forest model for anomaly detection. The results are visualized with Plotly for both static and interactive exploration.\n",
        "\n",
        "Data Source\n",
        "\n",
        "The project utilizes the fastf1 library to access Formula 1 telemetry data. This library provides a convenient way to retrieve lap times, speed, throttle, brake, RPM, and other sensor data from past races. The data for George Russell in the 2023 Bahrain Grand Prix is used as an example in this project."
      ],
      "metadata": {
        "id": "V_fSAWCFiHrj"
      }
    },
    {
      "cell_type": "markdown",
      "source": [
        "Step-by-Step Code with Explanations\n",
        "\n",
        "1. Install Libraries:\n",
        "\n",
        "This installs the required libraries:\n",
        "\n",
        "fastf1: For accessing F1 telemetry data\n",
        "\n",
        "pandas: For data manipulation and analysis\n",
        "\n",
        "numpy: For numerical operations\n",
        "\n",
        "plotly: For interactive visualizations\n",
        "\n",
        "scikit-learn: For machine learning, including Isolation Forest"
      ],
      "metadata": {
        "id": "8gAfWmNEiL08"
      }
    },
    {
      "cell_type": "code",
      "source": [
        "!pip install fastf1 pandas numpy plotly scikit-learn"
      ],
      "metadata": {
        "colab": {
          "base_uri": "https://localhost:8080/"
        },
        "id": "EAnViak9a3XI",
        "outputId": "952c3ab9-4327-442e-aae9-a10baff3f568"
      },
      "execution_count": 9,
      "outputs": [
        {
          "output_type": "stream",
          "name": "stdout",
          "text": [
            "Requirement already satisfied: fastf1 in /usr/local/lib/python3.11/dist-packages (3.5.3)\n",
            "Requirement already satisfied: pandas in /usr/local/lib/python3.11/dist-packages (2.2.2)\n",
            "Requirement already satisfied: numpy in /usr/local/lib/python3.11/dist-packages (2.0.2)\n",
            "Requirement already satisfied: plotly in /usr/local/lib/python3.11/dist-packages (5.24.1)\n",
            "Requirement already satisfied: scikit-learn in /usr/local/lib/python3.11/dist-packages (1.6.1)\n",
            "Requirement already satisfied: matplotlib<4.0.0,>=3.5.1 in /usr/local/lib/python3.11/dist-packages (from fastf1) (3.10.0)\n",
            "Requirement already satisfied: python-dateutil in /usr/local/lib/python3.11/dist-packages (from fastf1) (2.8.2)\n",
            "Requirement already satisfied: rapidfuzz in /usr/local/lib/python3.11/dist-packages (from fastf1) (3.12.2)\n",
            "Requirement already satisfied: requests-cache>=1.0.0 in /usr/local/lib/python3.11/dist-packages (from fastf1) (1.2.1)\n",
            "Requirement already satisfied: requests>=2.28.1 in /usr/local/lib/python3.11/dist-packages (from fastf1) (2.32.3)\n",
            "Requirement already satisfied: scipy<2.0.0,>=1.8.1 in /usr/local/lib/python3.11/dist-packages (from fastf1) (1.14.1)\n",
            "Requirement already satisfied: timple>=0.1.6 in /usr/local/lib/python3.11/dist-packages (from fastf1) (0.1.8)\n",
            "Requirement already satisfied: websockets<14,>=10.3 in /usr/local/lib/python3.11/dist-packages (from fastf1) (13.1)\n",
            "Requirement already satisfied: pytz>=2020.1 in /usr/local/lib/python3.11/dist-packages (from pandas) (2025.1)\n",
            "Requirement already satisfied: tzdata>=2022.7 in /usr/local/lib/python3.11/dist-packages (from pandas) (2025.1)\n",
            "Requirement already satisfied: tenacity>=6.2.0 in /usr/local/lib/python3.11/dist-packages (from plotly) (9.0.0)\n",
            "Requirement already satisfied: packaging in /usr/local/lib/python3.11/dist-packages (from plotly) (24.2)\n",
            "Requirement already satisfied: joblib>=1.2.0 in /usr/local/lib/python3.11/dist-packages (from scikit-learn) (1.4.2)\n",
            "Requirement already satisfied: threadpoolctl>=3.1.0 in /usr/local/lib/python3.11/dist-packages (from scikit-learn) (3.6.0)\n",
            "Requirement already satisfied: contourpy>=1.0.1 in /usr/local/lib/python3.11/dist-packages (from matplotlib<4.0.0,>=3.5.1->fastf1) (1.3.1)\n",
            "Requirement already satisfied: cycler>=0.10 in /usr/local/lib/python3.11/dist-packages (from matplotlib<4.0.0,>=3.5.1->fastf1) (0.12.1)\n",
            "Requirement already satisfied: fonttools>=4.22.0 in /usr/local/lib/python3.11/dist-packages (from matplotlib<4.0.0,>=3.5.1->fastf1) (4.56.0)\n",
            "Requirement already satisfied: kiwisolver>=1.3.1 in /usr/local/lib/python3.11/dist-packages (from matplotlib<4.0.0,>=3.5.1->fastf1) (1.4.8)\n",
            "Requirement already satisfied: pillow>=8 in /usr/local/lib/python3.11/dist-packages (from matplotlib<4.0.0,>=3.5.1->fastf1) (11.1.0)\n",
            "Requirement already satisfied: pyparsing>=2.3.1 in /usr/local/lib/python3.11/dist-packages (from matplotlib<4.0.0,>=3.5.1->fastf1) (3.2.1)\n",
            "Requirement already satisfied: six>=1.5 in /usr/local/lib/python3.11/dist-packages (from python-dateutil->fastf1) (1.17.0)\n",
            "Requirement already satisfied: charset-normalizer<4,>=2 in /usr/local/lib/python3.11/dist-packages (from requests>=2.28.1->fastf1) (3.4.1)\n",
            "Requirement already satisfied: idna<4,>=2.5 in /usr/local/lib/python3.11/dist-packages (from requests>=2.28.1->fastf1) (3.10)\n",
            "Requirement already satisfied: urllib3<3,>=1.21.1 in /usr/local/lib/python3.11/dist-packages (from requests>=2.28.1->fastf1) (2.3.0)\n",
            "Requirement already satisfied: certifi>=2017.4.17 in /usr/local/lib/python3.11/dist-packages (from requests>=2.28.1->fastf1) (2025.1.31)\n",
            "Requirement already satisfied: attrs>=21.2 in /usr/local/lib/python3.11/dist-packages (from requests-cache>=1.0.0->fastf1) (25.3.0)\n",
            "Requirement already satisfied: cattrs>=22.2 in /usr/local/lib/python3.11/dist-packages (from requests-cache>=1.0.0->fastf1) (24.1.2)\n",
            "Requirement already satisfied: platformdirs>=2.5 in /usr/local/lib/python3.11/dist-packages (from requests-cache>=1.0.0->fastf1) (4.3.6)\n",
            "Requirement already satisfied: url-normalize>=1.4 in /usr/local/lib/python3.11/dist-packages (from requests-cache>=1.0.0->fastf1) (1.4.3)\n"
          ]
        }
      ]
    },
    {
      "cell_type": "markdown",
      "source": [
        "\n",
        "2. Load and Prepare Data:\n",
        "\n",
        "The fastf1 library is used to load the telemetry data for George Russell's fastest lap in the 2023 Bahrain Grand Prix.\n",
        "Relevant features, such as speed, throttle, brake, RPM, and gear, are selected for anomaly detection.\n",
        "The data is split into training and testing sets (70-30 split) for model training and evaluation."
      ],
      "metadata": {
        "id": "qdpc6PwiiQL-"
      }
    },
    {
      "cell_type": "code",
      "source": [
        "import fastf1\n",
        "import pandas as pd\n",
        "import numpy as np\n",
        "from sklearn.ensemble import IsolationForest\n",
        "import os\n",
        "\n",
        "# Create the cache directory if it doesn't exist\n",
        "cache_dir = 'cache'\n",
        "if not os.path.exists(cache_dir):\n",
        "    os.makedirs(cache_dir)\n",
        "\n",
        "# Enable caching for fastf1\n",
        "fastf1.Cache.enable_cache('cache')\n",
        "\n",
        "# Load data for George Russell in the 2023 Bahrain Grand Prix\n",
        "session = fastf1.get_session(2023, 'Bahrain', 'R')\n",
        "session.load()\n",
        "russell = session.laps.pick_drivers('RUS').pick_fastest()\n",
        "telemetry = russell.get_telemetry()\n",
        "\n",
        "# Select relevant features for anomaly detection\n",
        "features = ['Speed', 'Throttle', 'Brake', 'RPM', 'nGear']\n",
        "data = telemetry[features]"
      ],
      "metadata": {
        "colab": {
          "base_uri": "https://localhost:8080/"
        },
        "id": "HjtQApBOa63J",
        "outputId": "9daa2460-18fd-4b76-a7ad-25072708ed17"
      },
      "execution_count": 12,
      "outputs": [
        {
          "output_type": "stream",
          "name": "stderr",
          "text": [
            "core           INFO \tLoading data for Bahrain Grand Prix - Race [v3.5.3]\n",
            "INFO:fastf1.fastf1.core:Loading data for Bahrain Grand Prix - Race [v3.5.3]\n",
            "req            INFO \tUsing cached data for session_info\n",
            "INFO:fastf1.fastf1.req:Using cached data for session_info\n",
            "req            INFO \tUsing cached data for driver_info\n",
            "INFO:fastf1.fastf1.req:Using cached data for driver_info\n",
            "req            INFO \tUsing cached data for session_status_data\n",
            "INFO:fastf1.fastf1.req:Using cached data for session_status_data\n",
            "req            INFO \tUsing cached data for lap_count\n",
            "INFO:fastf1.fastf1.req:Using cached data for lap_count\n",
            "req            INFO \tUsing cached data for track_status_data\n",
            "INFO:fastf1.fastf1.req:Using cached data for track_status_data\n",
            "req            INFO \tUsing cached data for _extended_timing_data\n",
            "INFO:fastf1.fastf1.req:Using cached data for _extended_timing_data\n",
            "req            INFO \tUsing cached data for timing_app_data\n",
            "INFO:fastf1.fastf1.req:Using cached data for timing_app_data\n",
            "core           INFO \tProcessing timing data...\n",
            "INFO:fastf1.fastf1.core:Processing timing data...\n",
            "req            INFO \tUsing cached data for car_data\n",
            "INFO:fastf1.fastf1.req:Using cached data for car_data\n",
            "req            INFO \tUsing cached data for position_data\n",
            "INFO:fastf1.fastf1.req:Using cached data for position_data\n",
            "req            INFO \tUsing cached data for weather_data\n",
            "INFO:fastf1.fastf1.req:Using cached data for weather_data\n",
            "req            INFO \tUsing cached data for race_control_messages\n",
            "INFO:fastf1.fastf1.req:Using cached data for race_control_messages\n",
            "core           INFO \tFinished loading data for 20 drivers: ['1', '11', '14', '55', '44', '18', '63', '77', '10', '23', '22', '2', '20', '21', '27', '24', '4', '31', '16', '81']\n",
            "INFO:fastf1.fastf1.core:Finished loading data for 20 drivers: ['1', '11', '14', '55', '44', '18', '63', '77', '10', '23', '22', '2', '20', '21', '27', '24', '4', '31', '16', '81']\n"
          ]
        }
      ]
    },
    {
      "cell_type": "markdown",
      "source": [
        "Rules Engine:\n",
        "\n",
        "A rules engine is implemented to flag potential anomalies based on predefined rules.\n",
        "These rules capture basic scenarios where anomalies are likely to occur, such as high speed with low throttle or hard braking while accelerating.\n",
        "The rules engine adds an 'Anomaly_Rule' column to the data, indicating whether a data point violates any rules."
      ],
      "metadata": {
        "id": "y7qgKes4eFQ0"
      }
    },
    {
      "cell_type": "code",
      "source": [
        "def check_rules(df):\n",
        "    \"\"\"Applies basic rules to flag potential anomalies.\"\"\"\n",
        "    df['Anomaly_Rule'] = 0\n",
        "    df.loc[(df['Speed'] > 350) & (df['Throttle'] < 0.2), 'Anomaly_Rule'] = 1 # High speed, low throttle\n",
        "    df.loc[(df['Brake'] > 0.8) & (df['Throttle'] > 0.8), 'Anomaly_Rule'] = 1 # Hard braking while accelerating\n",
        "    return df\n",
        "\n",
        "data = check_rules(data)"
      ],
      "metadata": {
        "colab": {
          "base_uri": "https://localhost:8080/"
        },
        "id": "0N8OGb6JbRtA",
        "outputId": "dd960e60-24b1-4d86-fb2e-92b611cdd041"
      },
      "execution_count": 13,
      "outputs": [
        {
          "output_type": "stream",
          "name": "stderr",
          "text": [
            "<ipython-input-13-9550e95e44df>:3: SettingWithCopyWarning:\n",
            "\n",
            "\n",
            "A value is trying to be set on a copy of a slice from a DataFrame.\n",
            "Try using .loc[row_indexer,col_indexer] = value instead\n",
            "\n",
            "See the caveats in the documentation: https://pandas.pydata.org/pandas-docs/stable/user_guide/indexing.html#returning-a-view-versus-a-copy\n",
            "\n"
          ]
        }
      ]
    },
    {
      "cell_type": "markdown",
      "source": [
        "3. Anomaly Detection with Isolation Forest:\n",
        "\n",
        "An Isolation Forest model is trained on the training data to detect anomalies.\n",
        "This model is well-suited for anomaly detection as it isolates anomalous data points that are far away from the normal data distribution.\n",
        "The model is used to predict anomalies on the testing data and adds an 'Anomaly_Prediction' column."
      ],
      "metadata": {
        "id": "_1iESqZceMGh"
      }
    },
    {
      "cell_type": "code",
      "source": [
        "# 'Distance' in the features list BEFORE anomaly detection\n",
        "features = ['Speed', 'Throttle', 'Brake', 'RPM', 'nGear', 'Distance'] # Add 'Distance' here\n",
        "data = telemetry[features]\n",
        "\n",
        "# Apply rules and anomaly detection with the updated features\n",
        "data = check_rules(data)\n",
        "\n",
        "# Split data into training and testing sets (70-30 split)\n",
        "train_data = data.sample(frac=0.7, random_state=42)\n",
        "test_data = data.drop(train_data.index)\n",
        "\n",
        "# Train Isolation Forest model\n",
        "model = IsolationForest(contamination=0.05, random_state=42) # Adjust contamination as needed\n",
        "model.fit(train_data[features])\n",
        "\n",
        "# Predict anomalies on the test set\n",
        "test_data['Anomaly_Score'] = model.decision_function(test_data[features])\n",
        "test_data['Anomaly_Prediction'] = model.predict(test_data[features])\n",
        "test_data['Anomaly_Prediction'] = test_data['Anomaly_Prediction'].map({1: 0, -1: 1}) # Map -1 to 1 for anomaly"
      ],
      "metadata": {
        "colab": {
          "base_uri": "https://localhost:8080/"
        },
        "id": "hIVmLtVMbfvA",
        "outputId": "3bc397a3-f020-478a-c821-66632381927c"
      },
      "execution_count": 17,
      "outputs": [
        {
          "output_type": "stream",
          "name": "stderr",
          "text": [
            "<ipython-input-13-9550e95e44df>:3: SettingWithCopyWarning:\n",
            "\n",
            "\n",
            "A value is trying to be set on a copy of a slice from a DataFrame.\n",
            "Try using .loc[row_indexer,col_indexer] = value instead\n",
            "\n",
            "See the caveats in the documentation: https://pandas.pydata.org/pandas-docs/stable/user_guide/indexing.html#returning-a-view-versus-a-copy\n",
            "\n"
          ]
        }
      ]
    },
    {
      "cell_type": "markdown",
      "source": [
        "4. Visualization with Plotly:\n",
        "\n",
        "Plotly is used to create two visualizations:\n",
        "Static Plot: Speed vs. Distance with Anomalies Highlighted: This plot shows the overall trend of speed changes and highlights anomalies detected by the rules engine and the Isolation Forest model.\n",
        "Interactive Plot: 3D Scatter Plot of Speed, Throttle, and Brake: This plot allows users to explore the relationships between these three variables and identify anomalies in a 3-dimensional space."
      ],
      "metadata": {
        "id": "7UPgoNxDeOdl"
      }
    },
    {
      "cell_type": "code",
      "source": [
        "import plotly.express as px\n",
        "import plotly.graph_objects as go\n",
        "\n",
        "\n",
        "# Static Plot: Speed vs. Time with Anomalies Highlighted\n",
        "fig = px.line(test_data, x='Distance', y='Speed', color='Anomaly_Prediction', title='Speed vs. Distance with Anomalies')\n",
        "fig.show()\n",
        "\n",
        "# Interactive Plot: 3D Scatter Plot of Speed, Throttle, and Brake\n",
        "fig = go.Figure(data=[go.Scatter3d(\n",
        "    x=test_data['Speed'],\n",
        "    y=test_data['Throttle'],\n",
        "    z=test_data['Brake'],\n",
        "    mode='markers',\n",
        "    marker=dict(\n",
        "        size=5,\n",
        "        color=test_data['Anomaly_Prediction'],\n",
        "        colorscale='Viridis',\n",
        "        opacity=0.8\n",
        "    )\n",
        ")])\n",
        "fig.update_layout(scene = dict(\n",
        "                    xaxis_title='Speed',\n",
        "                    yaxis_title='Throttle',\n",
        "                    zaxis_title='Brake'),\n",
        "                    title='3D Scatter Plot of Telemetry Data')\n",
        "fig.show()"
      ],
      "metadata": {
        "colab": {
          "base_uri": "https://localhost:8080/",
          "height": 1000
        },
        "id": "3gAq7TtSbiLA",
        "outputId": "15b67bf3-5fac-402f-fe15-e80a8fe31de2"
      },
      "execution_count": 18,
      "outputs": [
        {
          "output_type": "display_data",
          "data": {
            "text/html": [
              "<html>\n",
              "<head><meta charset=\"utf-8\" /></head>\n",
              "<body>\n",
              "    <div>            <script src=\"https://cdnjs.cloudflare.com/ajax/libs/mathjax/2.7.5/MathJax.js?config=TeX-AMS-MML_SVG\"></script><script type=\"text/javascript\">if (window.MathJax && window.MathJax.Hub && window.MathJax.Hub.Config) {window.MathJax.Hub.Config({SVG: {font: \"STIX-Web\"}});}</script>                <script type=\"text/javascript\">window.PlotlyConfig = {MathJaxConfig: 'local'};</script>\n",
              "        <script charset=\"utf-8\" src=\"https://cdn.plot.ly/plotly-2.35.2.min.js\"></script>                <div id=\"8608f7ef-de17-4d10-a405-644bcdda3380\" class=\"plotly-graph-div\" style=\"height:525px; width:100%;\"></div>            <script type=\"text/javascript\">                                    window.PLOTLYENV=window.PLOTLYENV || {};                                    if (document.getElementById(\"8608f7ef-de17-4d10-a405-644bcdda3380\")) {                    Plotly.newPlot(                        \"8608f7ef-de17-4d10-a405-644bcdda3380\",                        [{\"hovertemplate\":\"Anomaly_Prediction=0\\u003cbr\\u003eDistance=%{x}\\u003cbr\\u003eSpeed=%{y}\\u003cextra\\u003e\\u003c\\u002fextra\\u003e\",\"legendgroup\":\"0\",\"line\":{\"color\":\"#636efa\",\"dash\":\"solid\"},\"marker\":{\"symbol\":\"circle\"},\"mode\":\"lines\",\"name\":\"0\",\"orientation\":\"v\",\"showlegend\":true,\"x\":[5.115277777777777,24.581944444444442,116.7263888888889,137.14722258889896,199.91527777777782,210.29046808159592,279.83777777777783,359.95832537743195,386.20444444444445,394.8421572466101,455.9711111111111,548.4819768871514,663.3129817435881,674.1155555555554,699.8008333333331,746.3230555555552,759.2360865423952,774.6981159085873,790.6674999999997,794.7458154922703,816.7230555555552,830.589722222222,839.2866276639824,867.2580343209781,872.2230555555553,948.1688832245754,958.0499999999995,966.0083422931355,1033.1388888888885,1040.3714270412625,1058.6834413237725,1097.7974914523256,1137.9463904363865,1192.7460607782132,1229.6277777777775,1245.7741687736782,1296.3611111111109,1353.4987562628332,1388.2277777777776,1391.1908904357008,1401.1192714280653,1435.4277777777777,1462.8277777777778,1513.0166666666667,1526.6260978431333,1531.9217691909544,1536.7015969231645,1546.4166666666665,1589.1722222222224,1613.5402206009069,1618.3166666666668,1630.1732141984803,1655.3500000000001,1663.718662600779,1729.6405555555552,1747.9961111111108,1765.8849999999998,1780.8849999999998,1810.710433448956,1849.5627777777777,1860.6466797796293,1865.8627777777776,1900.5183333333332,1903.572937492531,1906.4148597216122,1917.8183333333332,1940.4294444444442,1990.5627777777775,1991.8768773869292,2046.2966667197709,2096.1183333333333,2141.049425782239,2151.2892840622367,2157.6405555555557,2171.3081121475507,2185.673888888889,2201.6738888888895,2209.7627777777784,2224.4516666666677,2238.807222222223,2248.707222222223,2257.707222222223,2309.678737985638,2329.09050429002,2348.3830555555564,2371.9719444444454,2441.1787788928837,2483.448455555709,2538.705634727795,2551.7729882811864,2582.849722222223,2597.31638888889,2607.149722222223,2616.4830555555563,2662.008333333334,2685.875000000001,2712.0602755630553,2716.8305555555567,2721.3861111111123,2740.6892956841025,2741.8194444444457,2746.083159006472,2751.2265977897696,2764.4363493502556,2776.405399695986,2781.575000000001,2807.160142270696,2836.5702384968113,2837.475277777779,2855.875277777779,2885.004166666668,2918.3739752316183,2949.6263888888902,2952.608728367998,2968.8375000000015,2994.819928537469,3071.102277414635,3161.8088311633164,3185.3190984686285,3218.4555368705837,3348.130855874101,3357.837222222224,3376.2495760050433,3383.7150000000024,3391.3064002641618,3392.9372222222246,3403.666546332231,3421.570555555558,3441.373587959427,3449.848333333335,3453.1260864149467,3456.1150000000016,3461.099549011662,3501.0594444444464,3532.6038888888907,3533.913532730585,3543.5447274234944,3554.747265854325,3581.326672236618,3608.2657862709343,3650.2688888888906,3674.068888888891,3678.353060174228,3711.5350000000017,3719.7472109335567,3724.7572222222243,3795.645157954982,3824.5016666666693,3826.0282843028717,3890.9102086371554,3894.5905555555582,3965.4350000000018,4000.0461111111135,4003.323678626989,4038.2582944949813,4043.1733950489065,4050.297303869276,4053.2313888888907,4071.0915219284034,4073.7647222222245,4078.728022670557,4084.960483391545,4086.230000000002,4098.7783533104885,4100.896666666668,4104.888386550408,4131.641111111114,4138.07438299687,4140.641111111113,4156.1562017181805,4164.00777777778,4201.384544404858,4292.522207866668,4294.885555555557,4347.818888888892,4453.870533753395,4469.279146148033,4479.849444444448,4502.114806914317,4529.037310313436,4553.182075403609,4650.893888888891,4713.382777777781,4726.810087823239,4845.971666666668,4873.52935233126,4880.822478227364,4917.0564917387055,4919.129166666669,4921.529351778625,4951.459858461467,4972.595833333336,4976.731801314509,4994.701796892253,5006.851388888891,5037.771015997072,5071.550297630315,5134.22916666667,5161.461039574521,5196.368471431007,5217.141328324133,5285.581111111114,5317.039691960357,5331.240917901707,5367.744886454726],\"xaxis\":\"x\",\"y\":[290.0,292.0,299.0,299.8749997714286,299.0,299.0,300.0,299.0,299.0,299.0,299.0,292.5,141.44998656,118.0,82.0,83.0,99.8,118.82222222222222,134.0,136.6250048,150.0,156.0,165.2500096,184.6250048,187.0,225.075,228.0,230.21428571428572,247.0,248.56,252.46,262.76,268.5375,276.33928502857145,280.0,281.4642852571429,286.0,280.2343768,260.0,255.0000071111111,237.22222933333333,177.0,147.0,112.0,116.3,118.3,120.63333333333334,126.0,154.0,175.8437584,180.0,186.5625056,201.0,207.38365368205135,233.0,236.0,230.0,225.0,196.8,169.0,164.93333333333334,163.0,167.0,168.08333653333332,169.08333226666667,173.0,185.0,188.0,188.2678592,209.8333312,226.0,192.08,171.575,155.0,133.8,115.0,99.0,91.0,80.0,76.0,81.0,90.0,148.28,165.9090909090909,183.0,193.0,228.28571428571428,241.17500288,245.17498752,234.4062416,202.0,186.0,177.0,168.0,109.0,77.0,74.37142857142857,79.0,82.0,109.59999744,111.0,117.59721884444444,124.98612124444445,139.9531224,152.609372,158.0,181.59722026666665,200.37366590838485,201.0,207.0,221.0,233.0,241.0,241.94285714285715,247.0,256.1,269.55,280.6428598857143,282.0312496,284.0,216.52037046994084,205.0,180.8,173.0,167.26,166.0,157.71666666666667,145.0,140.4,141.0,141.0,141.0,143.58333333333334,166.0,184.0,185.0937584,192.60714057142857,199.7499977142857,211.55555982222222,221.6250048,234.0,238.0,238.71309230338085,240.0,238.76,238.0,227.0,228.0,228.17142857142858,237.6250048,239.0,241.0,196.0,192.38887822222222,154.68682748800398,150.41636777244622,143.3250112,140.0,130.6625056,129.0,127.40668652391034,125.40111442065172,125.0,131.02,132.0,134.6,154.0,159.76,162.0,173.9857142857143,179.0,204.11111111111111,241.1249984,242.0,257.0,275.473682994855,276.9774431169651,278.0,282.51666666666665,285.8,289.55,296.0,296.0,292.91071542857145,146.0,124.9500032,120.8,128.8,130.0,131.77777777777777,158.4,169.0,174.04,189.65454545454546,198.0,213.74999808,226.7321462857143,247.0,255.08333653333332,263.70000384,267.34285714285716,278.0,282.04,283.84,287.4],\"yaxis\":\"y\",\"type\":\"scatter\"},{\"hovertemplate\":\"Anomaly_Prediction=1\\u003cbr\\u003eDistance=%{x}\\u003cbr\\u003eSpeed=%{y}\\u003cextra\\u003e\\u003c\\u002fextra\\u003e\",\"legendgroup\":\"1\",\"line\":{\"color\":\"#EF553B\",\"dash\":\"solid\"},\"marker\":{\"symbol\":\"circle\"},\"mode\":\"lines\",\"name\":\"1\",\"orientation\":\"v\",\"showlegend\":true,\"x\":[589.6042672628723,640.3316291915615,724.9675353554877,739.8674999999997,2700.4206530256884,2703.386111111112,4780.893888888891,4791.516111111113,4807.693888888891,4816.491524834414,4818.249444444446,4885.9099863569745,4887.706944444447],\"xaxis\":\"x\",\"y\":[280.55357714285714,193.55553422222224,61.74285714285714,75.0,65.66,68.0,250.0,239.0,208.0,193.15000576,190.0,117.24444444444444,116.0],\"yaxis\":\"y\",\"type\":\"scatter\"}],                        {\"template\":{\"data\":{\"histogram2dcontour\":[{\"type\":\"histogram2dcontour\",\"colorbar\":{\"outlinewidth\":0,\"ticks\":\"\"},\"colorscale\":[[0.0,\"#0d0887\"],[0.1111111111111111,\"#46039f\"],[0.2222222222222222,\"#7201a8\"],[0.3333333333333333,\"#9c179e\"],[0.4444444444444444,\"#bd3786\"],[0.5555555555555556,\"#d8576b\"],[0.6666666666666666,\"#ed7953\"],[0.7777777777777778,\"#fb9f3a\"],[0.8888888888888888,\"#fdca26\"],[1.0,\"#f0f921\"]]}],\"choropleth\":[{\"type\":\"choropleth\",\"colorbar\":{\"outlinewidth\":0,\"ticks\":\"\"}}],\"histogram2d\":[{\"type\":\"histogram2d\",\"colorbar\":{\"outlinewidth\":0,\"ticks\":\"\"},\"colorscale\":[[0.0,\"#0d0887\"],[0.1111111111111111,\"#46039f\"],[0.2222222222222222,\"#7201a8\"],[0.3333333333333333,\"#9c179e\"],[0.4444444444444444,\"#bd3786\"],[0.5555555555555556,\"#d8576b\"],[0.6666666666666666,\"#ed7953\"],[0.7777777777777778,\"#fb9f3a\"],[0.8888888888888888,\"#fdca26\"],[1.0,\"#f0f921\"]]}],\"heatmap\":[{\"type\":\"heatmap\",\"colorbar\":{\"outlinewidth\":0,\"ticks\":\"\"},\"colorscale\":[[0.0,\"#0d0887\"],[0.1111111111111111,\"#46039f\"],[0.2222222222222222,\"#7201a8\"],[0.3333333333333333,\"#9c179e\"],[0.4444444444444444,\"#bd3786\"],[0.5555555555555556,\"#d8576b\"],[0.6666666666666666,\"#ed7953\"],[0.7777777777777778,\"#fb9f3a\"],[0.8888888888888888,\"#fdca26\"],[1.0,\"#f0f921\"]]}],\"heatmapgl\":[{\"type\":\"heatmapgl\",\"colorbar\":{\"outlinewidth\":0,\"ticks\":\"\"},\"colorscale\":[[0.0,\"#0d0887\"],[0.1111111111111111,\"#46039f\"],[0.2222222222222222,\"#7201a8\"],[0.3333333333333333,\"#9c179e\"],[0.4444444444444444,\"#bd3786\"],[0.5555555555555556,\"#d8576b\"],[0.6666666666666666,\"#ed7953\"],[0.7777777777777778,\"#fb9f3a\"],[0.8888888888888888,\"#fdca26\"],[1.0,\"#f0f921\"]]}],\"contourcarpet\":[{\"type\":\"contourcarpet\",\"colorbar\":{\"outlinewidth\":0,\"ticks\":\"\"}}],\"contour\":[{\"type\":\"contour\",\"colorbar\":{\"outlinewidth\":0,\"ticks\":\"\"},\"colorscale\":[[0.0,\"#0d0887\"],[0.1111111111111111,\"#46039f\"],[0.2222222222222222,\"#7201a8\"],[0.3333333333333333,\"#9c179e\"],[0.4444444444444444,\"#bd3786\"],[0.5555555555555556,\"#d8576b\"],[0.6666666666666666,\"#ed7953\"],[0.7777777777777778,\"#fb9f3a\"],[0.8888888888888888,\"#fdca26\"],[1.0,\"#f0f921\"]]}],\"surface\":[{\"type\":\"surface\",\"colorbar\":{\"outlinewidth\":0,\"ticks\":\"\"},\"colorscale\":[[0.0,\"#0d0887\"],[0.1111111111111111,\"#46039f\"],[0.2222222222222222,\"#7201a8\"],[0.3333333333333333,\"#9c179e\"],[0.4444444444444444,\"#bd3786\"],[0.5555555555555556,\"#d8576b\"],[0.6666666666666666,\"#ed7953\"],[0.7777777777777778,\"#fb9f3a\"],[0.8888888888888888,\"#fdca26\"],[1.0,\"#f0f921\"]]}],\"mesh3d\":[{\"type\":\"mesh3d\",\"colorbar\":{\"outlinewidth\":0,\"ticks\":\"\"}}],\"scatter\":[{\"fillpattern\":{\"fillmode\":\"overlay\",\"size\":10,\"solidity\":0.2},\"type\":\"scatter\"}],\"parcoords\":[{\"type\":\"parcoords\",\"line\":{\"colorbar\":{\"outlinewidth\":0,\"ticks\":\"\"}}}],\"scatterpolargl\":[{\"type\":\"scatterpolargl\",\"marker\":{\"colorbar\":{\"outlinewidth\":0,\"ticks\":\"\"}}}],\"bar\":[{\"error_x\":{\"color\":\"#2a3f5f\"},\"error_y\":{\"color\":\"#2a3f5f\"},\"marker\":{\"line\":{\"color\":\"#E5ECF6\",\"width\":0.5},\"pattern\":{\"fillmode\":\"overlay\",\"size\":10,\"solidity\":0.2}},\"type\":\"bar\"}],\"scattergeo\":[{\"type\":\"scattergeo\",\"marker\":{\"colorbar\":{\"outlinewidth\":0,\"ticks\":\"\"}}}],\"scatterpolar\":[{\"type\":\"scatterpolar\",\"marker\":{\"colorbar\":{\"outlinewidth\":0,\"ticks\":\"\"}}}],\"histogram\":[{\"marker\":{\"pattern\":{\"fillmode\":\"overlay\",\"size\":10,\"solidity\":0.2}},\"type\":\"histogram\"}],\"scattergl\":[{\"type\":\"scattergl\",\"marker\":{\"colorbar\":{\"outlinewidth\":0,\"ticks\":\"\"}}}],\"scatter3d\":[{\"type\":\"scatter3d\",\"line\":{\"colorbar\":{\"outlinewidth\":0,\"ticks\":\"\"}},\"marker\":{\"colorbar\":{\"outlinewidth\":0,\"ticks\":\"\"}}}],\"scattermapbox\":[{\"type\":\"scattermapbox\",\"marker\":{\"colorbar\":{\"outlinewidth\":0,\"ticks\":\"\"}}}],\"scatterternary\":[{\"type\":\"scatterternary\",\"marker\":{\"colorbar\":{\"outlinewidth\":0,\"ticks\":\"\"}}}],\"scattercarpet\":[{\"type\":\"scattercarpet\",\"marker\":{\"colorbar\":{\"outlinewidth\":0,\"ticks\":\"\"}}}],\"carpet\":[{\"aaxis\":{\"endlinecolor\":\"#2a3f5f\",\"gridcolor\":\"white\",\"linecolor\":\"white\",\"minorgridcolor\":\"white\",\"startlinecolor\":\"#2a3f5f\"},\"baxis\":{\"endlinecolor\":\"#2a3f5f\",\"gridcolor\":\"white\",\"linecolor\":\"white\",\"minorgridcolor\":\"white\",\"startlinecolor\":\"#2a3f5f\"},\"type\":\"carpet\"}],\"table\":[{\"cells\":{\"fill\":{\"color\":\"#EBF0F8\"},\"line\":{\"color\":\"white\"}},\"header\":{\"fill\":{\"color\":\"#C8D4E3\"},\"line\":{\"color\":\"white\"}},\"type\":\"table\"}],\"barpolar\":[{\"marker\":{\"line\":{\"color\":\"#E5ECF6\",\"width\":0.5},\"pattern\":{\"fillmode\":\"overlay\",\"size\":10,\"solidity\":0.2}},\"type\":\"barpolar\"}],\"pie\":[{\"automargin\":true,\"type\":\"pie\"}]},\"layout\":{\"autotypenumbers\":\"strict\",\"colorway\":[\"#636efa\",\"#EF553B\",\"#00cc96\",\"#ab63fa\",\"#FFA15A\",\"#19d3f3\",\"#FF6692\",\"#B6E880\",\"#FF97FF\",\"#FECB52\"],\"font\":{\"color\":\"#2a3f5f\"},\"hovermode\":\"closest\",\"hoverlabel\":{\"align\":\"left\"},\"paper_bgcolor\":\"white\",\"plot_bgcolor\":\"#E5ECF6\",\"polar\":{\"bgcolor\":\"#E5ECF6\",\"angularaxis\":{\"gridcolor\":\"white\",\"linecolor\":\"white\",\"ticks\":\"\"},\"radialaxis\":{\"gridcolor\":\"white\",\"linecolor\":\"white\",\"ticks\":\"\"}},\"ternary\":{\"bgcolor\":\"#E5ECF6\",\"aaxis\":{\"gridcolor\":\"white\",\"linecolor\":\"white\",\"ticks\":\"\"},\"baxis\":{\"gridcolor\":\"white\",\"linecolor\":\"white\",\"ticks\":\"\"},\"caxis\":{\"gridcolor\":\"white\",\"linecolor\":\"white\",\"ticks\":\"\"}},\"coloraxis\":{\"colorbar\":{\"outlinewidth\":0,\"ticks\":\"\"}},\"colorscale\":{\"sequential\":[[0.0,\"#0d0887\"],[0.1111111111111111,\"#46039f\"],[0.2222222222222222,\"#7201a8\"],[0.3333333333333333,\"#9c179e\"],[0.4444444444444444,\"#bd3786\"],[0.5555555555555556,\"#d8576b\"],[0.6666666666666666,\"#ed7953\"],[0.7777777777777778,\"#fb9f3a\"],[0.8888888888888888,\"#fdca26\"],[1.0,\"#f0f921\"]],\"sequentialminus\":[[0.0,\"#0d0887\"],[0.1111111111111111,\"#46039f\"],[0.2222222222222222,\"#7201a8\"],[0.3333333333333333,\"#9c179e\"],[0.4444444444444444,\"#bd3786\"],[0.5555555555555556,\"#d8576b\"],[0.6666666666666666,\"#ed7953\"],[0.7777777777777778,\"#fb9f3a\"],[0.8888888888888888,\"#fdca26\"],[1.0,\"#f0f921\"]],\"diverging\":[[0,\"#8e0152\"],[0.1,\"#c51b7d\"],[0.2,\"#de77ae\"],[0.3,\"#f1b6da\"],[0.4,\"#fde0ef\"],[0.5,\"#f7f7f7\"],[0.6,\"#e6f5d0\"],[0.7,\"#b8e186\"],[0.8,\"#7fbc41\"],[0.9,\"#4d9221\"],[1,\"#276419\"]]},\"xaxis\":{\"gridcolor\":\"white\",\"linecolor\":\"white\",\"ticks\":\"\",\"title\":{\"standoff\":15},\"zerolinecolor\":\"white\",\"automargin\":true,\"zerolinewidth\":2},\"yaxis\":{\"gridcolor\":\"white\",\"linecolor\":\"white\",\"ticks\":\"\",\"title\":{\"standoff\":15},\"zerolinecolor\":\"white\",\"automargin\":true,\"zerolinewidth\":2},\"scene\":{\"xaxis\":{\"backgroundcolor\":\"#E5ECF6\",\"gridcolor\":\"white\",\"linecolor\":\"white\",\"showbackground\":true,\"ticks\":\"\",\"zerolinecolor\":\"white\",\"gridwidth\":2},\"yaxis\":{\"backgroundcolor\":\"#E5ECF6\",\"gridcolor\":\"white\",\"linecolor\":\"white\",\"showbackground\":true,\"ticks\":\"\",\"zerolinecolor\":\"white\",\"gridwidth\":2},\"zaxis\":{\"backgroundcolor\":\"#E5ECF6\",\"gridcolor\":\"white\",\"linecolor\":\"white\",\"showbackground\":true,\"ticks\":\"\",\"zerolinecolor\":\"white\",\"gridwidth\":2}},\"shapedefaults\":{\"line\":{\"color\":\"#2a3f5f\"}},\"annotationdefaults\":{\"arrowcolor\":\"#2a3f5f\",\"arrowhead\":0,\"arrowwidth\":1},\"geo\":{\"bgcolor\":\"white\",\"landcolor\":\"#E5ECF6\",\"subunitcolor\":\"white\",\"showland\":true,\"showlakes\":true,\"lakecolor\":\"white\"},\"title\":{\"x\":0.05},\"mapbox\":{\"style\":\"light\"}}},\"xaxis\":{\"anchor\":\"y\",\"domain\":[0.0,1.0],\"title\":{\"text\":\"Distance\"}},\"yaxis\":{\"anchor\":\"x\",\"domain\":[0.0,1.0],\"title\":{\"text\":\"Speed\"}},\"legend\":{\"title\":{\"text\":\"Anomaly_Prediction\"},\"tracegroupgap\":0},\"title\":{\"text\":\"Speed vs. Distance with Anomalies\"}},                        {\"responsive\": true}                    ).then(function(){\n",
              "                            \n",
              "var gd = document.getElementById('8608f7ef-de17-4d10-a405-644bcdda3380');\n",
              "var x = new MutationObserver(function (mutations, observer) {{\n",
              "        var display = window.getComputedStyle(gd).display;\n",
              "        if (!display || display === 'none') {{\n",
              "            console.log([gd, 'removed!']);\n",
              "            Plotly.purge(gd);\n",
              "            observer.disconnect();\n",
              "        }}\n",
              "}});\n",
              "\n",
              "// Listen for the removal of the full notebook cells\n",
              "var notebookContainer = gd.closest('#notebook-container');\n",
              "if (notebookContainer) {{\n",
              "    x.observe(notebookContainer, {childList: true});\n",
              "}}\n",
              "\n",
              "// Listen for the clearing of the current output cell\n",
              "var outputEl = gd.closest('.output');\n",
              "if (outputEl) {{\n",
              "    x.observe(outputEl, {childList: true});\n",
              "}}\n",
              "\n",
              "                        })                };                            </script>        </div>\n",
              "</body>\n",
              "</html>"
            ]
          },
          "metadata": {}
        },
        {
          "output_type": "display_data",
          "data": {
            "text/html": [
              "<html>\n",
              "<head><meta charset=\"utf-8\" /></head>\n",
              "<body>\n",
              "    <div>            <script src=\"https://cdnjs.cloudflare.com/ajax/libs/mathjax/2.7.5/MathJax.js?config=TeX-AMS-MML_SVG\"></script><script type=\"text/javascript\">if (window.MathJax && window.MathJax.Hub && window.MathJax.Hub.Config) {window.MathJax.Hub.Config({SVG: {font: \"STIX-Web\"}});}</script>                <script type=\"text/javascript\">window.PlotlyConfig = {MathJaxConfig: 'local'};</script>\n",
              "        <script charset=\"utf-8\" src=\"https://cdn.plot.ly/plotly-2.35.2.min.js\"></script>                <div id=\"71c5a28d-1882-4e23-8cbd-d4112c5869c5\" class=\"plotly-graph-div\" style=\"height:525px; width:100%;\"></div>            <script type=\"text/javascript\">                                    window.PLOTLYENV=window.PLOTLYENV || {};                                    if (document.getElementById(\"71c5a28d-1882-4e23-8cbd-d4112c5869c5\")) {                    Plotly.newPlot(                        \"71c5a28d-1882-4e23-8cbd-d4112c5869c5\",                        [{\"marker\":{\"color\":[0,0,0,0,0,0,0,0,0,0,0,0,1,1,0,0,0,1,1,0,0,0,0,0,0,0,0,0,0,0,0,0,0,0,0,0,0,0,0,0,0,0,0,0,0,0,0,0,0,0,0,0,0,0,0,0,0,0,0,0,0,0,0,0,0,0,0,0,0,0,0,0,0,0,0,0,0,0,0,0,0,0,0,0,0,0,0,0,0,0,0,0,0,0,0,0,0,0,0,0,1,1,0,0,0,0,0,0,0,0,0,0,0,0,0,0,0,0,0,0,0,0,0,0,0,0,0,0,0,0,0,0,0,0,0,0,0,0,0,0,0,0,0,0,0,0,0,0,0,0,0,0,0,0,0,0,0,0,0,0,0,0,0,0,0,0,0,0,0,0,0,0,0,0,0,0,0,0,0,0,0,0,0,0,0,0,0,0,0,0,1,1,1,1,1,0,0,0,1,1,0,0,0,0,0,0,0,0,0,0,0,0,0,0,0,0,0,0],\"colorscale\":[[0.0,\"#440154\"],[0.1111111111111111,\"#482878\"],[0.2222222222222222,\"#3e4989\"],[0.3333333333333333,\"#31688e\"],[0.4444444444444444,\"#26828e\"],[0.5555555555555556,\"#1f9e89\"],[0.6666666666666666,\"#35b779\"],[0.7777777777777778,\"#6ece58\"],[0.8888888888888888,\"#b5de2b\"],[1.0,\"#fde725\"]],\"opacity\":0.8,\"size\":5},\"mode\":\"markers\",\"x\":[290.0,292.0,299.0,299.8749997714286,299.0,299.0,300.0,299.0,299.0,299.0,299.0,292.5,280.55357714285714,193.55553422222224,141.44998656,118.0,82.0,61.74285714285714,75.0,83.0,99.8,118.82222222222222,134.0,136.6250048,150.0,156.0,165.2500096,184.6250048,187.0,225.075,228.0,230.21428571428572,247.0,248.56,252.46,262.76,268.5375,276.33928502857145,280.0,281.4642852571429,286.0,280.2343768,260.0,255.0000071111111,237.22222933333333,177.0,147.0,112.0,116.3,118.3,120.63333333333334,126.0,154.0,175.8437584,180.0,186.5625056,201.0,207.38365368205135,233.0,236.0,230.0,225.0,196.8,169.0,164.93333333333334,163.0,167.0,168.08333653333332,169.08333226666667,173.0,185.0,188.0,188.2678592,209.8333312,226.0,192.08,171.575,155.0,133.8,115.0,99.0,91.0,80.0,76.0,81.0,90.0,148.28,165.9090909090909,183.0,193.0,228.28571428571428,241.17500288,245.17498752,234.4062416,202.0,186.0,177.0,168.0,109.0,77.0,65.66,68.0,74.37142857142857,79.0,82.0,109.59999744,111.0,117.59721884444444,124.98612124444445,139.9531224,152.609372,158.0,181.59722026666665,200.37366590838485,201.0,207.0,221.0,233.0,241.0,241.94285714285715,247.0,256.1,269.55,280.6428598857143,282.0312496,284.0,216.52037046994084,205.0,180.8,173.0,167.26,166.0,157.71666666666667,145.0,140.4,141.0,141.0,141.0,143.58333333333334,166.0,184.0,185.0937584,192.60714057142857,199.7499977142857,211.55555982222222,221.6250048,234.0,238.0,238.71309230338085,240.0,238.76,238.0,227.0,228.0,228.17142857142858,237.6250048,239.0,241.0,196.0,192.38887822222222,154.68682748800398,150.41636777244622,143.3250112,140.0,130.6625056,129.0,127.40668652391034,125.40111442065172,125.0,131.02,132.0,134.6,154.0,159.76,162.0,173.9857142857143,179.0,204.11111111111111,241.1249984,242.0,257.0,275.473682994855,276.9774431169651,278.0,282.51666666666665,285.8,289.55,296.0,296.0,292.91071542857145,250.0,239.0,208.0,193.15000576,190.0,146.0,124.9500032,120.8,117.24444444444444,116.0,128.8,130.0,131.77777777777777,158.4,169.0,174.04,189.65454545454546,198.0,213.74999808,226.7321462857143,247.0,255.08333653333332,263.70000384,267.34285714285716,278.0,282.04,283.84,287.4],\"y\":[100.0,100.0,100.0,100.0,100.0,100.0,100.0,100.0,100.0,100.0,100.0,10.0,0.0,0.0,0.0,0.0,0.0,22.97142857142857,49.0,57.0,70.95,76.0,74.0,75.4318208,82.0,87.0,94.5156328,100.0,100.0,100.0,100.0,100.0,100.0,100.0,100.0,100.0,100.0,100.0,100.0,100.0,100.0,0.0,0.0,0.0,0.0,0.0,0.0,39.0,51.25,56.25,59.63333333333333,65.0,87.0,98.2187536,100.0,100.0,100.0,100.0,100.0,0.0,0.0,0.0,0.0,0.0,27.11111111111111,40.0,71.0,72.44444871111111,73.77777635555556,79.0,70.0,67.0,67.9821504,100.0,0.0,0.0,0.0,0.0,0.0,0.0,0.0,0.0,0.0,30.0,47.0,58.0,91.76,100.0,100.0,100.0,100.0,100.0,0.0,0.0,0.0,0.0,0.0,0.0,0.0,0.0,27.76,34.0,49.68571428571428,52.0,56.0,80.1249984,81.0,83.43055431111111,86.15278151111112,97.1874976,100.0,100.0,100.0,100.0,100.0,100.0,100.0,100.0,100.0,100.0,100.0,100.0,100.0,100.0,100.0,100.0,0.0,0.0,0.0,0.0,0.0,0.0,0.0,0.0,50.4,57.0,60.675,64.0,66.58333333333333,85.0,100.0,100.0,100.0,100.0,100.0,100.0,100.0,100.0,95.18662695217932,68.0,63.66,61.0,69.4,78.0,78.94285714285714,100.0,100.0,0.0,0.0,0.0,0.0,0.0,0.0,0.0,4.5749952,6.0,24.323104975031075,47.38718416250518,52.0,64.9,67.0,67.28888888888889,87.0,96.36,100.0,100.0,100.0,100.0,100.0,100.0,100.0,100.0,100.0,100.0,100.0,100.0,100.0,100.0,100.0,0.0,0.0,0.0,0.0,0.0,0.0,0.0,0.0,9.6,20.266666666666666,24.0,69.2,71.0,72.6,84.8,100.0,100.0,100.0,100.0,100.0,100.0,100.0,100.0,100.0,100.0,100.0,100.0,100.0,100.0],\"z\":[false,false,false,false,false,false,false,false,false,false,false,false,true,true,true,true,true,false,false,false,false,false,false,false,false,false,false,false,false,false,false,false,false,false,false,false,false,false,false,false,false,false,true,true,true,true,true,false,false,false,false,false,false,false,false,false,false,false,false,false,false,true,true,false,false,false,false,false,false,false,false,false,false,false,false,true,true,true,true,true,true,true,false,false,false,false,false,false,false,false,false,false,true,true,true,true,true,true,true,true,false,false,false,false,false,false,false,false,false,false,false,false,false,false,false,false,false,false,false,false,false,false,false,false,false,false,true,true,true,true,true,true,true,true,false,false,false,false,false,false,false,false,false,false,false,false,false,false,false,false,false,false,false,false,false,false,false,false,true,true,true,true,true,true,true,false,false,false,false,false,false,false,false,false,false,false,false,false,false,false,false,false,false,false,false,false,false,false,false,false,true,true,true,true,true,true,true,true,true,false,false,false,false,false,false,false,false,false,false,false,false,false,false,false,false,false,false,false],\"type\":\"scatter3d\"}],                        {\"template\":{\"data\":{\"histogram2dcontour\":[{\"type\":\"histogram2dcontour\",\"colorbar\":{\"outlinewidth\":0,\"ticks\":\"\"},\"colorscale\":[[0.0,\"#0d0887\"],[0.1111111111111111,\"#46039f\"],[0.2222222222222222,\"#7201a8\"],[0.3333333333333333,\"#9c179e\"],[0.4444444444444444,\"#bd3786\"],[0.5555555555555556,\"#d8576b\"],[0.6666666666666666,\"#ed7953\"],[0.7777777777777778,\"#fb9f3a\"],[0.8888888888888888,\"#fdca26\"],[1.0,\"#f0f921\"]]}],\"choropleth\":[{\"type\":\"choropleth\",\"colorbar\":{\"outlinewidth\":0,\"ticks\":\"\"}}],\"histogram2d\":[{\"type\":\"histogram2d\",\"colorbar\":{\"outlinewidth\":0,\"ticks\":\"\"},\"colorscale\":[[0.0,\"#0d0887\"],[0.1111111111111111,\"#46039f\"],[0.2222222222222222,\"#7201a8\"],[0.3333333333333333,\"#9c179e\"],[0.4444444444444444,\"#bd3786\"],[0.5555555555555556,\"#d8576b\"],[0.6666666666666666,\"#ed7953\"],[0.7777777777777778,\"#fb9f3a\"],[0.8888888888888888,\"#fdca26\"],[1.0,\"#f0f921\"]]}],\"heatmap\":[{\"type\":\"heatmap\",\"colorbar\":{\"outlinewidth\":0,\"ticks\":\"\"},\"colorscale\":[[0.0,\"#0d0887\"],[0.1111111111111111,\"#46039f\"],[0.2222222222222222,\"#7201a8\"],[0.3333333333333333,\"#9c179e\"],[0.4444444444444444,\"#bd3786\"],[0.5555555555555556,\"#d8576b\"],[0.6666666666666666,\"#ed7953\"],[0.7777777777777778,\"#fb9f3a\"],[0.8888888888888888,\"#fdca26\"],[1.0,\"#f0f921\"]]}],\"heatmapgl\":[{\"type\":\"heatmapgl\",\"colorbar\":{\"outlinewidth\":0,\"ticks\":\"\"},\"colorscale\":[[0.0,\"#0d0887\"],[0.1111111111111111,\"#46039f\"],[0.2222222222222222,\"#7201a8\"],[0.3333333333333333,\"#9c179e\"],[0.4444444444444444,\"#bd3786\"],[0.5555555555555556,\"#d8576b\"],[0.6666666666666666,\"#ed7953\"],[0.7777777777777778,\"#fb9f3a\"],[0.8888888888888888,\"#fdca26\"],[1.0,\"#f0f921\"]]}],\"contourcarpet\":[{\"type\":\"contourcarpet\",\"colorbar\":{\"outlinewidth\":0,\"ticks\":\"\"}}],\"contour\":[{\"type\":\"contour\",\"colorbar\":{\"outlinewidth\":0,\"ticks\":\"\"},\"colorscale\":[[0.0,\"#0d0887\"],[0.1111111111111111,\"#46039f\"],[0.2222222222222222,\"#7201a8\"],[0.3333333333333333,\"#9c179e\"],[0.4444444444444444,\"#bd3786\"],[0.5555555555555556,\"#d8576b\"],[0.6666666666666666,\"#ed7953\"],[0.7777777777777778,\"#fb9f3a\"],[0.8888888888888888,\"#fdca26\"],[1.0,\"#f0f921\"]]}],\"surface\":[{\"type\":\"surface\",\"colorbar\":{\"outlinewidth\":0,\"ticks\":\"\"},\"colorscale\":[[0.0,\"#0d0887\"],[0.1111111111111111,\"#46039f\"],[0.2222222222222222,\"#7201a8\"],[0.3333333333333333,\"#9c179e\"],[0.4444444444444444,\"#bd3786\"],[0.5555555555555556,\"#d8576b\"],[0.6666666666666666,\"#ed7953\"],[0.7777777777777778,\"#fb9f3a\"],[0.8888888888888888,\"#fdca26\"],[1.0,\"#f0f921\"]]}],\"mesh3d\":[{\"type\":\"mesh3d\",\"colorbar\":{\"outlinewidth\":0,\"ticks\":\"\"}}],\"scatter\":[{\"fillpattern\":{\"fillmode\":\"overlay\",\"size\":10,\"solidity\":0.2},\"type\":\"scatter\"}],\"parcoords\":[{\"type\":\"parcoords\",\"line\":{\"colorbar\":{\"outlinewidth\":0,\"ticks\":\"\"}}}],\"scatterpolargl\":[{\"type\":\"scatterpolargl\",\"marker\":{\"colorbar\":{\"outlinewidth\":0,\"ticks\":\"\"}}}],\"bar\":[{\"error_x\":{\"color\":\"#2a3f5f\"},\"error_y\":{\"color\":\"#2a3f5f\"},\"marker\":{\"line\":{\"color\":\"#E5ECF6\",\"width\":0.5},\"pattern\":{\"fillmode\":\"overlay\",\"size\":10,\"solidity\":0.2}},\"type\":\"bar\"}],\"scattergeo\":[{\"type\":\"scattergeo\",\"marker\":{\"colorbar\":{\"outlinewidth\":0,\"ticks\":\"\"}}}],\"scatterpolar\":[{\"type\":\"scatterpolar\",\"marker\":{\"colorbar\":{\"outlinewidth\":0,\"ticks\":\"\"}}}],\"histogram\":[{\"marker\":{\"pattern\":{\"fillmode\":\"overlay\",\"size\":10,\"solidity\":0.2}},\"type\":\"histogram\"}],\"scattergl\":[{\"type\":\"scattergl\",\"marker\":{\"colorbar\":{\"outlinewidth\":0,\"ticks\":\"\"}}}],\"scatter3d\":[{\"type\":\"scatter3d\",\"line\":{\"colorbar\":{\"outlinewidth\":0,\"ticks\":\"\"}},\"marker\":{\"colorbar\":{\"outlinewidth\":0,\"ticks\":\"\"}}}],\"scattermapbox\":[{\"type\":\"scattermapbox\",\"marker\":{\"colorbar\":{\"outlinewidth\":0,\"ticks\":\"\"}}}],\"scatterternary\":[{\"type\":\"scatterternary\",\"marker\":{\"colorbar\":{\"outlinewidth\":0,\"ticks\":\"\"}}}],\"scattercarpet\":[{\"type\":\"scattercarpet\",\"marker\":{\"colorbar\":{\"outlinewidth\":0,\"ticks\":\"\"}}}],\"carpet\":[{\"aaxis\":{\"endlinecolor\":\"#2a3f5f\",\"gridcolor\":\"white\",\"linecolor\":\"white\",\"minorgridcolor\":\"white\",\"startlinecolor\":\"#2a3f5f\"},\"baxis\":{\"endlinecolor\":\"#2a3f5f\",\"gridcolor\":\"white\",\"linecolor\":\"white\",\"minorgridcolor\":\"white\",\"startlinecolor\":\"#2a3f5f\"},\"type\":\"carpet\"}],\"table\":[{\"cells\":{\"fill\":{\"color\":\"#EBF0F8\"},\"line\":{\"color\":\"white\"}},\"header\":{\"fill\":{\"color\":\"#C8D4E3\"},\"line\":{\"color\":\"white\"}},\"type\":\"table\"}],\"barpolar\":[{\"marker\":{\"line\":{\"color\":\"#E5ECF6\",\"width\":0.5},\"pattern\":{\"fillmode\":\"overlay\",\"size\":10,\"solidity\":0.2}},\"type\":\"barpolar\"}],\"pie\":[{\"automargin\":true,\"type\":\"pie\"}]},\"layout\":{\"autotypenumbers\":\"strict\",\"colorway\":[\"#636efa\",\"#EF553B\",\"#00cc96\",\"#ab63fa\",\"#FFA15A\",\"#19d3f3\",\"#FF6692\",\"#B6E880\",\"#FF97FF\",\"#FECB52\"],\"font\":{\"color\":\"#2a3f5f\"},\"hovermode\":\"closest\",\"hoverlabel\":{\"align\":\"left\"},\"paper_bgcolor\":\"white\",\"plot_bgcolor\":\"#E5ECF6\",\"polar\":{\"bgcolor\":\"#E5ECF6\",\"angularaxis\":{\"gridcolor\":\"white\",\"linecolor\":\"white\",\"ticks\":\"\"},\"radialaxis\":{\"gridcolor\":\"white\",\"linecolor\":\"white\",\"ticks\":\"\"}},\"ternary\":{\"bgcolor\":\"#E5ECF6\",\"aaxis\":{\"gridcolor\":\"white\",\"linecolor\":\"white\",\"ticks\":\"\"},\"baxis\":{\"gridcolor\":\"white\",\"linecolor\":\"white\",\"ticks\":\"\"},\"caxis\":{\"gridcolor\":\"white\",\"linecolor\":\"white\",\"ticks\":\"\"}},\"coloraxis\":{\"colorbar\":{\"outlinewidth\":0,\"ticks\":\"\"}},\"colorscale\":{\"sequential\":[[0.0,\"#0d0887\"],[0.1111111111111111,\"#46039f\"],[0.2222222222222222,\"#7201a8\"],[0.3333333333333333,\"#9c179e\"],[0.4444444444444444,\"#bd3786\"],[0.5555555555555556,\"#d8576b\"],[0.6666666666666666,\"#ed7953\"],[0.7777777777777778,\"#fb9f3a\"],[0.8888888888888888,\"#fdca26\"],[1.0,\"#f0f921\"]],\"sequentialminus\":[[0.0,\"#0d0887\"],[0.1111111111111111,\"#46039f\"],[0.2222222222222222,\"#7201a8\"],[0.3333333333333333,\"#9c179e\"],[0.4444444444444444,\"#bd3786\"],[0.5555555555555556,\"#d8576b\"],[0.6666666666666666,\"#ed7953\"],[0.7777777777777778,\"#fb9f3a\"],[0.8888888888888888,\"#fdca26\"],[1.0,\"#f0f921\"]],\"diverging\":[[0,\"#8e0152\"],[0.1,\"#c51b7d\"],[0.2,\"#de77ae\"],[0.3,\"#f1b6da\"],[0.4,\"#fde0ef\"],[0.5,\"#f7f7f7\"],[0.6,\"#e6f5d0\"],[0.7,\"#b8e186\"],[0.8,\"#7fbc41\"],[0.9,\"#4d9221\"],[1,\"#276419\"]]},\"xaxis\":{\"gridcolor\":\"white\",\"linecolor\":\"white\",\"ticks\":\"\",\"title\":{\"standoff\":15},\"zerolinecolor\":\"white\",\"automargin\":true,\"zerolinewidth\":2},\"yaxis\":{\"gridcolor\":\"white\",\"linecolor\":\"white\",\"ticks\":\"\",\"title\":{\"standoff\":15},\"zerolinecolor\":\"white\",\"automargin\":true,\"zerolinewidth\":2},\"scene\":{\"xaxis\":{\"backgroundcolor\":\"#E5ECF6\",\"gridcolor\":\"white\",\"linecolor\":\"white\",\"showbackground\":true,\"ticks\":\"\",\"zerolinecolor\":\"white\",\"gridwidth\":2},\"yaxis\":{\"backgroundcolor\":\"#E5ECF6\",\"gridcolor\":\"white\",\"linecolor\":\"white\",\"showbackground\":true,\"ticks\":\"\",\"zerolinecolor\":\"white\",\"gridwidth\":2},\"zaxis\":{\"backgroundcolor\":\"#E5ECF6\",\"gridcolor\":\"white\",\"linecolor\":\"white\",\"showbackground\":true,\"ticks\":\"\",\"zerolinecolor\":\"white\",\"gridwidth\":2}},\"shapedefaults\":{\"line\":{\"color\":\"#2a3f5f\"}},\"annotationdefaults\":{\"arrowcolor\":\"#2a3f5f\",\"arrowhead\":0,\"arrowwidth\":1},\"geo\":{\"bgcolor\":\"white\",\"landcolor\":\"#E5ECF6\",\"subunitcolor\":\"white\",\"showland\":true,\"showlakes\":true,\"lakecolor\":\"white\"},\"title\":{\"x\":0.05},\"mapbox\":{\"style\":\"light\"}}},\"scene\":{\"xaxis\":{\"title\":{\"text\":\"Speed\"}},\"yaxis\":{\"title\":{\"text\":\"Throttle\"}},\"zaxis\":{\"title\":{\"text\":\"Brake\"}}},\"title\":{\"text\":\"3D Scatter Plot of Telemetry Data\"}},                        {\"responsive\": true}                    ).then(function(){\n",
              "                            \n",
              "var gd = document.getElementById('71c5a28d-1882-4e23-8cbd-d4112c5869c5');\n",
              "var x = new MutationObserver(function (mutations, observer) {{\n",
              "        var display = window.getComputedStyle(gd).display;\n",
              "        if (!display || display === 'none') {{\n",
              "            console.log([gd, 'removed!']);\n",
              "            Plotly.purge(gd);\n",
              "            observer.disconnect();\n",
              "        }}\n",
              "}});\n",
              "\n",
              "// Listen for the removal of the full notebook cells\n",
              "var notebookContainer = gd.closest('#notebook-container');\n",
              "if (notebookContainer) {{\n",
              "    x.observe(notebookContainer, {childList: true});\n",
              "}}\n",
              "\n",
              "// Listen for the clearing of the current output cell\n",
              "var outputEl = gd.closest('.output');\n",
              "if (outputEl) {{\n",
              "    x.observe(outputEl, {childList: true});\n",
              "}}\n",
              "\n",
              "                        })                };                            </script>        </div>\n",
              "</body>\n",
              "</html>"
            ]
          },
          "metadata": {}
        }
      ]
    },
    {
      "cell_type": "markdown",
      "source": [
        "1. Static Plot: Speed vs. Distance\n",
        "\n",
        "This plot acts as a foundational overview of the data. It shows the general trend of speed variations as the car covers distance. By highlighting anomalies in this plot, we can quickly identify specific regions or instances where unusual behavior occurred. This overview helps us understand:\n",
        "\n",
        "Overall Speed Profile: We can see the general pattern of speed changes, such as acceleration, deceleration, and periods of constant speed.\n",
        "Potential Anomaly Locations: The highlighted anomalies pinpoint areas where the speed deviates significantly from the expected pattern. These areas require further investigation using the interactive plot.\n",
        "2. Interactive 3D Scatter Plot: Speed, Throttle, and Brake\n",
        "\n",
        "This plot provides a deeper, multi-dimensional exploration of the data. It allows us to investigate the relationships between speed, throttle, and brake, which are crucial factors in understanding car performance. By color-coding the data points based on anomaly prediction, we can:\n",
        "\n",
        "Identify Anomaly Clusters: If anomalies cluster together in specific regions of the 3D space, it suggests a systemic issue or a particular scenario where anomalies are likely to occur.\n",
        "Analyze Anomaly Characteristics: By examining the values of speed, throttle, and brake for the anomalous points, we can understand the specific nature of the anomaly. For example, an anomaly with high speed and low throttle might indicate a sensor error or an unusual driving behavior.\n",
        "Explore Data Relationships: The interactive nature of the plot allows us to rotate and zoom, gaining different perspectives on the data relationships. This exploration can reveal hidden patterns or correlations that might be missed in the static plot.\n",
        "Comprehensive View: The Synergy\n",
        "\n",
        "The static plot acts as a starting point, directing our attention to potential anomaly locations. The interactive plot then allows us to delve deeper into those areas, exploring the underlying factors contributing to the anomalies. This combination provides a comprehensive view because:\n",
        "\n",
        "Contextualization: The static plot provides context by showing the overall speed profile and highlighting anomaly locations within that context.\n",
        "Detailed Investigation: The interactive plot allows for a detailed investigation of the anomalies, revealing their characteristics and relationships with other variables.\n",
        "Pattern Recognition: By exploring the data from different perspectives in the interactive plot, we can identify patterns and clusters that might not be apparent in the static plot.\n",
        "This synergy between the two visualizations enhances our understanding of the F1 telemetry data and helps us effectively detect and analyze potential anomalies. The static plot directs our attention, and the interactive plot allows for in-depth exploration, leading to a more comprehensive and insightful analysis."
      ],
      "metadata": {
        "id": "Es1zmoISennD"
      }
    },
    {
      "cell_type": "markdown",
      "source": [
        "**Alternative Anomaly Detection Models**\n",
        "\n",
        "Besides Isolation Forest, here are a few other models that could be suitable for this project:\n",
        "\n",
        "Local Outlier Factor (LOF): LOF is a density-based anomaly detection method that measures the local deviation of a data point with respect to its neighbors. It can be effective in identifying outliers in datasets with varying densities.\n",
        "\n",
        "One-Class SVM (OCSVM): OCSVM is a novelty detection method that learns a decision boundary around the normal data points. It can be useful for detecting anomalies that are significantly different from the training data.\n",
        "\n",
        "Autoencoders: Autoencoders are neural networks that are trained to reconstruct their input data. They can be used for anomaly detection by comparing the reconstruction error of a data point with a threshold."
      ],
      "metadata": {
        "id": "LSSvQazPhqLu"
      }
    },
    {
      "cell_type": "code",
      "source": [
        "from sklearn.neighbors import LocalOutlierFactor\n",
        "\n",
        "# Train LOF model\n",
        "lof = LocalOutlierFactor(contamination=0.05)  # Adjust contamination as needed\n",
        "lof_predictions = lof.fit_predict(data[features])\n",
        "data['Anomaly_LOF'] = lof_predictions\n",
        "data['Anomaly_LOF'] = data['Anomaly_LOF'].map({1: 0, -1: 1})  # Map -1 to 1 for anomaly\n",
        "\n",
        "# Visualize LOF results with Plotly\n",
        "fig = px.scatter(data, x='Distance', y='Speed', color='Anomaly_LOF', title='Anomaly Detection with LOF')\n",
        "fig.show()\n"
      ],
      "metadata": {
        "colab": {
          "base_uri": "https://localhost:8080/",
          "height": 834
        },
        "id": "g6pIe8LLf-lb",
        "outputId": "78fe5c45-2b7e-439e-e136-2a2f5ae2a14f"
      },
      "execution_count": 19,
      "outputs": [
        {
          "output_type": "stream",
          "name": "stderr",
          "text": [
            "<ipython-input-19-d6ab67c894cc>:6: SettingWithCopyWarning:\n",
            "\n",
            "\n",
            "A value is trying to be set on a copy of a slice from a DataFrame.\n",
            "Try using .loc[row_indexer,col_indexer] = value instead\n",
            "\n",
            "See the caveats in the documentation: https://pandas.pydata.org/pandas-docs/stable/user_guide/indexing.html#returning-a-view-versus-a-copy\n",
            "\n",
            "<ipython-input-19-d6ab67c894cc>:7: SettingWithCopyWarning:\n",
            "\n",
            "\n",
            "A value is trying to be set on a copy of a slice from a DataFrame.\n",
            "Try using .loc[row_indexer,col_indexer] = value instead\n",
            "\n",
            "See the caveats in the documentation: https://pandas.pydata.org/pandas-docs/stable/user_guide/indexing.html#returning-a-view-versus-a-copy\n",
            "\n"
          ]
        },
        {
          "output_type": "display_data",
          "data": {
            "text/html": [
              "<html>\n",
              "<head><meta charset=\"utf-8\" /></head>\n",
              "<body>\n",
              "    <div>            <script src=\"https://cdnjs.cloudflare.com/ajax/libs/mathjax/2.7.5/MathJax.js?config=TeX-AMS-MML_SVG\"></script><script type=\"text/javascript\">if (window.MathJax && window.MathJax.Hub && window.MathJax.Hub.Config) {window.MathJax.Hub.Config({SVG: {font: \"STIX-Web\"}});}</script>                <script type=\"text/javascript\">window.PlotlyConfig = {MathJaxConfig: 'local'};</script>\n",
              "        <script charset=\"utf-8\" src=\"https://cdn.plot.ly/plotly-2.35.2.min.js\"></script>                <div id=\"071e689e-bc09-41cb-aacc-dcfb073a9fe5\" class=\"plotly-graph-div\" style=\"height:525px; width:100%;\"></div>            <script type=\"text/javascript\">                                    window.PLOTLYENV=window.PLOTLYENV || {};                                    if (document.getElementById(\"071e689e-bc09-41cb-aacc-dcfb073a9fe5\")) {                    Plotly.newPlot(                        \"071e689e-bc09-41cb-aacc-dcfb073a9fe5\",                        [{\"hovertemplate\":\"Distance=%{x}\\u003cbr\\u003eSpeed=%{y}\\u003cbr\\u003eAnomaly_LOF=%{marker.color}\\u003cextra\\u003e\\u003c\\u002fextra\\u003e\",\"legendgroup\":\"\",\"marker\":{\"color\":[1,1,1,1,1,1,0,0,0,0,0,0,0,0,0,0,0,0,0,0,0,0,0,0,0,0,0,0,0,0,0,0,0,0,0,0,0,0,0,0,0,0,0,0,0,0,0,1,1,1,1,1,1,0,0,0,0,0,0,0,0,0,0,0,0,0,0,0,0,0,0,0,0,0,0,0,1,1,1,1,1,1,0,0,0,0,0,0,0,0,0,0,0,0,0,0,0,0,0,0,0,0,0,0,0,0,0,0,0,0,0,0,1,0,0,0,0,0,0,0,0,0,0,0,0,0,0,0,0,0,0,0,0,0,0,0,0,0,0,0,0,0,0,0,0,0,0,0,0,0,0,0,0,0,0,0,0,0,0,1,0,0,0,0,0,0,0,0,0,0,0,0,0,0,0,0,0,0,0,0,0,0,0,0,0,0,0,0,0,0,0,0,0,0,0,0,0,0,0,0,0,0,0,0,0,0,0,0,0,0,0,0,0,0,0,0,0,0,0,0,0,0,0,0,0,0,0,0,0,0,0,0,0,0,0,0,0,0,0,0,0,0,0,0,0,0,0,0,0,0,0,0,0,0,0,0,0,0,0,0,0,0,0,0,0,0,0,0,0,0,0,0,0,0,0,0,0,0,0,0,0,0,0,0,0,0,0,0,0,0,0,0,0,0,0,0,0,0,0,0,0,0,0,0,0,0,0,0,0,0,0,0,0,0,0,0,0,0,0,0,0,0,0,0,0,0,0,0,0,0,0,0,0,0,0,0,0,0,0,0,0,0,0,0,0,0,0,0,0,0,0,0,0,0,0,0,0,0,0,0,0,0,0,0,0,0,0,0,0,0,0,0,0,0,0,0,0,0,0,0,0,0,0,0,1,1,0,0,0,0,0,0,0,0,0,0,0,0,0,0,0,0,0,0,0,0,0,0,0,0,0,0,0,0,0,0,0,0,0,0,0,0,0,0,0,0,0,0,0,0,0,0,0,0,0,0,0,0,0,0,0,0,0,0,0,0,0,0,0,0,0,0,0,1,0,0,0,0,0,0,0,0,0,0,0,0,0,0,0,0,0,0,0,0,0,0,0,0,0,0,0,0,0,0,0,0,0,0,1,0,0,0,0,0,0,0,0,0,0,0,0,0,0,0,0,0,0,0,0,0,0,0,0,0,0,0,0,0,0,0,0,0,0,0,0,0,0,0,0,0,0,0,0,0,0,0,0,0,0,0,0,0,0,0,0,0,0,0,0,0,0,0,0,0,0,0,1,1,1,0,0,0,0,0,0,0,0,0,0,0,0,0,0,0,0,0,0,0,0,0,0,0,0,0,0,0,0,0,0,0,0,0,0,0,0,0,0,0,0,0,0,0,0,0,0,0,0,0,0,0,0,0,0,0,0,0,0,0,0,0,0,0,0,0,0,0,0,0,0,0,0,0,0,0,0,0,0,0,0,0,0,1,1,0,0,0,0,0,0,0,0,0,0,0,0,0,0,1,1,0,0,0,0,0,0,0,0,0,0,0,1,1,1,0,0,0,0,1,1,0,0,0,0,0,0,0,0,0,0,0,0,0,0,0,0,0,0,0,0,0,1,0,0,0,0,0,0,0,0,0,0,0,0,0,0,0,0,0,0,0,0,0,0,0,0,0,0],\"coloraxis\":\"coloraxis\",\"symbol\":\"circle\"},\"mode\":\"markers\",\"name\":\"\",\"orientation\":\"v\",\"showlegend\":false,\"x\":[0.3469041056320166,5.115277777777777,10.295702219998686,23.362336794349705,24.581944444444442,44.55541962385555,57.2486111111111,65.87400035812112,73.69305555555556,77.40080177367227,90.19305555555556,100.53659828677586,103.4375,116.7263888888889,137.14722258889896,140.05972222222223,159.99305555555557,160.40909811201362,176.65972222222223,185.39069692719005,199.91527777777782,210.29046808159592,223.0877777777778,238.5864529136231,243.08777777777783,263.17111111111114,263.5878947020598,279.83777777777783,303.09333333333336,319.76000000000005,339.6933333333334,341.68592559443664,359.95832537743195,366.2711111111111,386.20444444444445,394.8421572466101,409.46000000000004,411.45335531893915,436.0377777777778,441.35298342003887,455.9711111111111,462.95050565482074,476.246482199488,485.87111111111113,509.35936998391657,522.1711111111111,530.6649001201445,548.4819768871514,551.3711111111111,566.0997345300776,573.6155555555555,589.2266666666666,589.6042672628723,602.6646922918904,609.1377777777776,615.9540032638489,626.482222222222,631.1929431728502,640.3316291915615,644.782222222222,655.9358587523466,661.0044444444443,663.3129817435881,669.9063190355995,674.1155555555554,681.2488888888887,682.5189099012739,685.6213888888886,688.333324932456,693.0455461612106,696.1563888888886,699.8008333333331,700.781016178065,705.597446434995,707.3998896763428,712.151896126161,718.5189451455443,719.7786111111109,722.5502560996556,723.1674999999998,724.9675353554877,728.0674999999998,729.5686738506311,733.2008333333331,733.6696040637526,739.8674999999997,741.7378430948598,746.3230555555552,746.4208610628509,752.0567631249298,753.5563888888886,759.2360865423952,760.2897222222218,770.4230555555552,771.9181757540946,774.6981159085873,783.2230555555552,785.612450827695,790.6674999999997,794.7458154922703,806.9482397885823,808.3897222222218,816.7230555555552,820.3976660408234,823.6563888888886,830.589722222222,839.2866276639824,845.8786111111108,853.7452777777775,854.9959141099926,863.9119444444442,867.2580343209781,872.2230555555553,885.752412954939,889.9452777777775,903.7452777777776,910.0019401308559,913.5920381886355,927.9166666666664,930.6980893933134,947.9166666666664,948.1688832245754,958.0499999999995,966.0083422931355,976.1722222222218,983.0491307172406,1008.4388888888884,1014.1671256493066,1033.1388888888885,1040.3714270412625,1058.6834413237725,1061.2499999999998,1084.3611111111109,1084.6521624217444,1097.7974914523256,1098.972222222222,1109.5970128482795,1125.672222222222,1137.9463904363865,1149.672222222222,1164.783333333333,1165.0870192563132,1183.1166666666663,1192.7460607782132,1204.7388888888886,1225.3259633705463,1229.6277777777775,1245.7741687736782,1263.2989579817286,1280.8695772592846,1296.3611111111109,1299.9250710461117,1315.361111111111,1328.5089629685915,1337.6055555555554,1344.2456962268807,1353.4987562628332,1362.2277777777776,1378.882599361982,1388.2277777777776,1391.1908904357008,1401.1192714280653,1410.2277777777776,1418.4926647731509,1422.8372511970813,1423.6277777777777,1435.4277777777777,1435.6174270821282,1446.4944444444445,1450.1284290420465,1462.8277777777778,1465.3092385877499,1466.0797442280154,1470.4944444444445,1476.565314993746,1482.138888888889,1483.672876859318,1491.6277777777777,1494.3584260917607,1500.5722222222223,1500.6977371950627,1504.441707220989,1510.636015391668,1513.0166666666667,1520.7833915574608,1523.2388888888888,1526.6260978431333,1531.9217691909544,1533.8166666666666,1536.7015969231645,1544.4761049640258,1546.4166666666665,1553.5277777777776,1562.5944444444444,1572.0611111111111,1574.7167978185698,1584.9189246467215,1589.1722222222224,1596.8701958802897,1610.3166666666668,1613.5402206009069,1618.3166666666668,1630.1732141984803,1642.2494199732125,1644.1833333333336,1655.3500000000001,1663.718662600779,1664.5366666666666,1676.7505210784911,1678.8627777777779,1687.7350245430523,1703.7516666666666,1710.4026923940028,1725.977189883518,1729.6405555555552,1743.0460266760883,1747.9961111111108,1765.8849999999998,1768.666732576467,1780.8849999999998,1783.5467446842977,1795.2492372909448,1797.296111111111,1808.3516666666665,1810.710433448956,1818.8516666666665,1825.0623496305952,1833.73052341761,1838.296111111111,1845.092867531705,1849.5627777777777,1849.747617807078,1860.6466797796293,1865.8627777777776,1873.0627777777775,1875.047524567472,1883.9294444444442,1885.0693346183584,1892.404836190993,1893.0961111111108,1900.5183333333332,1903.572937492531,1906.4148597216122,1917.8183333333332,1922.07736233008,1939.6480959526066,1940.4294444444442,1955.3101185727505,1959.2294444444442,1974.117781527007,1980.1183333333333,1990.5627777777775,1991.8768773869292,2005.418333333333,2014.0405555555556,2014.3123393771484,2025.335315328531,2027.307222222222,2046.2966667197709,2048.407222222222,2076.1915253312723,2088.8626365746995,2096.1183333333333,2106.259076846703,2115.585,2124.8597359500322,2133.362777777778,2141.049425782239,2143.862777777778,2151.2892840622367,2157.6405555555557,2161.700927104342,2169.7294444444447,2171.3081121475507,2176.7294444444447,2185.1800010409443,2185.673888888889,2192.8738888888893,2193.5657983278165,2201.6738888888895,2203.3674488220277,2205.41168398197,2209.7627777777784,2210.3736160711674,2215.496111111112,2216.984149335224,2220.896111111112,2222.7958597309384,2224.4516666666677,2227.1255597879963,2230.362777777779,2231.722357040156,2238.053320807066,2238.807222222223,2245.552782620202,2248.707222222223,2249.3056417538746,2257.707222222223,2260.984692980435,2261.9294444444454,2269.5303664742532,2271.2027777777785,2278.5719444444453,2281.3381001794446,2288.060833333334,2293.4452581217565,2302.0608333333344,2303.04412760186,2309.678737985638,2310.338611111112,2316.9608333333344,2317.9964187568175,2326.0163888888897,2329.09050429002,2344.4054038567997,2348.3830555555564,2364.51219569219,2371.9719444444454,2378.945543687043,2380.9941666666673,2394.9275000000007,2403.6135782143983,2419.4830555555563,2420.9779202847258,2429.483055555557,2441.1787788928837,2447.371944444446,2463.105277777779,2466.082863348311,2473.7275000000013,2483.448455555709,2487.1719444444457,2495.7228767817455,2506.4608333333344,2512.39254074155,2520.4608333333344,2531.6608333333343,2538.705634727795,2544.938611111112,2551.7729882811864,2555.2497222222228,2566.22349600077,2569.3830555555564,2582.849722222223,2588.4170076162573,2597.31638888889,2606.428299625282,2607.149722222223,2616.4830555555563,2624.6018251850055,2630.3038888888896,2632.921528865938,2638.2638888888896,2642.9128565712554,2648.297222222223,2650.406768660579,2652.3241870056854,2657.1638888888897,2662.008333333334,2662.125549300321,2667.56388888889,2669.6875183908332,2673.44385181458,2675.2083333333344,2680.7416666666677,2684.713646748108,2685.875000000001,2690.6750000000006,2693.1360482296627,2693.830555555556,2697.1692937457406,2699.608333333334,2700.4206530256884,2703.386111111112,2704.2435305179833,2710.686111111112,2712.0602755630553,2716.029289152314,2716.8305555555567,2721.3861111111123,2721.9918801626122,2726.497222222223,2731.1022313196795,2735.6527777777787,2740.6892956841025,2741.8194444444457,2746.083159006472,2751.2265977897696,2754.8194444444457,2764.4363493502556,2767.530555555557,2776.405399695986,2781.575000000001,2786.3824672703363,2790.852777777779,2794.9855640483893,2802.786111111112,2807.160142270696,2821.786111111112,2823.1544083405697,2836.5702384968113,2837.475277777779,2855.875277777779,2858.4830248040316,2867.815277777779,2884.0126028776826,2885.004166666668,2902.581944444446,2904.1195905992627,2918.115277777779,2918.3739752316183,2936.237500000001,2937.82228291853,2949.6263888888902,2952.608728367998,2968.8375000000015,2971.925239441482,2983.3298593475643,2994.819928537469,2997.393055555557,3011.6708333333345,3013.401572232758,3026.22638888889,3032.3892604850507,3043.893055555557,3056.0737128970154,3061.7597222222234,3071.102277414635,3089.3510798424268,3092.0930555555574,3110.7722772142047,3123.017603853466,3125.7041666666682,3136.8644255440013,3147.3263888888905,3161.8088311633164,3169.259722222224,3184.9263888888904,3185.3190984686285,3210.170833333335,3212.1440533925515,3218.4555368705837,3229.1041666666683,3234.233816773104,3250.01192021662,3251.1930555555573,3266.859722222224,3277.976877926955,3288.248611111113,3300.337500000002,3303.588201384315,3322.0941666666686,3327.4898604667064,3339.6719444444466,3348.130855874101,3357.837222222224,3360.1782662801675,3374.103888888891,3376.2495760050433,3383.7150000000024,3391.3064002641618,3392.9372222222246,3401.7705555555576,3403.666546332231,3411.903888888891,3416.9270415843052,3421.570555555558,3425.7451314841646,3427.9705555555574,3432.802102462308,3435.7483333333353,3441.373587959427,3449.848333333335,3450.0046558197773,3453.1260864149467,3456.1150000000016,3461.099549011662,3465.8483333333347,3473.4891061824337,3475.848333333335,3480.276636307318,3484.4594444444465,3490.0974890364423,3496.619458353872,3501.0594444444464,3508.5705555555573,3512.6506747510202,3518.2927777777795,3532.6038888888907,3533.913532730585,3541.0927777777792,3543.5447274234944,3554.747265854325,3556.7261111111125,3568.1150000000016,3579.8372222222233,3581.326672236618,3601.7372222222234,3608.2657862709343,3616.737222222224,3632.0038888888903,3636.1941077766937,3650.2688888888906,3653.1547038140725,3674.068888888891,3678.353060174228,3698.201666666668,3706.4817912710473,3711.5350000000017,3719.7472109335567,3724.7572222222243,3735.246111111113,3743.3401621848134,3753.446111111113,3753.703428185468,3768.779444444446,3770.313644591466,3779.0016666666684,3781.790474856361,3791.6127777777797,3795.645157954982,3801.701666666669,3812.0684046595443,3824.5016666666693,3826.0282843028717,3841.3615781234494,3842.3905555555575,3860.51277777778,3860.771999793506,3880.2619353688556,3881.3127777777804,3890.9102086371554,3894.5905555555582,3907.1435365326843,3919.5157640475645,3921.923888888891,3937.42013936429,3948.351232249524,3949.3683333333356,3963.1228600888353,3965.4350000000018,3978.2683333333352,3978.572580518345,3990.9873789257363,3995.1709601074876,4000.0461111111135,4003.323678626989,4016.936912022048,4017.6461111111134,4025.0683333333354,4031.4769591369427,4035.5350000000017,4038.2582944949813,4043.1733950489065,4047.0091666666685,4050.297303869276,4053.2313888888907,4060.9632472886824,4062.2980555555573,4071.0915219284034,4073.7647222222245,4078.728022670557,4084.960483391545,4086.230000000002,4098.7783533104885,4100.896666666668,4104.888386550408,4113.5558640024465,4114.996666666669,4121.641990987323,4124.796666666669,4130.942619222766,4131.641111111114,4138.07438299687,4140.641111111113,4150.085555555557,4156.1562017181805,4164.00777777778,4173.550346088961,4174.396666666668,4183.018888888891,4186.555700302868,4201.152222222225,4201.384544404858,4219.215662263365,4222.552222222224,4238.955271001546,4239.896666666669,4250.331787090827,4252.563333333335,4270.685555555558,4271.015371644066,4292.522207866668,4294.885555555557,4303.313792739035,4313.8633333333355,4319.765506471313,4331.056834329799,4333.541111111113,4343.87788592889,4347.818888888892,4362.610315604161,4365.152222222225,4374.27033485665,4388.618888888892,4391.951553967591,4406.560000000003,4406.859651108193,4420.408187512987,4433.760000000003,4437.111818882668,4449.037777777781,4453.870533753395,4469.279146148033,4479.849444444448,4486.421528532353,4492.382777777781,4502.114806914317,4511.249444444446,4529.037310313436,4530.316111111114,4553.182075403609,4556.093888888891,4569.382809834457,4578.805000000002,4582.383681741524,4603.5850694920155,4618.005000000003,4621.619653824687,4631.160555555558,4643.001665456154,4650.893888888891,4661.086658667221,4674.240473091599,4680.493888888891,4710.520873688695,4713.382777777781,4726.4050000000025,4726.810087823239,4748.805000000002,4750.756225499437,4765.917148942042,4767.005000000002,4780.893888888891,4791.516111111113,4794.316015069766,4807.693888888891,4816.491524834414,4818.249444444446,4827.705402173756,4829.249444444446,4837.2317891968305,4837.860555555557,4845.971666666668,4851.618376304871,4853.693888888891,4858.9620495934005,4866.5918587578635,4867.840277777779,4873.52935233126,4876.1069444444465,4880.822478227364,4885.9099863569745,4887.706944444447,4892.994781077345,4894.206944444447,4898.93289352665,4903.506944444447,4907.06954256863,4909.018055555558,4917.0564917387055,4919.129166666669,4921.529351778625,4930.85841851477,4933.129166666669,4939.1420996403685,4945.029166666669,4951.459858461467,4955.829166666669,4963.206944444447,4964.319294495271,4972.595833333336,4976.731801314509,4982.651388888891,4994.701796892253,5005.941473355011,5006.851388888891,5017.429793726552,5030.184722222225,5037.771015997072,5054.851388888891,5057.668810127816,5071.550297630315,5072.506944444447,5082.818055555559,5093.74577207155,5101.840791501944,5106.9180555555595,5123.2513888888925,5124.959553123538,5134.22916666667,5142.9577767260835,5156.806944444448,5161.461039574521,5174.443936719974,5182.806944444448,5196.368471431007,5197.473611111114,5215.347777777782,5217.141328324133,5236.425555555558,5238.24662879069,5258.105292564206,5260.8700000000035,5281.1634043093045,5285.581111111114,5298.251198100982,5301.13666666667,5316.725000000003,5317.039691960357,5331.240917901707,5332.502777777781,5350.166608291757,5351.436111111114,5367.744886454726,5370.636111111115,5374.012154901524],\"xaxis\":\"x\",\"y\":[289.078124,290.0,290.53333333333336,291.8750016,292.0,293.22499968,294.0,295.05000192,296.0,296.22499968,297.0,297.7812496,298.0,299.0,299.8749997714286,300.0,299.0,299.02499968,300.0,299.62499931428573,299.0,299.0,299.0,299.77500053333335,300.0,300.0,300.0,300.0,299.0,300.0,299.0,299.0,299.0,299.0,299.0,299.0,299.0,299.0,299.0,299.0,299.0,299.0,299.0,299.0,297.7090909090909,297.0,295.55555555555554,292.5,292.0,288.03571017142855,286.0,281.0,280.55357714285714,264.4821257142857,256.0,243.62497737142857,223.0,213.55556266666667,193.55553422222224,183.0,158.48748224,146.0,141.44998656,127.44998656,118.0,107.0,104.73585318808425,99.0,95.87527921999516,89.97958675440715,86.0,82.0,81.22413903448276,77.086208,75.36206565517242,70.20689655172414,63.310344827586206,62.0,61.18,61.0,61.74285714285714,63.0,63.9,66.0,66.675,75.0,77.4,83.0,83.14285714285714,91.0,93.0,99.8,101.0,114.0,115.71111111111111,118.82222222222222,128.0,129.95000576,134.0,136.6250048,144.1249984,145.0,150.0,153.1874976,156.0,156.0,165.2500096,172.0,177.0,177.75000576,183.0,184.6250048,187.0,196.98432140753425,200.0,207.0,209.64339513510546,211.13964834149002,217.0,218.1249984,225.0,225.075,228.0,230.21428571428572,233.0,234.95,242.0,243.16666666666666,247.0,248.56,252.46,253.0,260.0,260.06,262.76,263.0,264.6,267.0,268.5375,270.0,272.0,272.05,275.0,276.33928502857145,278.0,279.6562512,280.0,281.4642852571429,283.0357156571429,284.6071424,286.0,285.8125002666667,285.0,285.5892854857143,286.0,283.6093768,280.2343768,277.0,266.3749909333333,260.0,255.0000071111111,237.22222933333333,220.0,208.52081813333334,202.1874848,201.0,177.0,176.81666666666666,166.0,162.01,147.0,144.12,143.22,138.0,134.4125,131.0,129.5857142857143,122.0,119.9,115.0,114.97,114.07,112.57,112.0,114.2875,115.0,116.3,118.3,119.0,120.63333333333334,124.93055928888889,126.0,128.0,136.0,142.0,143.95000576,151.15000576,154.0,161.12499723636364,173.0,175.8437584,180.0,186.5625056,192.9791648,194.0,201.0,207.38365368205135,208.0,213.12862888063174,214.0,217.6250048,224.0,226.34,231.74,233.0,235.18571428571428,236.0,230.0,229.08333333333334,225.0,222.8,212.8,211.0,199.0,196.8,189.0,184.66,178.36,175.0,171.4,169.0,168.93333333333334,164.93333333333334,163.0,162.0,162.18333333333334,163.0,163.25000192,164.85000192,165.0,167.0,168.08333653333332,169.08333226666667,173.0,175.31818007272727,184.59091432727274,185.0,187.37499946666668,188.0,188.0,188.0,188.0,188.2678592,191.0,194.0,194.10416533333333,198.270832,199.0,209.8333312,211.0,219.76315789473685,223.71052631578948,226.0,222.4125,219.0,209.2625,200.0,192.08,189.0,171.575,155.0,148.825,136.0,133.8,126.0,115.62857142857143,115.0,108.0,107.325,99.0,97.3749952,95.3749952,91.0,90.47916266666667,86.0,84.64582933333334,81.0,80.4687504,80.0,78.21428662857143,76.0,76.0,76.0,76.0,79.46591127272727,81.0,81.6250048,90.0,93.906248,95.0,102.42990748117683,104.0,111.0,114.3392832,122.0,129.2,140.0,141.08,148.28,149.0,149.0,150.68,163.0,165.9090909090909,179.54545454545456,183.0,189.9090909090909,193.0,200.75,203.0,209.0,213.32,221.0,221.6,225.0,228.28571428571428,230.0,236.0,236.8437488,239.0,241.17500288,242.0,244.67857005714285,248.0,249.69999872,252.0,252.0,245.17498752,239.0,234.4062416,232.0,216.58331733333333,212.0,202.0,195.99998902857143,186.0,177.67499136,177.0,168.0,160.50778486761777,155.0,151.4623081445385,144.0,137.30357485714285,129.0,125.57142857142857,122.35714285714286,114.0,109.0,108.82,100.0,96.325,89.325,86.0,83.0,78.4,77.0,72.0,71.225,71.0,67.55,65.0,65.66,68.0,68.61111111111111,73.0,74.37142857142857,78.22857142857143,79.0,82.0,83.2500096,92.0,97.6718728,103.0,109.59999744,111.0,117.59721884444444,124.98612124444445,130.0,139.9531224,143.0,152.609372,158.0,162.72500864,167.0,171.2499968,179.0,181.59722026666665,190.0,190.97865453415776,200.37366590838485,201.0,207.0,208.98994009079647,216.0,220.71428571428572,221.0,226.0,226.7,233.0,233.0,233.0,233.96,241.0,241.94285714285715,247.0,248.1,252.1,256.1,257.0,257.0,257.6,262.0,263.05,265.0,267.05,268.0,269.55,272.55,273.0,274.1136360727273,274.8409088,275.0,276.5535734857143,278.0,280.6428598857143,282.0,282.0,282.0312496,284.0,284.0,284.0,284.0,284.0,284.0,284.0,282.0,278.3749952,275.0,272.0,268.0747742854933,244.0,238.60001645714286,226.0,216.52037046994084,205.0,201.975,183.0,180.8,173.0,167.26,166.0,159.0,157.71666666666667,152.0,148.38333333333333,145.0,144.35,144.0,141.52,140.0,140.4,141.0,141.0,141.0,141.0,143.58333333333334,146.0,149.06666666666666,150.0,152.6,155.0,158.81944248888888,163.0972280888889,166.0,169.0,171.54999808,175.0,184.0,185.0937584,191.0,192.60714057142857,199.7499977142857,201.0,205.0,211.0,211.55555982222222,219.0,221.6250048,225.0,229.0,230.156586255998,234.0,234.48888604444446,238.0,238.71309230338085,242.0,240.76,240.0,238.76,238.0,236.0,235.11428571428573,234.0,233.93333333333334,230.0,230.0,230.0,229.34,227.0,227.0,227.0,227.45555555555555,228.0,228.17142857142858,229.88571428571427,230.0,233.0,233.0125,233.95,234.0,237.6250048,239.0,242.23750336,245.38749888,246.0,246.56250048,246.96250048,247.0,241.8750016,241.0,231.0,230.5625056,211.3124832,204.3124832,196.0,192.38887822222222,176.83332266666667,176.0,167.0,160.95832533333333,157.0,154.68682748800398,150.41636777244622,147.0,143.3250112,140.0,136.60000426666667,136.0,130.6625056,129.0,127.40668652391034,125.40111442065172,125.0,131.02,132.0,134.6,140.1,141.0,145.1,147.0,153.3,154.0,159.76,162.0,170.0,173.9857142857143,179.0,186.36,187.0,194.0,196.0,204.0,204.11111111111111,212.47222755555555,214.0,222.5178633142857,223.0,227.1249984,228.0,233.0,233.1249984,241.1249984,242.0,242.8928566857143,244.0,246.7321408,251.87499794285714,253.0,255.90000384,257.0,259.5624992,260.0,261.5624992,264.0,264.74688630953455,268.0,268.0444416,270.0444444444444,272.0,272.65999616,275.0,275.473682994855,276.9774431169651,278.0,280.1,282.0,282.51666666666665,283.0,285.8,286.0,289.55,290.0,291.1714285714286,292.0,292.18333333333334,293.26666666666665,294.0,294.55,296.0,296.0,296.0,296.0,296.0,296.0,296.0,296.0,293.0,292.91071542857145,288.0,286.437488,273.937488,273.0,250.0,239.0,234.01786422857143,208.0,193.15000576,190.0,168.64584,165.0,155.7499904,155.0,146.0,140.92499328,139.0,134.66084421226412,128.07731387819385,127.0,124.9500032,124.0,120.8,117.24444444444444,116.0,116.81499904,117.0,118.53763340224234,120.0,122.6,124.0,128.8,130.0,131.77777777777777,138.44444444444446,140.0,146.68571428571428,153.0,158.4,162.0,166.0,166.36,169.0,174.04,181.0,189.65454545454546,197.38181818181818,198.0,203.52,210.0,213.74999808,222.0,222.80357028571427,226.7321462857143,227.0,232.0,236.1249984,239.1249984,241.0,245.0,245.3125024,247.0,249.7343736,254.0,255.08333653333332,258.0833322666667,260.0,263.70000384,264.0,267.0,267.34285714285716,271.0,271.3,274.5499968,275.0,277.4656232,278.0,279.62999808,280.0,282.0,282.04,283.84,284.0,284.0,284.0,287.4,288.0,288.35000106666666],\"yaxis\":\"y\",\"type\":\"scatter\"}],                        {\"template\":{\"data\":{\"histogram2dcontour\":[{\"type\":\"histogram2dcontour\",\"colorbar\":{\"outlinewidth\":0,\"ticks\":\"\"},\"colorscale\":[[0.0,\"#0d0887\"],[0.1111111111111111,\"#46039f\"],[0.2222222222222222,\"#7201a8\"],[0.3333333333333333,\"#9c179e\"],[0.4444444444444444,\"#bd3786\"],[0.5555555555555556,\"#d8576b\"],[0.6666666666666666,\"#ed7953\"],[0.7777777777777778,\"#fb9f3a\"],[0.8888888888888888,\"#fdca26\"],[1.0,\"#f0f921\"]]}],\"choropleth\":[{\"type\":\"choropleth\",\"colorbar\":{\"outlinewidth\":0,\"ticks\":\"\"}}],\"histogram2d\":[{\"type\":\"histogram2d\",\"colorbar\":{\"outlinewidth\":0,\"ticks\":\"\"},\"colorscale\":[[0.0,\"#0d0887\"],[0.1111111111111111,\"#46039f\"],[0.2222222222222222,\"#7201a8\"],[0.3333333333333333,\"#9c179e\"],[0.4444444444444444,\"#bd3786\"],[0.5555555555555556,\"#d8576b\"],[0.6666666666666666,\"#ed7953\"],[0.7777777777777778,\"#fb9f3a\"],[0.8888888888888888,\"#fdca26\"],[1.0,\"#f0f921\"]]}],\"heatmap\":[{\"type\":\"heatmap\",\"colorbar\":{\"outlinewidth\":0,\"ticks\":\"\"},\"colorscale\":[[0.0,\"#0d0887\"],[0.1111111111111111,\"#46039f\"],[0.2222222222222222,\"#7201a8\"],[0.3333333333333333,\"#9c179e\"],[0.4444444444444444,\"#bd3786\"],[0.5555555555555556,\"#d8576b\"],[0.6666666666666666,\"#ed7953\"],[0.7777777777777778,\"#fb9f3a\"],[0.8888888888888888,\"#fdca26\"],[1.0,\"#f0f921\"]]}],\"heatmapgl\":[{\"type\":\"heatmapgl\",\"colorbar\":{\"outlinewidth\":0,\"ticks\":\"\"},\"colorscale\":[[0.0,\"#0d0887\"],[0.1111111111111111,\"#46039f\"],[0.2222222222222222,\"#7201a8\"],[0.3333333333333333,\"#9c179e\"],[0.4444444444444444,\"#bd3786\"],[0.5555555555555556,\"#d8576b\"],[0.6666666666666666,\"#ed7953\"],[0.7777777777777778,\"#fb9f3a\"],[0.8888888888888888,\"#fdca26\"],[1.0,\"#f0f921\"]]}],\"contourcarpet\":[{\"type\":\"contourcarpet\",\"colorbar\":{\"outlinewidth\":0,\"ticks\":\"\"}}],\"contour\":[{\"type\":\"contour\",\"colorbar\":{\"outlinewidth\":0,\"ticks\":\"\"},\"colorscale\":[[0.0,\"#0d0887\"],[0.1111111111111111,\"#46039f\"],[0.2222222222222222,\"#7201a8\"],[0.3333333333333333,\"#9c179e\"],[0.4444444444444444,\"#bd3786\"],[0.5555555555555556,\"#d8576b\"],[0.6666666666666666,\"#ed7953\"],[0.7777777777777778,\"#fb9f3a\"],[0.8888888888888888,\"#fdca26\"],[1.0,\"#f0f921\"]]}],\"surface\":[{\"type\":\"surface\",\"colorbar\":{\"outlinewidth\":0,\"ticks\":\"\"},\"colorscale\":[[0.0,\"#0d0887\"],[0.1111111111111111,\"#46039f\"],[0.2222222222222222,\"#7201a8\"],[0.3333333333333333,\"#9c179e\"],[0.4444444444444444,\"#bd3786\"],[0.5555555555555556,\"#d8576b\"],[0.6666666666666666,\"#ed7953\"],[0.7777777777777778,\"#fb9f3a\"],[0.8888888888888888,\"#fdca26\"],[1.0,\"#f0f921\"]]}],\"mesh3d\":[{\"type\":\"mesh3d\",\"colorbar\":{\"outlinewidth\":0,\"ticks\":\"\"}}],\"scatter\":[{\"fillpattern\":{\"fillmode\":\"overlay\",\"size\":10,\"solidity\":0.2},\"type\":\"scatter\"}],\"parcoords\":[{\"type\":\"parcoords\",\"line\":{\"colorbar\":{\"outlinewidth\":0,\"ticks\":\"\"}}}],\"scatterpolargl\":[{\"type\":\"scatterpolargl\",\"marker\":{\"colorbar\":{\"outlinewidth\":0,\"ticks\":\"\"}}}],\"bar\":[{\"error_x\":{\"color\":\"#2a3f5f\"},\"error_y\":{\"color\":\"#2a3f5f\"},\"marker\":{\"line\":{\"color\":\"#E5ECF6\",\"width\":0.5},\"pattern\":{\"fillmode\":\"overlay\",\"size\":10,\"solidity\":0.2}},\"type\":\"bar\"}],\"scattergeo\":[{\"type\":\"scattergeo\",\"marker\":{\"colorbar\":{\"outlinewidth\":0,\"ticks\":\"\"}}}],\"scatterpolar\":[{\"type\":\"scatterpolar\",\"marker\":{\"colorbar\":{\"outlinewidth\":0,\"ticks\":\"\"}}}],\"histogram\":[{\"marker\":{\"pattern\":{\"fillmode\":\"overlay\",\"size\":10,\"solidity\":0.2}},\"type\":\"histogram\"}],\"scattergl\":[{\"type\":\"scattergl\",\"marker\":{\"colorbar\":{\"outlinewidth\":0,\"ticks\":\"\"}}}],\"scatter3d\":[{\"type\":\"scatter3d\",\"line\":{\"colorbar\":{\"outlinewidth\":0,\"ticks\":\"\"}},\"marker\":{\"colorbar\":{\"outlinewidth\":0,\"ticks\":\"\"}}}],\"scattermapbox\":[{\"type\":\"scattermapbox\",\"marker\":{\"colorbar\":{\"outlinewidth\":0,\"ticks\":\"\"}}}],\"scatterternary\":[{\"type\":\"scatterternary\",\"marker\":{\"colorbar\":{\"outlinewidth\":0,\"ticks\":\"\"}}}],\"scattercarpet\":[{\"type\":\"scattercarpet\",\"marker\":{\"colorbar\":{\"outlinewidth\":0,\"ticks\":\"\"}}}],\"carpet\":[{\"aaxis\":{\"endlinecolor\":\"#2a3f5f\",\"gridcolor\":\"white\",\"linecolor\":\"white\",\"minorgridcolor\":\"white\",\"startlinecolor\":\"#2a3f5f\"},\"baxis\":{\"endlinecolor\":\"#2a3f5f\",\"gridcolor\":\"white\",\"linecolor\":\"white\",\"minorgridcolor\":\"white\",\"startlinecolor\":\"#2a3f5f\"},\"type\":\"carpet\"}],\"table\":[{\"cells\":{\"fill\":{\"color\":\"#EBF0F8\"},\"line\":{\"color\":\"white\"}},\"header\":{\"fill\":{\"color\":\"#C8D4E3\"},\"line\":{\"color\":\"white\"}},\"type\":\"table\"}],\"barpolar\":[{\"marker\":{\"line\":{\"color\":\"#E5ECF6\",\"width\":0.5},\"pattern\":{\"fillmode\":\"overlay\",\"size\":10,\"solidity\":0.2}},\"type\":\"barpolar\"}],\"pie\":[{\"automargin\":true,\"type\":\"pie\"}]},\"layout\":{\"autotypenumbers\":\"strict\",\"colorway\":[\"#636efa\",\"#EF553B\",\"#00cc96\",\"#ab63fa\",\"#FFA15A\",\"#19d3f3\",\"#FF6692\",\"#B6E880\",\"#FF97FF\",\"#FECB52\"],\"font\":{\"color\":\"#2a3f5f\"},\"hovermode\":\"closest\",\"hoverlabel\":{\"align\":\"left\"},\"paper_bgcolor\":\"white\",\"plot_bgcolor\":\"#E5ECF6\",\"polar\":{\"bgcolor\":\"#E5ECF6\",\"angularaxis\":{\"gridcolor\":\"white\",\"linecolor\":\"white\",\"ticks\":\"\"},\"radialaxis\":{\"gridcolor\":\"white\",\"linecolor\":\"white\",\"ticks\":\"\"}},\"ternary\":{\"bgcolor\":\"#E5ECF6\",\"aaxis\":{\"gridcolor\":\"white\",\"linecolor\":\"white\",\"ticks\":\"\"},\"baxis\":{\"gridcolor\":\"white\",\"linecolor\":\"white\",\"ticks\":\"\"},\"caxis\":{\"gridcolor\":\"white\",\"linecolor\":\"white\",\"ticks\":\"\"}},\"coloraxis\":{\"colorbar\":{\"outlinewidth\":0,\"ticks\":\"\"}},\"colorscale\":{\"sequential\":[[0.0,\"#0d0887\"],[0.1111111111111111,\"#46039f\"],[0.2222222222222222,\"#7201a8\"],[0.3333333333333333,\"#9c179e\"],[0.4444444444444444,\"#bd3786\"],[0.5555555555555556,\"#d8576b\"],[0.6666666666666666,\"#ed7953\"],[0.7777777777777778,\"#fb9f3a\"],[0.8888888888888888,\"#fdca26\"],[1.0,\"#f0f921\"]],\"sequentialminus\":[[0.0,\"#0d0887\"],[0.1111111111111111,\"#46039f\"],[0.2222222222222222,\"#7201a8\"],[0.3333333333333333,\"#9c179e\"],[0.4444444444444444,\"#bd3786\"],[0.5555555555555556,\"#d8576b\"],[0.6666666666666666,\"#ed7953\"],[0.7777777777777778,\"#fb9f3a\"],[0.8888888888888888,\"#fdca26\"],[1.0,\"#f0f921\"]],\"diverging\":[[0,\"#8e0152\"],[0.1,\"#c51b7d\"],[0.2,\"#de77ae\"],[0.3,\"#f1b6da\"],[0.4,\"#fde0ef\"],[0.5,\"#f7f7f7\"],[0.6,\"#e6f5d0\"],[0.7,\"#b8e186\"],[0.8,\"#7fbc41\"],[0.9,\"#4d9221\"],[1,\"#276419\"]]},\"xaxis\":{\"gridcolor\":\"white\",\"linecolor\":\"white\",\"ticks\":\"\",\"title\":{\"standoff\":15},\"zerolinecolor\":\"white\",\"automargin\":true,\"zerolinewidth\":2},\"yaxis\":{\"gridcolor\":\"white\",\"linecolor\":\"white\",\"ticks\":\"\",\"title\":{\"standoff\":15},\"zerolinecolor\":\"white\",\"automargin\":true,\"zerolinewidth\":2},\"scene\":{\"xaxis\":{\"backgroundcolor\":\"#E5ECF6\",\"gridcolor\":\"white\",\"linecolor\":\"white\",\"showbackground\":true,\"ticks\":\"\",\"zerolinecolor\":\"white\",\"gridwidth\":2},\"yaxis\":{\"backgroundcolor\":\"#E5ECF6\",\"gridcolor\":\"white\",\"linecolor\":\"white\",\"showbackground\":true,\"ticks\":\"\",\"zerolinecolor\":\"white\",\"gridwidth\":2},\"zaxis\":{\"backgroundcolor\":\"#E5ECF6\",\"gridcolor\":\"white\",\"linecolor\":\"white\",\"showbackground\":true,\"ticks\":\"\",\"zerolinecolor\":\"white\",\"gridwidth\":2}},\"shapedefaults\":{\"line\":{\"color\":\"#2a3f5f\"}},\"annotationdefaults\":{\"arrowcolor\":\"#2a3f5f\",\"arrowhead\":0,\"arrowwidth\":1},\"geo\":{\"bgcolor\":\"white\",\"landcolor\":\"#E5ECF6\",\"subunitcolor\":\"white\",\"showland\":true,\"showlakes\":true,\"lakecolor\":\"white\"},\"title\":{\"x\":0.05},\"mapbox\":{\"style\":\"light\"}}},\"xaxis\":{\"anchor\":\"y\",\"domain\":[0.0,1.0],\"title\":{\"text\":\"Distance\"}},\"yaxis\":{\"anchor\":\"x\",\"domain\":[0.0,1.0],\"title\":{\"text\":\"Speed\"}},\"coloraxis\":{\"colorbar\":{\"title\":{\"text\":\"Anomaly_LOF\"}},\"colorscale\":[[0.0,\"#0d0887\"],[0.1111111111111111,\"#46039f\"],[0.2222222222222222,\"#7201a8\"],[0.3333333333333333,\"#9c179e\"],[0.4444444444444444,\"#bd3786\"],[0.5555555555555556,\"#d8576b\"],[0.6666666666666666,\"#ed7953\"],[0.7777777777777778,\"#fb9f3a\"],[0.8888888888888888,\"#fdca26\"],[1.0,\"#f0f921\"]]},\"legend\":{\"tracegroupgap\":0},\"title\":{\"text\":\"Anomaly Detection with LOF\"}},                        {\"responsive\": true}                    ).then(function(){\n",
              "                            \n",
              "var gd = document.getElementById('071e689e-bc09-41cb-aacc-dcfb073a9fe5');\n",
              "var x = new MutationObserver(function (mutations, observer) {{\n",
              "        var display = window.getComputedStyle(gd).display;\n",
              "        if (!display || display === 'none') {{\n",
              "            console.log([gd, 'removed!']);\n",
              "            Plotly.purge(gd);\n",
              "            observer.disconnect();\n",
              "        }}\n",
              "}});\n",
              "\n",
              "// Listen for the removal of the full notebook cells\n",
              "var notebookContainer = gd.closest('#notebook-container');\n",
              "if (notebookContainer) {{\n",
              "    x.observe(notebookContainer, {childList: true});\n",
              "}}\n",
              "\n",
              "// Listen for the clearing of the current output cell\n",
              "var outputEl = gd.closest('.output');\n",
              "if (outputEl) {{\n",
              "    x.observe(outputEl, {childList: true});\n",
              "}}\n",
              "\n",
              "                        })                };                            </script>        </div>\n",
              "</body>\n",
              "</html>"
            ]
          },
          "metadata": {}
        }
      ]
    },
    {
      "cell_type": "code",
      "source": [
        "from sklearn.svm import OneClassSVM\n",
        "\n",
        "# Train OCSVM model\n",
        "ocsvm = OneClassSVM(nu=0.05)  # Adjust nu as needed\n",
        "ocsvm_predictions = ocsvm.fit_predict(data[features])\n",
        "data['Anomaly_OCSVM'] = ocsvm_predictions\n",
        "data['Anomaly_OCSVM'] = data['Anomaly_OCSVM'].map({1: 0, -1: 1})  # Map -1 to 1 for anomaly\n",
        "\n",
        "# Visualize OCSVM results with Plotly\n",
        "fig = px.scatter(data, x='Distance', y='Speed', color='Anomaly_OCSVM', title='Anomaly Detection with OCSVM')\n",
        "fig.show()"
      ],
      "metadata": {
        "colab": {
          "base_uri": "https://localhost:8080/",
          "height": 834
        },
        "id": "r1gfW_cugDUE",
        "outputId": "55b00d63-fd2b-4220-b7af-1ea19c3e54fd"
      },
      "execution_count": 20,
      "outputs": [
        {
          "output_type": "stream",
          "name": "stderr",
          "text": [
            "<ipython-input-20-a8adca725804>:6: SettingWithCopyWarning:\n",
            "\n",
            "\n",
            "A value is trying to be set on a copy of a slice from a DataFrame.\n",
            "Try using .loc[row_indexer,col_indexer] = value instead\n",
            "\n",
            "See the caveats in the documentation: https://pandas.pydata.org/pandas-docs/stable/user_guide/indexing.html#returning-a-view-versus-a-copy\n",
            "\n",
            "<ipython-input-20-a8adca725804>:7: SettingWithCopyWarning:\n",
            "\n",
            "\n",
            "A value is trying to be set on a copy of a slice from a DataFrame.\n",
            "Try using .loc[row_indexer,col_indexer] = value instead\n",
            "\n",
            "See the caveats in the documentation: https://pandas.pydata.org/pandas-docs/stable/user_guide/indexing.html#returning-a-view-versus-a-copy\n",
            "\n"
          ]
        },
        {
          "output_type": "display_data",
          "data": {
            "text/html": [
              "<html>\n",
              "<head><meta charset=\"utf-8\" /></head>\n",
              "<body>\n",
              "    <div>            <script src=\"https://cdnjs.cloudflare.com/ajax/libs/mathjax/2.7.5/MathJax.js?config=TeX-AMS-MML_SVG\"></script><script type=\"text/javascript\">if (window.MathJax && window.MathJax.Hub && window.MathJax.Hub.Config) {window.MathJax.Hub.Config({SVG: {font: \"STIX-Web\"}});}</script>                <script type=\"text/javascript\">window.PlotlyConfig = {MathJaxConfig: 'local'};</script>\n",
              "        <script charset=\"utf-8\" src=\"https://cdn.plot.ly/plotly-2.35.2.min.js\"></script>                <div id=\"1a8cd4b0-8cae-4208-ba6d-b3390ade90ae\" class=\"plotly-graph-div\" style=\"height:525px; width:100%;\"></div>            <script type=\"text/javascript\">                                    window.PLOTLYENV=window.PLOTLYENV || {};                                    if (document.getElementById(\"1a8cd4b0-8cae-4208-ba6d-b3390ade90ae\")) {                    Plotly.newPlot(                        \"1a8cd4b0-8cae-4208-ba6d-b3390ade90ae\",                        [{\"hovertemplate\":\"Distance=%{x}\\u003cbr\\u003eSpeed=%{y}\\u003cbr\\u003eAnomaly_OCSVM=%{marker.color}\\u003cextra\\u003e\\u003c\\u002fextra\\u003e\",\"legendgroup\":\"\",\"marker\":{\"color\":[0,0,0,0,0,0,0,0,1,1,1,1,1,0,0,1,0,0,0,0,0,0,0,0,0,0,0,0,0,0,0,0,0,0,0,0,0,0,0,0,0,0,0,0,0,0,0,0,0,0,0,0,0,0,0,0,0,0,0,0,0,0,0,0,0,0,0,0,0,0,0,0,0,0,0,1,1,1,1,1,1,1,1,0,0,0,0,0,0,0,0,0,0,0,0,0,0,0,0,0,0,0,0,0,0,0,0,0,0,0,0,1,1,0,0,0,0,0,0,0,0,0,0,0,0,0,0,0,0,0,0,0,0,0,0,0,0,0,0,0,0,0,0,0,0,0,0,0,0,0,0,0,0,0,0,0,0,0,0,0,0,0,0,0,0,0,0,0,0,0,0,0,0,0,0,0,0,0,0,0,0,0,0,0,0,0,0,0,0,0,0,0,0,0,0,0,0,0,0,0,0,0,0,0,0,0,0,0,0,0,0,0,0,0,0,0,0,0,0,0,0,0,0,0,0,0,0,0,0,0,0,0,0,0,0,0,0,0,0,0,0,0,0,0,0,0,0,0,0,0,0,0,0,0,0,0,0,0,0,0,0,0,0,0,0,0,0,0,0,0,0,0,0,0,0,0,0,0,0,0,0,0,0,0,0,0,0,1,1,1,1,1,1,0,0,0,0,0,0,0,0,0,0,0,0,0,0,0,0,0,0,0,0,0,0,0,0,0,0,0,0,0,0,0,0,0,0,0,0,0,0,0,0,0,0,0,0,0,0,0,0,0,0,0,0,0,0,0,0,0,0,0,0,0,0,0,0,0,0,0,0,0,0,0,0,0,0,0,0,0,0,0,0,0,0,0,0,0,0,0,0,0,0,0,0,0,0,0,0,0,0,0,0,0,0,0,0,0,0,0,0,0,0,0,0,0,0,0,0,0,0,0,0,0,0,0,0,0,0,0,0,0,0,0,0,0,0,0,0,0,0,0,0,0,0,0,0,0,0,0,0,0,0,0,0,0,0,0,0,0,0,0,0,0,0,0,0,0,0,0,0,0,0,0,0,0,0,0,0,0,0,0,0,0,0,0,0,0,0,0,0,0,0,0,0,0,0,0,0,0,0,0,0,0,0,0,0,0,0,0,0,0,0,0,0,0,0,0,0,0,0,0,0,0,0,0,0,0,0,0,0,0,0,0,0,0,0,0,0,0,0,0,0,0,0,0,0,0,0,0,0,0,0,0,0,0,0,0,0,0,0,0,0,0,0,0,0,0,0,0,0,0,0,0,0,0,0,0,0,0,0,0,0,0,0,0,0,0,0,0,0,0,0,0,0,0,0,0,0,0,0,0,0,0,0,0,0,0,0,0,0,0,0,0,0,0,0,0,0,0,0,0,0,0,0,0,0,0,0,0,0,0,0,0,0,0,0,0,0,0,0,0,0,0,0,0,0,0,0,0,0,0,0,0,0,0,0,0,0,0,0,0,0,0,0,0,0,0,0,0,0,0,0,0,0,0,0,0,0,0,0,0,0,0,0,0,0,1,1,0,0,0,0,1,0,0,0,0,1,0,0,0,0,0,0,0,0,1,1,1,1,1,0,0,0,0,0,0,0,0,1,1,1,1,1,1,0,0,0,0,0,0,0,0,0,0,0],\"coloraxis\":\"coloraxis\",\"symbol\":\"circle\"},\"mode\":\"markers\",\"name\":\"\",\"orientation\":\"v\",\"showlegend\":false,\"x\":[0.3469041056320166,5.115277777777777,10.295702219998686,23.362336794349705,24.581944444444442,44.55541962385555,57.2486111111111,65.87400035812112,73.69305555555556,77.40080177367227,90.19305555555556,100.53659828677586,103.4375,116.7263888888889,137.14722258889896,140.05972222222223,159.99305555555557,160.40909811201362,176.65972222222223,185.39069692719005,199.91527777777782,210.29046808159592,223.0877777777778,238.5864529136231,243.08777777777783,263.17111111111114,263.5878947020598,279.83777777777783,303.09333333333336,319.76000000000005,339.6933333333334,341.68592559443664,359.95832537743195,366.2711111111111,386.20444444444445,394.8421572466101,409.46000000000004,411.45335531893915,436.0377777777778,441.35298342003887,455.9711111111111,462.95050565482074,476.246482199488,485.87111111111113,509.35936998391657,522.1711111111111,530.6649001201445,548.4819768871514,551.3711111111111,566.0997345300776,573.6155555555555,589.2266666666666,589.6042672628723,602.6646922918904,609.1377777777776,615.9540032638489,626.482222222222,631.1929431728502,640.3316291915615,644.782222222222,655.9358587523466,661.0044444444443,663.3129817435881,669.9063190355995,674.1155555555554,681.2488888888887,682.5189099012739,685.6213888888886,688.333324932456,693.0455461612106,696.1563888888886,699.8008333333331,700.781016178065,705.597446434995,707.3998896763428,712.151896126161,718.5189451455443,719.7786111111109,722.5502560996556,723.1674999999998,724.9675353554877,728.0674999999998,729.5686738506311,733.2008333333331,733.6696040637526,739.8674999999997,741.7378430948598,746.3230555555552,746.4208610628509,752.0567631249298,753.5563888888886,759.2360865423952,760.2897222222218,770.4230555555552,771.9181757540946,774.6981159085873,783.2230555555552,785.612450827695,790.6674999999997,794.7458154922703,806.9482397885823,808.3897222222218,816.7230555555552,820.3976660408234,823.6563888888886,830.589722222222,839.2866276639824,845.8786111111108,853.7452777777775,854.9959141099926,863.9119444444442,867.2580343209781,872.2230555555553,885.752412954939,889.9452777777775,903.7452777777776,910.0019401308559,913.5920381886355,927.9166666666664,930.6980893933134,947.9166666666664,948.1688832245754,958.0499999999995,966.0083422931355,976.1722222222218,983.0491307172406,1008.4388888888884,1014.1671256493066,1033.1388888888885,1040.3714270412625,1058.6834413237725,1061.2499999999998,1084.3611111111109,1084.6521624217444,1097.7974914523256,1098.972222222222,1109.5970128482795,1125.672222222222,1137.9463904363865,1149.672222222222,1164.783333333333,1165.0870192563132,1183.1166666666663,1192.7460607782132,1204.7388888888886,1225.3259633705463,1229.6277777777775,1245.7741687736782,1263.2989579817286,1280.8695772592846,1296.3611111111109,1299.9250710461117,1315.361111111111,1328.5089629685915,1337.6055555555554,1344.2456962268807,1353.4987562628332,1362.2277777777776,1378.882599361982,1388.2277777777776,1391.1908904357008,1401.1192714280653,1410.2277777777776,1418.4926647731509,1422.8372511970813,1423.6277777777777,1435.4277777777777,1435.6174270821282,1446.4944444444445,1450.1284290420465,1462.8277777777778,1465.3092385877499,1466.0797442280154,1470.4944444444445,1476.565314993746,1482.138888888889,1483.672876859318,1491.6277777777777,1494.3584260917607,1500.5722222222223,1500.6977371950627,1504.441707220989,1510.636015391668,1513.0166666666667,1520.7833915574608,1523.2388888888888,1526.6260978431333,1531.9217691909544,1533.8166666666666,1536.7015969231645,1544.4761049640258,1546.4166666666665,1553.5277777777776,1562.5944444444444,1572.0611111111111,1574.7167978185698,1584.9189246467215,1589.1722222222224,1596.8701958802897,1610.3166666666668,1613.5402206009069,1618.3166666666668,1630.1732141984803,1642.2494199732125,1644.1833333333336,1655.3500000000001,1663.718662600779,1664.5366666666666,1676.7505210784911,1678.8627777777779,1687.7350245430523,1703.7516666666666,1710.4026923940028,1725.977189883518,1729.6405555555552,1743.0460266760883,1747.9961111111108,1765.8849999999998,1768.666732576467,1780.8849999999998,1783.5467446842977,1795.2492372909448,1797.296111111111,1808.3516666666665,1810.710433448956,1818.8516666666665,1825.0623496305952,1833.73052341761,1838.296111111111,1845.092867531705,1849.5627777777777,1849.747617807078,1860.6466797796293,1865.8627777777776,1873.0627777777775,1875.047524567472,1883.9294444444442,1885.0693346183584,1892.404836190993,1893.0961111111108,1900.5183333333332,1903.572937492531,1906.4148597216122,1917.8183333333332,1922.07736233008,1939.6480959526066,1940.4294444444442,1955.3101185727505,1959.2294444444442,1974.117781527007,1980.1183333333333,1990.5627777777775,1991.8768773869292,2005.418333333333,2014.0405555555556,2014.3123393771484,2025.335315328531,2027.307222222222,2046.2966667197709,2048.407222222222,2076.1915253312723,2088.8626365746995,2096.1183333333333,2106.259076846703,2115.585,2124.8597359500322,2133.362777777778,2141.049425782239,2143.862777777778,2151.2892840622367,2157.6405555555557,2161.700927104342,2169.7294444444447,2171.3081121475507,2176.7294444444447,2185.1800010409443,2185.673888888889,2192.8738888888893,2193.5657983278165,2201.6738888888895,2203.3674488220277,2205.41168398197,2209.7627777777784,2210.3736160711674,2215.496111111112,2216.984149335224,2220.896111111112,2222.7958597309384,2224.4516666666677,2227.1255597879963,2230.362777777779,2231.722357040156,2238.053320807066,2238.807222222223,2245.552782620202,2248.707222222223,2249.3056417538746,2257.707222222223,2260.984692980435,2261.9294444444454,2269.5303664742532,2271.2027777777785,2278.5719444444453,2281.3381001794446,2288.060833333334,2293.4452581217565,2302.0608333333344,2303.04412760186,2309.678737985638,2310.338611111112,2316.9608333333344,2317.9964187568175,2326.0163888888897,2329.09050429002,2344.4054038567997,2348.3830555555564,2364.51219569219,2371.9719444444454,2378.945543687043,2380.9941666666673,2394.9275000000007,2403.6135782143983,2419.4830555555563,2420.9779202847258,2429.483055555557,2441.1787788928837,2447.371944444446,2463.105277777779,2466.082863348311,2473.7275000000013,2483.448455555709,2487.1719444444457,2495.7228767817455,2506.4608333333344,2512.39254074155,2520.4608333333344,2531.6608333333343,2538.705634727795,2544.938611111112,2551.7729882811864,2555.2497222222228,2566.22349600077,2569.3830555555564,2582.849722222223,2588.4170076162573,2597.31638888889,2606.428299625282,2607.149722222223,2616.4830555555563,2624.6018251850055,2630.3038888888896,2632.921528865938,2638.2638888888896,2642.9128565712554,2648.297222222223,2650.406768660579,2652.3241870056854,2657.1638888888897,2662.008333333334,2662.125549300321,2667.56388888889,2669.6875183908332,2673.44385181458,2675.2083333333344,2680.7416666666677,2684.713646748108,2685.875000000001,2690.6750000000006,2693.1360482296627,2693.830555555556,2697.1692937457406,2699.608333333334,2700.4206530256884,2703.386111111112,2704.2435305179833,2710.686111111112,2712.0602755630553,2716.029289152314,2716.8305555555567,2721.3861111111123,2721.9918801626122,2726.497222222223,2731.1022313196795,2735.6527777777787,2740.6892956841025,2741.8194444444457,2746.083159006472,2751.2265977897696,2754.8194444444457,2764.4363493502556,2767.530555555557,2776.405399695986,2781.575000000001,2786.3824672703363,2790.852777777779,2794.9855640483893,2802.786111111112,2807.160142270696,2821.786111111112,2823.1544083405697,2836.5702384968113,2837.475277777779,2855.875277777779,2858.4830248040316,2867.815277777779,2884.0126028776826,2885.004166666668,2902.581944444446,2904.1195905992627,2918.115277777779,2918.3739752316183,2936.237500000001,2937.82228291853,2949.6263888888902,2952.608728367998,2968.8375000000015,2971.925239441482,2983.3298593475643,2994.819928537469,2997.393055555557,3011.6708333333345,3013.401572232758,3026.22638888889,3032.3892604850507,3043.893055555557,3056.0737128970154,3061.7597222222234,3071.102277414635,3089.3510798424268,3092.0930555555574,3110.7722772142047,3123.017603853466,3125.7041666666682,3136.8644255440013,3147.3263888888905,3161.8088311633164,3169.259722222224,3184.9263888888904,3185.3190984686285,3210.170833333335,3212.1440533925515,3218.4555368705837,3229.1041666666683,3234.233816773104,3250.01192021662,3251.1930555555573,3266.859722222224,3277.976877926955,3288.248611111113,3300.337500000002,3303.588201384315,3322.0941666666686,3327.4898604667064,3339.6719444444466,3348.130855874101,3357.837222222224,3360.1782662801675,3374.103888888891,3376.2495760050433,3383.7150000000024,3391.3064002641618,3392.9372222222246,3401.7705555555576,3403.666546332231,3411.903888888891,3416.9270415843052,3421.570555555558,3425.7451314841646,3427.9705555555574,3432.802102462308,3435.7483333333353,3441.373587959427,3449.848333333335,3450.0046558197773,3453.1260864149467,3456.1150000000016,3461.099549011662,3465.8483333333347,3473.4891061824337,3475.848333333335,3480.276636307318,3484.4594444444465,3490.0974890364423,3496.619458353872,3501.0594444444464,3508.5705555555573,3512.6506747510202,3518.2927777777795,3532.6038888888907,3533.913532730585,3541.0927777777792,3543.5447274234944,3554.747265854325,3556.7261111111125,3568.1150000000016,3579.8372222222233,3581.326672236618,3601.7372222222234,3608.2657862709343,3616.737222222224,3632.0038888888903,3636.1941077766937,3650.2688888888906,3653.1547038140725,3674.068888888891,3678.353060174228,3698.201666666668,3706.4817912710473,3711.5350000000017,3719.7472109335567,3724.7572222222243,3735.246111111113,3743.3401621848134,3753.446111111113,3753.703428185468,3768.779444444446,3770.313644591466,3779.0016666666684,3781.790474856361,3791.6127777777797,3795.645157954982,3801.701666666669,3812.0684046595443,3824.5016666666693,3826.0282843028717,3841.3615781234494,3842.3905555555575,3860.51277777778,3860.771999793506,3880.2619353688556,3881.3127777777804,3890.9102086371554,3894.5905555555582,3907.1435365326843,3919.5157640475645,3921.923888888891,3937.42013936429,3948.351232249524,3949.3683333333356,3963.1228600888353,3965.4350000000018,3978.2683333333352,3978.572580518345,3990.9873789257363,3995.1709601074876,4000.0461111111135,4003.323678626989,4016.936912022048,4017.6461111111134,4025.0683333333354,4031.4769591369427,4035.5350000000017,4038.2582944949813,4043.1733950489065,4047.0091666666685,4050.297303869276,4053.2313888888907,4060.9632472886824,4062.2980555555573,4071.0915219284034,4073.7647222222245,4078.728022670557,4084.960483391545,4086.230000000002,4098.7783533104885,4100.896666666668,4104.888386550408,4113.5558640024465,4114.996666666669,4121.641990987323,4124.796666666669,4130.942619222766,4131.641111111114,4138.07438299687,4140.641111111113,4150.085555555557,4156.1562017181805,4164.00777777778,4173.550346088961,4174.396666666668,4183.018888888891,4186.555700302868,4201.152222222225,4201.384544404858,4219.215662263365,4222.552222222224,4238.955271001546,4239.896666666669,4250.331787090827,4252.563333333335,4270.685555555558,4271.015371644066,4292.522207866668,4294.885555555557,4303.313792739035,4313.8633333333355,4319.765506471313,4331.056834329799,4333.541111111113,4343.87788592889,4347.818888888892,4362.610315604161,4365.152222222225,4374.27033485665,4388.618888888892,4391.951553967591,4406.560000000003,4406.859651108193,4420.408187512987,4433.760000000003,4437.111818882668,4449.037777777781,4453.870533753395,4469.279146148033,4479.849444444448,4486.421528532353,4492.382777777781,4502.114806914317,4511.249444444446,4529.037310313436,4530.316111111114,4553.182075403609,4556.093888888891,4569.382809834457,4578.805000000002,4582.383681741524,4603.5850694920155,4618.005000000003,4621.619653824687,4631.160555555558,4643.001665456154,4650.893888888891,4661.086658667221,4674.240473091599,4680.493888888891,4710.520873688695,4713.382777777781,4726.4050000000025,4726.810087823239,4748.805000000002,4750.756225499437,4765.917148942042,4767.005000000002,4780.893888888891,4791.516111111113,4794.316015069766,4807.693888888891,4816.491524834414,4818.249444444446,4827.705402173756,4829.249444444446,4837.2317891968305,4837.860555555557,4845.971666666668,4851.618376304871,4853.693888888891,4858.9620495934005,4866.5918587578635,4867.840277777779,4873.52935233126,4876.1069444444465,4880.822478227364,4885.9099863569745,4887.706944444447,4892.994781077345,4894.206944444447,4898.93289352665,4903.506944444447,4907.06954256863,4909.018055555558,4917.0564917387055,4919.129166666669,4921.529351778625,4930.85841851477,4933.129166666669,4939.1420996403685,4945.029166666669,4951.459858461467,4955.829166666669,4963.206944444447,4964.319294495271,4972.595833333336,4976.731801314509,4982.651388888891,4994.701796892253,5005.941473355011,5006.851388888891,5017.429793726552,5030.184722222225,5037.771015997072,5054.851388888891,5057.668810127816,5071.550297630315,5072.506944444447,5082.818055555559,5093.74577207155,5101.840791501944,5106.9180555555595,5123.2513888888925,5124.959553123538,5134.22916666667,5142.9577767260835,5156.806944444448,5161.461039574521,5174.443936719974,5182.806944444448,5196.368471431007,5197.473611111114,5215.347777777782,5217.141328324133,5236.425555555558,5238.24662879069,5258.105292564206,5260.8700000000035,5281.1634043093045,5285.581111111114,5298.251198100982,5301.13666666667,5316.725000000003,5317.039691960357,5331.240917901707,5332.502777777781,5350.166608291757,5351.436111111114,5367.744886454726,5370.636111111115,5374.012154901524],\"xaxis\":\"x\",\"y\":[289.078124,290.0,290.53333333333336,291.8750016,292.0,293.22499968,294.0,295.05000192,296.0,296.22499968,297.0,297.7812496,298.0,299.0,299.8749997714286,300.0,299.0,299.02499968,300.0,299.62499931428573,299.0,299.0,299.0,299.77500053333335,300.0,300.0,300.0,300.0,299.0,300.0,299.0,299.0,299.0,299.0,299.0,299.0,299.0,299.0,299.0,299.0,299.0,299.0,299.0,299.0,297.7090909090909,297.0,295.55555555555554,292.5,292.0,288.03571017142855,286.0,281.0,280.55357714285714,264.4821257142857,256.0,243.62497737142857,223.0,213.55556266666667,193.55553422222224,183.0,158.48748224,146.0,141.44998656,127.44998656,118.0,107.0,104.73585318808425,99.0,95.87527921999516,89.97958675440715,86.0,82.0,81.22413903448276,77.086208,75.36206565517242,70.20689655172414,63.310344827586206,62.0,61.18,61.0,61.74285714285714,63.0,63.9,66.0,66.675,75.0,77.4,83.0,83.14285714285714,91.0,93.0,99.8,101.0,114.0,115.71111111111111,118.82222222222222,128.0,129.95000576,134.0,136.6250048,144.1249984,145.0,150.0,153.1874976,156.0,156.0,165.2500096,172.0,177.0,177.75000576,183.0,184.6250048,187.0,196.98432140753425,200.0,207.0,209.64339513510546,211.13964834149002,217.0,218.1249984,225.0,225.075,228.0,230.21428571428572,233.0,234.95,242.0,243.16666666666666,247.0,248.56,252.46,253.0,260.0,260.06,262.76,263.0,264.6,267.0,268.5375,270.0,272.0,272.05,275.0,276.33928502857145,278.0,279.6562512,280.0,281.4642852571429,283.0357156571429,284.6071424,286.0,285.8125002666667,285.0,285.5892854857143,286.0,283.6093768,280.2343768,277.0,266.3749909333333,260.0,255.0000071111111,237.22222933333333,220.0,208.52081813333334,202.1874848,201.0,177.0,176.81666666666666,166.0,162.01,147.0,144.12,143.22,138.0,134.4125,131.0,129.5857142857143,122.0,119.9,115.0,114.97,114.07,112.57,112.0,114.2875,115.0,116.3,118.3,119.0,120.63333333333334,124.93055928888889,126.0,128.0,136.0,142.0,143.95000576,151.15000576,154.0,161.12499723636364,173.0,175.8437584,180.0,186.5625056,192.9791648,194.0,201.0,207.38365368205135,208.0,213.12862888063174,214.0,217.6250048,224.0,226.34,231.74,233.0,235.18571428571428,236.0,230.0,229.08333333333334,225.0,222.8,212.8,211.0,199.0,196.8,189.0,184.66,178.36,175.0,171.4,169.0,168.93333333333334,164.93333333333334,163.0,162.0,162.18333333333334,163.0,163.25000192,164.85000192,165.0,167.0,168.08333653333332,169.08333226666667,173.0,175.31818007272727,184.59091432727274,185.0,187.37499946666668,188.0,188.0,188.0,188.0,188.2678592,191.0,194.0,194.10416533333333,198.270832,199.0,209.8333312,211.0,219.76315789473685,223.71052631578948,226.0,222.4125,219.0,209.2625,200.0,192.08,189.0,171.575,155.0,148.825,136.0,133.8,126.0,115.62857142857143,115.0,108.0,107.325,99.0,97.3749952,95.3749952,91.0,90.47916266666667,86.0,84.64582933333334,81.0,80.4687504,80.0,78.21428662857143,76.0,76.0,76.0,76.0,79.46591127272727,81.0,81.6250048,90.0,93.906248,95.0,102.42990748117683,104.0,111.0,114.3392832,122.0,129.2,140.0,141.08,148.28,149.0,149.0,150.68,163.0,165.9090909090909,179.54545454545456,183.0,189.9090909090909,193.0,200.75,203.0,209.0,213.32,221.0,221.6,225.0,228.28571428571428,230.0,236.0,236.8437488,239.0,241.17500288,242.0,244.67857005714285,248.0,249.69999872,252.0,252.0,245.17498752,239.0,234.4062416,232.0,216.58331733333333,212.0,202.0,195.99998902857143,186.0,177.67499136,177.0,168.0,160.50778486761777,155.0,151.4623081445385,144.0,137.30357485714285,129.0,125.57142857142857,122.35714285714286,114.0,109.0,108.82,100.0,96.325,89.325,86.0,83.0,78.4,77.0,72.0,71.225,71.0,67.55,65.0,65.66,68.0,68.61111111111111,73.0,74.37142857142857,78.22857142857143,79.0,82.0,83.2500096,92.0,97.6718728,103.0,109.59999744,111.0,117.59721884444444,124.98612124444445,130.0,139.9531224,143.0,152.609372,158.0,162.72500864,167.0,171.2499968,179.0,181.59722026666665,190.0,190.97865453415776,200.37366590838485,201.0,207.0,208.98994009079647,216.0,220.71428571428572,221.0,226.0,226.7,233.0,233.0,233.0,233.96,241.0,241.94285714285715,247.0,248.1,252.1,256.1,257.0,257.0,257.6,262.0,263.05,265.0,267.05,268.0,269.55,272.55,273.0,274.1136360727273,274.8409088,275.0,276.5535734857143,278.0,280.6428598857143,282.0,282.0,282.0312496,284.0,284.0,284.0,284.0,284.0,284.0,284.0,282.0,278.3749952,275.0,272.0,268.0747742854933,244.0,238.60001645714286,226.0,216.52037046994084,205.0,201.975,183.0,180.8,173.0,167.26,166.0,159.0,157.71666666666667,152.0,148.38333333333333,145.0,144.35,144.0,141.52,140.0,140.4,141.0,141.0,141.0,141.0,143.58333333333334,146.0,149.06666666666666,150.0,152.6,155.0,158.81944248888888,163.0972280888889,166.0,169.0,171.54999808,175.0,184.0,185.0937584,191.0,192.60714057142857,199.7499977142857,201.0,205.0,211.0,211.55555982222222,219.0,221.6250048,225.0,229.0,230.156586255998,234.0,234.48888604444446,238.0,238.71309230338085,242.0,240.76,240.0,238.76,238.0,236.0,235.11428571428573,234.0,233.93333333333334,230.0,230.0,230.0,229.34,227.0,227.0,227.0,227.45555555555555,228.0,228.17142857142858,229.88571428571427,230.0,233.0,233.0125,233.95,234.0,237.6250048,239.0,242.23750336,245.38749888,246.0,246.56250048,246.96250048,247.0,241.8750016,241.0,231.0,230.5625056,211.3124832,204.3124832,196.0,192.38887822222222,176.83332266666667,176.0,167.0,160.95832533333333,157.0,154.68682748800398,150.41636777244622,147.0,143.3250112,140.0,136.60000426666667,136.0,130.6625056,129.0,127.40668652391034,125.40111442065172,125.0,131.02,132.0,134.6,140.1,141.0,145.1,147.0,153.3,154.0,159.76,162.0,170.0,173.9857142857143,179.0,186.36,187.0,194.0,196.0,204.0,204.11111111111111,212.47222755555555,214.0,222.5178633142857,223.0,227.1249984,228.0,233.0,233.1249984,241.1249984,242.0,242.8928566857143,244.0,246.7321408,251.87499794285714,253.0,255.90000384,257.0,259.5624992,260.0,261.5624992,264.0,264.74688630953455,268.0,268.0444416,270.0444444444444,272.0,272.65999616,275.0,275.473682994855,276.9774431169651,278.0,280.1,282.0,282.51666666666665,283.0,285.8,286.0,289.55,290.0,291.1714285714286,292.0,292.18333333333334,293.26666666666665,294.0,294.55,296.0,296.0,296.0,296.0,296.0,296.0,296.0,296.0,293.0,292.91071542857145,288.0,286.437488,273.937488,273.0,250.0,239.0,234.01786422857143,208.0,193.15000576,190.0,168.64584,165.0,155.7499904,155.0,146.0,140.92499328,139.0,134.66084421226412,128.07731387819385,127.0,124.9500032,124.0,120.8,117.24444444444444,116.0,116.81499904,117.0,118.53763340224234,120.0,122.6,124.0,128.8,130.0,131.77777777777777,138.44444444444446,140.0,146.68571428571428,153.0,158.4,162.0,166.0,166.36,169.0,174.04,181.0,189.65454545454546,197.38181818181818,198.0,203.52,210.0,213.74999808,222.0,222.80357028571427,226.7321462857143,227.0,232.0,236.1249984,239.1249984,241.0,245.0,245.3125024,247.0,249.7343736,254.0,255.08333653333332,258.0833322666667,260.0,263.70000384,264.0,267.0,267.34285714285716,271.0,271.3,274.5499968,275.0,277.4656232,278.0,279.62999808,280.0,282.0,282.04,283.84,284.0,284.0,284.0,287.4,288.0,288.35000106666666],\"yaxis\":\"y\",\"type\":\"scatter\"}],                        {\"template\":{\"data\":{\"histogram2dcontour\":[{\"type\":\"histogram2dcontour\",\"colorbar\":{\"outlinewidth\":0,\"ticks\":\"\"},\"colorscale\":[[0.0,\"#0d0887\"],[0.1111111111111111,\"#46039f\"],[0.2222222222222222,\"#7201a8\"],[0.3333333333333333,\"#9c179e\"],[0.4444444444444444,\"#bd3786\"],[0.5555555555555556,\"#d8576b\"],[0.6666666666666666,\"#ed7953\"],[0.7777777777777778,\"#fb9f3a\"],[0.8888888888888888,\"#fdca26\"],[1.0,\"#f0f921\"]]}],\"choropleth\":[{\"type\":\"choropleth\",\"colorbar\":{\"outlinewidth\":0,\"ticks\":\"\"}}],\"histogram2d\":[{\"type\":\"histogram2d\",\"colorbar\":{\"outlinewidth\":0,\"ticks\":\"\"},\"colorscale\":[[0.0,\"#0d0887\"],[0.1111111111111111,\"#46039f\"],[0.2222222222222222,\"#7201a8\"],[0.3333333333333333,\"#9c179e\"],[0.4444444444444444,\"#bd3786\"],[0.5555555555555556,\"#d8576b\"],[0.6666666666666666,\"#ed7953\"],[0.7777777777777778,\"#fb9f3a\"],[0.8888888888888888,\"#fdca26\"],[1.0,\"#f0f921\"]]}],\"heatmap\":[{\"type\":\"heatmap\",\"colorbar\":{\"outlinewidth\":0,\"ticks\":\"\"},\"colorscale\":[[0.0,\"#0d0887\"],[0.1111111111111111,\"#46039f\"],[0.2222222222222222,\"#7201a8\"],[0.3333333333333333,\"#9c179e\"],[0.4444444444444444,\"#bd3786\"],[0.5555555555555556,\"#d8576b\"],[0.6666666666666666,\"#ed7953\"],[0.7777777777777778,\"#fb9f3a\"],[0.8888888888888888,\"#fdca26\"],[1.0,\"#f0f921\"]]}],\"heatmapgl\":[{\"type\":\"heatmapgl\",\"colorbar\":{\"outlinewidth\":0,\"ticks\":\"\"},\"colorscale\":[[0.0,\"#0d0887\"],[0.1111111111111111,\"#46039f\"],[0.2222222222222222,\"#7201a8\"],[0.3333333333333333,\"#9c179e\"],[0.4444444444444444,\"#bd3786\"],[0.5555555555555556,\"#d8576b\"],[0.6666666666666666,\"#ed7953\"],[0.7777777777777778,\"#fb9f3a\"],[0.8888888888888888,\"#fdca26\"],[1.0,\"#f0f921\"]]}],\"contourcarpet\":[{\"type\":\"contourcarpet\",\"colorbar\":{\"outlinewidth\":0,\"ticks\":\"\"}}],\"contour\":[{\"type\":\"contour\",\"colorbar\":{\"outlinewidth\":0,\"ticks\":\"\"},\"colorscale\":[[0.0,\"#0d0887\"],[0.1111111111111111,\"#46039f\"],[0.2222222222222222,\"#7201a8\"],[0.3333333333333333,\"#9c179e\"],[0.4444444444444444,\"#bd3786\"],[0.5555555555555556,\"#d8576b\"],[0.6666666666666666,\"#ed7953\"],[0.7777777777777778,\"#fb9f3a\"],[0.8888888888888888,\"#fdca26\"],[1.0,\"#f0f921\"]]}],\"surface\":[{\"type\":\"surface\",\"colorbar\":{\"outlinewidth\":0,\"ticks\":\"\"},\"colorscale\":[[0.0,\"#0d0887\"],[0.1111111111111111,\"#46039f\"],[0.2222222222222222,\"#7201a8\"],[0.3333333333333333,\"#9c179e\"],[0.4444444444444444,\"#bd3786\"],[0.5555555555555556,\"#d8576b\"],[0.6666666666666666,\"#ed7953\"],[0.7777777777777778,\"#fb9f3a\"],[0.8888888888888888,\"#fdca26\"],[1.0,\"#f0f921\"]]}],\"mesh3d\":[{\"type\":\"mesh3d\",\"colorbar\":{\"outlinewidth\":0,\"ticks\":\"\"}}],\"scatter\":[{\"fillpattern\":{\"fillmode\":\"overlay\",\"size\":10,\"solidity\":0.2},\"type\":\"scatter\"}],\"parcoords\":[{\"type\":\"parcoords\",\"line\":{\"colorbar\":{\"outlinewidth\":0,\"ticks\":\"\"}}}],\"scatterpolargl\":[{\"type\":\"scatterpolargl\",\"marker\":{\"colorbar\":{\"outlinewidth\":0,\"ticks\":\"\"}}}],\"bar\":[{\"error_x\":{\"color\":\"#2a3f5f\"},\"error_y\":{\"color\":\"#2a3f5f\"},\"marker\":{\"line\":{\"color\":\"#E5ECF6\",\"width\":0.5},\"pattern\":{\"fillmode\":\"overlay\",\"size\":10,\"solidity\":0.2}},\"type\":\"bar\"}],\"scattergeo\":[{\"type\":\"scattergeo\",\"marker\":{\"colorbar\":{\"outlinewidth\":0,\"ticks\":\"\"}}}],\"scatterpolar\":[{\"type\":\"scatterpolar\",\"marker\":{\"colorbar\":{\"outlinewidth\":0,\"ticks\":\"\"}}}],\"histogram\":[{\"marker\":{\"pattern\":{\"fillmode\":\"overlay\",\"size\":10,\"solidity\":0.2}},\"type\":\"histogram\"}],\"scattergl\":[{\"type\":\"scattergl\",\"marker\":{\"colorbar\":{\"outlinewidth\":0,\"ticks\":\"\"}}}],\"scatter3d\":[{\"type\":\"scatter3d\",\"line\":{\"colorbar\":{\"outlinewidth\":0,\"ticks\":\"\"}},\"marker\":{\"colorbar\":{\"outlinewidth\":0,\"ticks\":\"\"}}}],\"scattermapbox\":[{\"type\":\"scattermapbox\",\"marker\":{\"colorbar\":{\"outlinewidth\":0,\"ticks\":\"\"}}}],\"scatterternary\":[{\"type\":\"scatterternary\",\"marker\":{\"colorbar\":{\"outlinewidth\":0,\"ticks\":\"\"}}}],\"scattercarpet\":[{\"type\":\"scattercarpet\",\"marker\":{\"colorbar\":{\"outlinewidth\":0,\"ticks\":\"\"}}}],\"carpet\":[{\"aaxis\":{\"endlinecolor\":\"#2a3f5f\",\"gridcolor\":\"white\",\"linecolor\":\"white\",\"minorgridcolor\":\"white\",\"startlinecolor\":\"#2a3f5f\"},\"baxis\":{\"endlinecolor\":\"#2a3f5f\",\"gridcolor\":\"white\",\"linecolor\":\"white\",\"minorgridcolor\":\"white\",\"startlinecolor\":\"#2a3f5f\"},\"type\":\"carpet\"}],\"table\":[{\"cells\":{\"fill\":{\"color\":\"#EBF0F8\"},\"line\":{\"color\":\"white\"}},\"header\":{\"fill\":{\"color\":\"#C8D4E3\"},\"line\":{\"color\":\"white\"}},\"type\":\"table\"}],\"barpolar\":[{\"marker\":{\"line\":{\"color\":\"#E5ECF6\",\"width\":0.5},\"pattern\":{\"fillmode\":\"overlay\",\"size\":10,\"solidity\":0.2}},\"type\":\"barpolar\"}],\"pie\":[{\"automargin\":true,\"type\":\"pie\"}]},\"layout\":{\"autotypenumbers\":\"strict\",\"colorway\":[\"#636efa\",\"#EF553B\",\"#00cc96\",\"#ab63fa\",\"#FFA15A\",\"#19d3f3\",\"#FF6692\",\"#B6E880\",\"#FF97FF\",\"#FECB52\"],\"font\":{\"color\":\"#2a3f5f\"},\"hovermode\":\"closest\",\"hoverlabel\":{\"align\":\"left\"},\"paper_bgcolor\":\"white\",\"plot_bgcolor\":\"#E5ECF6\",\"polar\":{\"bgcolor\":\"#E5ECF6\",\"angularaxis\":{\"gridcolor\":\"white\",\"linecolor\":\"white\",\"ticks\":\"\"},\"radialaxis\":{\"gridcolor\":\"white\",\"linecolor\":\"white\",\"ticks\":\"\"}},\"ternary\":{\"bgcolor\":\"#E5ECF6\",\"aaxis\":{\"gridcolor\":\"white\",\"linecolor\":\"white\",\"ticks\":\"\"},\"baxis\":{\"gridcolor\":\"white\",\"linecolor\":\"white\",\"ticks\":\"\"},\"caxis\":{\"gridcolor\":\"white\",\"linecolor\":\"white\",\"ticks\":\"\"}},\"coloraxis\":{\"colorbar\":{\"outlinewidth\":0,\"ticks\":\"\"}},\"colorscale\":{\"sequential\":[[0.0,\"#0d0887\"],[0.1111111111111111,\"#46039f\"],[0.2222222222222222,\"#7201a8\"],[0.3333333333333333,\"#9c179e\"],[0.4444444444444444,\"#bd3786\"],[0.5555555555555556,\"#d8576b\"],[0.6666666666666666,\"#ed7953\"],[0.7777777777777778,\"#fb9f3a\"],[0.8888888888888888,\"#fdca26\"],[1.0,\"#f0f921\"]],\"sequentialminus\":[[0.0,\"#0d0887\"],[0.1111111111111111,\"#46039f\"],[0.2222222222222222,\"#7201a8\"],[0.3333333333333333,\"#9c179e\"],[0.4444444444444444,\"#bd3786\"],[0.5555555555555556,\"#d8576b\"],[0.6666666666666666,\"#ed7953\"],[0.7777777777777778,\"#fb9f3a\"],[0.8888888888888888,\"#fdca26\"],[1.0,\"#f0f921\"]],\"diverging\":[[0,\"#8e0152\"],[0.1,\"#c51b7d\"],[0.2,\"#de77ae\"],[0.3,\"#f1b6da\"],[0.4,\"#fde0ef\"],[0.5,\"#f7f7f7\"],[0.6,\"#e6f5d0\"],[0.7,\"#b8e186\"],[0.8,\"#7fbc41\"],[0.9,\"#4d9221\"],[1,\"#276419\"]]},\"xaxis\":{\"gridcolor\":\"white\",\"linecolor\":\"white\",\"ticks\":\"\",\"title\":{\"standoff\":15},\"zerolinecolor\":\"white\",\"automargin\":true,\"zerolinewidth\":2},\"yaxis\":{\"gridcolor\":\"white\",\"linecolor\":\"white\",\"ticks\":\"\",\"title\":{\"standoff\":15},\"zerolinecolor\":\"white\",\"automargin\":true,\"zerolinewidth\":2},\"scene\":{\"xaxis\":{\"backgroundcolor\":\"#E5ECF6\",\"gridcolor\":\"white\",\"linecolor\":\"white\",\"showbackground\":true,\"ticks\":\"\",\"zerolinecolor\":\"white\",\"gridwidth\":2},\"yaxis\":{\"backgroundcolor\":\"#E5ECF6\",\"gridcolor\":\"white\",\"linecolor\":\"white\",\"showbackground\":true,\"ticks\":\"\",\"zerolinecolor\":\"white\",\"gridwidth\":2},\"zaxis\":{\"backgroundcolor\":\"#E5ECF6\",\"gridcolor\":\"white\",\"linecolor\":\"white\",\"showbackground\":true,\"ticks\":\"\",\"zerolinecolor\":\"white\",\"gridwidth\":2}},\"shapedefaults\":{\"line\":{\"color\":\"#2a3f5f\"}},\"annotationdefaults\":{\"arrowcolor\":\"#2a3f5f\",\"arrowhead\":0,\"arrowwidth\":1},\"geo\":{\"bgcolor\":\"white\",\"landcolor\":\"#E5ECF6\",\"subunitcolor\":\"white\",\"showland\":true,\"showlakes\":true,\"lakecolor\":\"white\"},\"title\":{\"x\":0.05},\"mapbox\":{\"style\":\"light\"}}},\"xaxis\":{\"anchor\":\"y\",\"domain\":[0.0,1.0],\"title\":{\"text\":\"Distance\"}},\"yaxis\":{\"anchor\":\"x\",\"domain\":[0.0,1.0],\"title\":{\"text\":\"Speed\"}},\"coloraxis\":{\"colorbar\":{\"title\":{\"text\":\"Anomaly_OCSVM\"}},\"colorscale\":[[0.0,\"#0d0887\"],[0.1111111111111111,\"#46039f\"],[0.2222222222222222,\"#7201a8\"],[0.3333333333333333,\"#9c179e\"],[0.4444444444444444,\"#bd3786\"],[0.5555555555555556,\"#d8576b\"],[0.6666666666666666,\"#ed7953\"],[0.7777777777777778,\"#fb9f3a\"],[0.8888888888888888,\"#fdca26\"],[1.0,\"#f0f921\"]]},\"legend\":{\"tracegroupgap\":0},\"title\":{\"text\":\"Anomaly Detection with OCSVM\"}},                        {\"responsive\": true}                    ).then(function(){\n",
              "                            \n",
              "var gd = document.getElementById('1a8cd4b0-8cae-4208-ba6d-b3390ade90ae');\n",
              "var x = new MutationObserver(function (mutations, observer) {{\n",
              "        var display = window.getComputedStyle(gd).display;\n",
              "        if (!display || display === 'none') {{\n",
              "            console.log([gd, 'removed!']);\n",
              "            Plotly.purge(gd);\n",
              "            observer.disconnect();\n",
              "        }}\n",
              "}});\n",
              "\n",
              "// Listen for the removal of the full notebook cells\n",
              "var notebookContainer = gd.closest('#notebook-container');\n",
              "if (notebookContainer) {{\n",
              "    x.observe(notebookContainer, {childList: true});\n",
              "}}\n",
              "\n",
              "// Listen for the clearing of the current output cell\n",
              "var outputEl = gd.closest('.output');\n",
              "if (outputEl) {{\n",
              "    x.observe(outputEl, {childList: true});\n",
              "}}\n",
              "\n",
              "                        })                };                            </script>        </div>\n",
              "</body>\n",
              "</html>"
            ]
          },
          "metadata": {}
        }
      ]
    },
    {
      "cell_type": "markdown",
      "source": [
        "Both LOF and OCSVM are used to identify anomalies in the F1 telemetry data, and their results are visualized using Plotly scatter plots. Let's break down the interpretations of these visualizations:\n",
        "\n",
        "1. Local Outlier Factor (LOF):\n",
        "\n",
        "Visualization Type: Scatter plot\n",
        "Purpose: To highlight data points that are considered outliers based on their local density compared to their neighbors.\n",
        "Data:\n",
        "x-axis: 'Distance' - Represents the distance traveled by the car.\n",
        "y-axis: 'Speed' - Represents the speed of the car.\n",
        "Color: 'Anomaly_LOF' - Indicates whether a data point is flagged as an anomaly (1) or not (0) by the LOF model.\n",
        "Interpretation:\n",
        "Normal Data Points: Data points that are clustered together and have similar densities are considered normal and are typically represented by one color (e.g., blue).\n",
        "Anomalies/Outliers: Data points that are far away from their neighbors or have significantly lower densities are flagged as anomalies and are highlighted with a different color (e.g., red).\n",
        "Density-Based Anomaly Detection: LOF focuses on identifying data points that deviate from the local density patterns in the dataset. Anomalies are those points that are in sparsely populated regions or have significantly different densities compared to their surroundings.\n",
        "2. One-Class SVM (OCSVM):\n",
        "\n",
        "Visualization Type: Scatter plot\n",
        "Purpose: To identify data points that fall outside the learned decision boundary, indicating they are likely anomalies.\n",
        "Data:\n",
        "x-axis: 'Distance' - Represents the distance traveled by the car.\n",
        "y-axis: 'Speed' - Represents the speed of the car.\n",
        "Color: 'Anomaly_OCSVM' - Indicates whether a data point is flagged as an anomaly (1) or not (0) by the OCSVM model.\n",
        "Interpretation:\n",
        "Normal Data Points: Data points that fall within the learned decision boundary are considered normal and are typically represented by one color (e.g., blue).\n",
        "Anomalies/Outliers: Data points that fall outside the decision boundary are flagged as anomalies and are highlighted with a different color (e.g., red).\n",
        "Novelty Detection: OCSVM focuses on learning a boundary around the normal data points and identifying anything outside this boundary as an anomaly. This is useful for detecting novel or unseen data patterns that deviate from the training data."
      ],
      "metadata": {
        "id": "-OEees_Kg0gL"
      }
    },
    {
      "cell_type": "code",
      "source": [
        "import tensorflow as tf\n",
        "from sklearn.preprocessing import MinMaxScaler\n",
        "\n",
        "# Scale the data\n",
        "scaler = MinMaxScaler()\n",
        "scaled_data = scaler.fit_transform(data[features])\n",
        "\n",
        "# Define the autoencoder model\n",
        "input_dim = scaled_data.shape[1]\n",
        "encoding_dim = 10 # Adjust as needed\n",
        "\n",
        "autoencoder = tf.keras.models.Sequential([\n",
        "    tf.keras.layers.Dense(encoding_dim, activation='relu', input_shape=(input_dim,)),\n",
        "    tf.keras.layers.Dense(input_dim, activation='sigmoid')\n",
        "])\n",
        "\n",
        "# Compile the model\n",
        "autoencoder.compile(optimizer='adam', loss='mse')\n",
        "\n",
        "# Train the model\n",
        "autoencoder.fit(scaled_data, scaled_data, epochs=50, batch_size=32) # Adjust epochs and batch size as needed\n",
        "\n",
        "# Get reconstruction errors\n",
        "reconstructions = autoencoder.predict(scaled_data)\n",
        "reconstruction_errors = np.mean(np.square(scaled_data - reconstructions), axis=1)\n",
        "\n",
        "# Set a threshold for anomaly detection\n",
        "threshold = np.percentile(reconstruction_errors, 95) # Adjust percentile as needed\n",
        "\n",
        "# Identify anomalies\n",
        "anomalies = reconstruction_errors > threshold\n",
        "data['Anomaly_Autoencoder'] = anomalies.astype(int)\n",
        "\n",
        "# Visualize anomalies with Plotly\n",
        "fig = px.scatter(data, x='Distance', y='Speed', color='Anomaly_Autoencoder', title='Anomaly Detection with Autoencoder')\n",
        "fig.show()"
      ],
      "metadata": {
        "colab": {
          "base_uri": "https://localhost:8080/",
          "height": 1000
        },
        "id": "117EP1W7gUXc",
        "outputId": "31fd0edf-4275-4708-e0a6-ae5877e0a4e2"
      },
      "execution_count": 21,
      "outputs": [
        {
          "output_type": "stream",
          "name": "stdout",
          "text": [
            "Epoch 1/50\n"
          ]
        },
        {
          "output_type": "stream",
          "name": "stderr",
          "text": [
            "/usr/local/lib/python3.11/dist-packages/keras/src/layers/core/dense.py:87: UserWarning:\n",
            "\n",
            "Do not pass an `input_shape`/`input_dim` argument to a layer. When using Sequential models, prefer using an `Input(shape)` object as the first layer in the model instead.\n",
            "\n"
          ]
        },
        {
          "output_type": "stream",
          "name": "stdout",
          "text": [
            "\u001b[1m23/23\u001b[0m \u001b[32m━━━━━━━━━━━━━━━━━━━━\u001b[0m\u001b[37m\u001b[0m \u001b[1m1s\u001b[0m 3ms/step - loss: 0.1267   \n",
            "Epoch 2/50\n",
            "\u001b[1m23/23\u001b[0m \u001b[32m━━━━━━━━━━━━━━━━━━━━\u001b[0m\u001b[37m\u001b[0m \u001b[1m0s\u001b[0m 2ms/step - loss: 0.1168  \n",
            "Epoch 3/50\n",
            "\u001b[1m23/23\u001b[0m \u001b[32m━━━━━━━━━━━━━━━━━━━━\u001b[0m\u001b[37m\u001b[0m \u001b[1m0s\u001b[0m 2ms/step - loss: 0.1042 \n",
            "Epoch 4/50\n",
            "\u001b[1m23/23\u001b[0m \u001b[32m━━━━━━━━━━━━━━━━━━━━\u001b[0m\u001b[37m\u001b[0m \u001b[1m0s\u001b[0m 2ms/step - loss: 0.0993 \n",
            "Epoch 5/50\n",
            "\u001b[1m23/23\u001b[0m \u001b[32m━━━━━━━━━━━━━━━━━━━━\u001b[0m\u001b[37m\u001b[0m \u001b[1m0s\u001b[0m 3ms/step - loss: 0.0938 \n",
            "Epoch 6/50\n",
            "\u001b[1m23/23\u001b[0m \u001b[32m━━━━━━━━━━━━━━━━━━━━\u001b[0m\u001b[37m\u001b[0m \u001b[1m0s\u001b[0m 2ms/step - loss: 0.0879 \n",
            "Epoch 7/50\n",
            "\u001b[1m23/23\u001b[0m \u001b[32m━━━━━━━━━━━━━━━━━━━━\u001b[0m\u001b[37m\u001b[0m \u001b[1m0s\u001b[0m 3ms/step - loss: 0.0854 \n",
            "Epoch 8/50\n",
            "\u001b[1m23/23\u001b[0m \u001b[32m━━━━━━━━━━━━━━━━━━━━\u001b[0m\u001b[37m\u001b[0m \u001b[1m0s\u001b[0m 3ms/step - loss: 0.0798 \n",
            "Epoch 9/50\n",
            "\u001b[1m23/23\u001b[0m \u001b[32m━━━━━━━━━━━━━━━━━━━━\u001b[0m\u001b[37m\u001b[0m \u001b[1m0s\u001b[0m 2ms/step - loss: 0.0800 \n",
            "Epoch 10/50\n",
            "\u001b[1m23/23\u001b[0m \u001b[32m━━━━━━━━━━━━━━━━━━━━\u001b[0m\u001b[37m\u001b[0m \u001b[1m0s\u001b[0m 2ms/step - loss: 0.0755 \n",
            "Epoch 11/50\n",
            "\u001b[1m23/23\u001b[0m \u001b[32m━━━━━━━━━━━━━━━━━━━━\u001b[0m\u001b[37m\u001b[0m \u001b[1m0s\u001b[0m 3ms/step - loss: 0.0677 \n",
            "Epoch 12/50\n",
            "\u001b[1m23/23\u001b[0m \u001b[32m━━━━━━━━━━━━━━━━━━━━\u001b[0m\u001b[37m\u001b[0m \u001b[1m0s\u001b[0m 2ms/step - loss: 0.0656 \n",
            "Epoch 13/50\n",
            "\u001b[1m23/23\u001b[0m \u001b[32m━━━━━━━━━━━━━━━━━━━━\u001b[0m\u001b[37m\u001b[0m \u001b[1m0s\u001b[0m 3ms/step - loss: 0.0658 \n",
            "Epoch 14/50\n",
            "\u001b[1m23/23\u001b[0m \u001b[32m━━━━━━━━━━━━━━━━━━━━\u001b[0m\u001b[37m\u001b[0m \u001b[1m0s\u001b[0m 3ms/step - loss: 0.0636 \n",
            "Epoch 15/50\n",
            "\u001b[1m23/23\u001b[0m \u001b[32m━━━━━━━━━━━━━━━━━━━━\u001b[0m\u001b[37m\u001b[0m \u001b[1m0s\u001b[0m 3ms/step - loss: 0.0598 \n",
            "Epoch 16/50\n",
            "\u001b[1m23/23\u001b[0m \u001b[32m━━━━━━━━━━━━━━━━━━━━\u001b[0m\u001b[37m\u001b[0m \u001b[1m0s\u001b[0m 3ms/step - loss: 0.0558 \n",
            "Epoch 17/50\n",
            "\u001b[1m23/23\u001b[0m \u001b[32m━━━━━━━━━━━━━━━━━━━━\u001b[0m\u001b[37m\u001b[0m \u001b[1m0s\u001b[0m 2ms/step - loss: 0.0492 \n",
            "Epoch 18/50\n",
            "\u001b[1m23/23\u001b[0m \u001b[32m━━━━━━━━━━━━━━━━━━━━\u001b[0m\u001b[37m\u001b[0m \u001b[1m0s\u001b[0m 2ms/step - loss: 0.0497 \n",
            "Epoch 19/50\n",
            "\u001b[1m23/23\u001b[0m \u001b[32m━━━━━━━━━━━━━━━━━━━━\u001b[0m\u001b[37m\u001b[0m \u001b[1m0s\u001b[0m 2ms/step - loss: 0.0470 \n",
            "Epoch 20/50\n",
            "\u001b[1m23/23\u001b[0m \u001b[32m━━━━━━━━━━━━━━━━━━━━\u001b[0m\u001b[37m\u001b[0m \u001b[1m0s\u001b[0m 2ms/step - loss: 0.0445 \n",
            "Epoch 21/50\n",
            "\u001b[1m23/23\u001b[0m \u001b[32m━━━━━━━━━━━━━━━━━━━━\u001b[0m\u001b[37m\u001b[0m \u001b[1m0s\u001b[0m 2ms/step - loss: 0.0430 \n",
            "Epoch 22/50\n",
            "\u001b[1m23/23\u001b[0m \u001b[32m━━━━━━━━━━━━━━━━━━━━\u001b[0m\u001b[37m\u001b[0m \u001b[1m0s\u001b[0m 3ms/step - loss: 0.0399 \n",
            "Epoch 23/50\n",
            "\u001b[1m23/23\u001b[0m \u001b[32m━━━━━━━━━━━━━━━━━━━━\u001b[0m\u001b[37m\u001b[0m \u001b[1m0s\u001b[0m 3ms/step - loss: 0.0385 \n",
            "Epoch 24/50\n",
            "\u001b[1m23/23\u001b[0m \u001b[32m━━━━━━━━━━━━━━━━━━━━\u001b[0m\u001b[37m\u001b[0m \u001b[1m0s\u001b[0m 3ms/step - loss: 0.0363 \n",
            "Epoch 25/50\n",
            "\u001b[1m23/23\u001b[0m \u001b[32m━━━━━━━━━━━━━━━━━━━━\u001b[0m\u001b[37m\u001b[0m \u001b[1m0s\u001b[0m 2ms/step - loss: 0.0320 \n",
            "Epoch 26/50\n",
            "\u001b[1m23/23\u001b[0m \u001b[32m━━━━━━━━━━━━━━━━━━━━\u001b[0m\u001b[37m\u001b[0m \u001b[1m0s\u001b[0m 2ms/step - loss: 0.0327 \n",
            "Epoch 27/50\n",
            "\u001b[1m23/23\u001b[0m \u001b[32m━━━━━━━━━━━━━━━━━━━━\u001b[0m\u001b[37m\u001b[0m \u001b[1m0s\u001b[0m 2ms/step - loss: 0.0319 \n",
            "Epoch 28/50\n",
            "\u001b[1m23/23\u001b[0m \u001b[32m━━━━━━━━━━━━━━━━━━━━\u001b[0m\u001b[37m\u001b[0m \u001b[1m0s\u001b[0m 2ms/step - loss: 0.0291 \n",
            "Epoch 29/50\n",
            "\u001b[1m23/23\u001b[0m \u001b[32m━━━━━━━━━━━━━━━━━━━━\u001b[0m\u001b[37m\u001b[0m \u001b[1m0s\u001b[0m 2ms/step - loss: 0.0266 \n",
            "Epoch 30/50\n",
            "\u001b[1m23/23\u001b[0m \u001b[32m━━━━━━━━━━━━━━━━━━━━\u001b[0m\u001b[37m\u001b[0m \u001b[1m0s\u001b[0m 3ms/step - loss: 0.0250 \n",
            "Epoch 31/50\n",
            "\u001b[1m23/23\u001b[0m \u001b[32m━━━━━━━━━━━━━━━━━━━━\u001b[0m\u001b[37m\u001b[0m \u001b[1m0s\u001b[0m 2ms/step - loss: 0.0247 \n",
            "Epoch 32/50\n",
            "\u001b[1m23/23\u001b[0m \u001b[32m━━━━━━━━━━━━━━━━━━━━\u001b[0m\u001b[37m\u001b[0m \u001b[1m0s\u001b[0m 3ms/step - loss: 0.0224 \n",
            "Epoch 33/50\n",
            "\u001b[1m23/23\u001b[0m \u001b[32m━━━━━━━━━━━━━━━━━━━━\u001b[0m\u001b[37m\u001b[0m \u001b[1m0s\u001b[0m 2ms/step - loss: 0.0227 \n",
            "Epoch 34/50\n",
            "\u001b[1m23/23\u001b[0m \u001b[32m━━━━━━━━━━━━━━━━━━━━\u001b[0m\u001b[37m\u001b[0m \u001b[1m0s\u001b[0m 2ms/step - loss: 0.0192 \n",
            "Epoch 35/50\n",
            "\u001b[1m23/23\u001b[0m \u001b[32m━━━━━━━━━━━━━━━━━━━━\u001b[0m\u001b[37m\u001b[0m \u001b[1m0s\u001b[0m 2ms/step - loss: 0.0183 \n",
            "Epoch 36/50\n",
            "\u001b[1m23/23\u001b[0m \u001b[32m━━━━━━━━━━━━━━━━━━━━\u001b[0m\u001b[37m\u001b[0m \u001b[1m0s\u001b[0m 2ms/step - loss: 0.0191 \n",
            "Epoch 37/50\n",
            "\u001b[1m23/23\u001b[0m \u001b[32m━━━━━━━━━━━━━━━━━━━━\u001b[0m\u001b[37m\u001b[0m \u001b[1m0s\u001b[0m 2ms/step - loss: 0.0177 \n",
            "Epoch 38/50\n",
            "\u001b[1m23/23\u001b[0m \u001b[32m━━━━━━━━━━━━━━━━━━━━\u001b[0m\u001b[37m\u001b[0m \u001b[1m0s\u001b[0m 3ms/step - loss: 0.0171 \n",
            "Epoch 39/50\n",
            "\u001b[1m23/23\u001b[0m \u001b[32m━━━━━━━━━━━━━━━━━━━━\u001b[0m\u001b[37m\u001b[0m \u001b[1m0s\u001b[0m 2ms/step - loss: 0.0158 \n",
            "Epoch 40/50\n",
            "\u001b[1m23/23\u001b[0m \u001b[32m━━━━━━━━━━━━━━━━━━━━\u001b[0m\u001b[37m\u001b[0m \u001b[1m0s\u001b[0m 3ms/step - loss: 0.0154 \n",
            "Epoch 41/50\n",
            "\u001b[1m23/23\u001b[0m \u001b[32m━━━━━━━━━━━━━━━━━━━━\u001b[0m\u001b[37m\u001b[0m \u001b[1m0s\u001b[0m 3ms/step - loss: 0.0151 \n",
            "Epoch 42/50\n",
            "\u001b[1m23/23\u001b[0m \u001b[32m━━━━━━━━━━━━━━━━━━━━\u001b[0m\u001b[37m\u001b[0m \u001b[1m0s\u001b[0m 4ms/step - loss: 0.0138\n",
            "Epoch 43/50\n",
            "\u001b[1m23/23\u001b[0m \u001b[32m━━━━━━━━━━━━━━━━━━━━\u001b[0m\u001b[37m\u001b[0m \u001b[1m0s\u001b[0m 4ms/step - loss: 0.0133\n",
            "Epoch 44/50\n",
            "\u001b[1m23/23\u001b[0m \u001b[32m━━━━━━━━━━━━━━━━━━━━\u001b[0m\u001b[37m\u001b[0m \u001b[1m0s\u001b[0m 4ms/step - loss: 0.0126\n",
            "Epoch 45/50\n",
            "\u001b[1m23/23\u001b[0m \u001b[32m━━━━━━━━━━━━━━━━━━━━\u001b[0m\u001b[37m\u001b[0m \u001b[1m0s\u001b[0m 3ms/step - loss: 0.0115  \n",
            "Epoch 46/50\n",
            "\u001b[1m23/23\u001b[0m \u001b[32m━━━━━━━━━━━━━━━━━━━━\u001b[0m\u001b[37m\u001b[0m \u001b[1m0s\u001b[0m 4ms/step - loss: 0.0113\n",
            "Epoch 47/50\n",
            "\u001b[1m23/23\u001b[0m \u001b[32m━━━━━━━━━━━━━━━━━━━━\u001b[0m\u001b[37m\u001b[0m \u001b[1m0s\u001b[0m 4ms/step - loss: 0.0110\n",
            "Epoch 48/50\n",
            "\u001b[1m23/23\u001b[0m \u001b[32m━━━━━━━━━━━━━━━━━━━━\u001b[0m\u001b[37m\u001b[0m \u001b[1m0s\u001b[0m 3ms/step - loss: 0.0112 \n",
            "Epoch 49/50\n",
            "\u001b[1m23/23\u001b[0m \u001b[32m━━━━━━━━━━━━━━━━━━━━\u001b[0m\u001b[37m\u001b[0m \u001b[1m0s\u001b[0m 4ms/step - loss: 0.0106\n",
            "Epoch 50/50\n",
            "\u001b[1m23/23\u001b[0m \u001b[32m━━━━━━━━━━━━━━━━━━━━\u001b[0m\u001b[37m\u001b[0m \u001b[1m0s\u001b[0m 4ms/step - loss: 0.0103\n",
            "\u001b[1m23/23\u001b[0m \u001b[32m━━━━━━━━━━━━━━━━━━━━\u001b[0m\u001b[37m\u001b[0m \u001b[1m0s\u001b[0m 5ms/step\n"
          ]
        },
        {
          "output_type": "stream",
          "name": "stderr",
          "text": [
            "<ipython-input-21-181ca65812ca>:32: SettingWithCopyWarning:\n",
            "\n",
            "\n",
            "A value is trying to be set on a copy of a slice from a DataFrame.\n",
            "Try using .loc[row_indexer,col_indexer] = value instead\n",
            "\n",
            "See the caveats in the documentation: https://pandas.pydata.org/pandas-docs/stable/user_guide/indexing.html#returning-a-view-versus-a-copy\n",
            "\n"
          ]
        },
        {
          "output_type": "display_data",
          "data": {
            "text/html": [
              "<html>\n",
              "<head><meta charset=\"utf-8\" /></head>\n",
              "<body>\n",
              "    <div>            <script src=\"https://cdnjs.cloudflare.com/ajax/libs/mathjax/2.7.5/MathJax.js?config=TeX-AMS-MML_SVG\"></script><script type=\"text/javascript\">if (window.MathJax && window.MathJax.Hub && window.MathJax.Hub.Config) {window.MathJax.Hub.Config({SVG: {font: \"STIX-Web\"}});}</script>                <script type=\"text/javascript\">window.PlotlyConfig = {MathJaxConfig: 'local'};</script>\n",
              "        <script charset=\"utf-8\" src=\"https://cdn.plot.ly/plotly-2.35.2.min.js\"></script>                <div id=\"e6363059-4319-40fa-9218-79824fcb562a\" class=\"plotly-graph-div\" style=\"height:525px; width:100%;\"></div>            <script type=\"text/javascript\">                                    window.PLOTLYENV=window.PLOTLYENV || {};                                    if (document.getElementById(\"e6363059-4319-40fa-9218-79824fcb562a\")) {                    Plotly.newPlot(                        \"e6363059-4319-40fa-9218-79824fcb562a\",                        [{\"hovertemplate\":\"Distance=%{x}\\u003cbr\\u003eSpeed=%{y}\\u003cbr\\u003eAnomaly_Autoencoder=%{marker.color}\\u003cextra\\u003e\\u003c\\u002fextra\\u003e\",\"legendgroup\":\"\",\"marker\":{\"color\":[0,0,0,0,0,0,0,0,0,0,0,0,0,0,0,0,0,0,0,0,0,0,0,0,0,0,0,0,0,0,0,0,0,0,0,0,0,0,0,0,0,0,0,0,0,0,0,1,1,1,1,0,0,0,0,0,0,0,0,0,0,0,0,0,0,0,0,0,0,0,0,0,0,0,0,0,0,1,1,1,1,0,0,0,0,0,0,0,0,0,0,0,0,0,0,0,0,0,0,0,0,0,0,0,0,0,0,0,0,0,0,0,0,0,0,0,0,0,0,0,0,0,0,0,0,0,0,0,0,0,0,0,0,0,0,0,0,0,0,0,0,0,0,0,0,0,0,0,0,0,0,0,0,0,1,1,1,0,1,0,0,0,0,0,0,0,0,0,0,0,0,0,0,0,0,0,0,0,0,1,1,0,0,0,0,0,0,0,0,0,0,0,0,0,0,0,0,0,0,0,0,0,0,0,0,0,0,0,0,0,0,0,0,0,0,0,1,1,1,0,0,0,0,0,0,0,0,0,0,0,1,1,0,0,0,0,0,0,0,0,0,0,0,0,0,0,0,0,0,0,0,0,0,0,0,0,0,0,0,0,0,0,1,1,1,1,0,0,0,0,0,0,0,0,0,0,0,0,0,0,0,0,0,0,0,0,0,0,1,1,1,1,1,0,0,0,0,0,0,0,0,0,0,0,0,0,0,0,0,0,0,0,0,0,0,0,0,0,0,0,0,0,0,0,0,0,0,0,0,0,0,0,0,0,0,0,0,0,0,0,0,0,0,0,0,0,0,0,0,0,0,0,0,0,0,0,0,0,0,0,0,0,0,0,0,1,1,1,1,1,1,1,1,0,0,0,0,0,0,0,0,0,0,0,0,0,0,0,0,0,0,0,0,0,0,0,0,0,0,0,0,0,0,0,0,0,0,0,0,0,0,0,0,0,0,0,0,0,0,0,0,0,0,0,0,0,0,0,0,0,0,0,0,0,0,0,0,0,0,0,0,0,0,0,0,0,0,0,0,0,0,0,0,0,0,0,0,0,0,0,0,0,0,0,0,0,0,0,0,0,0,0,0,0,0,0,0,0,0,0,0,0,0,0,0,0,0,0,0,0,0,0,0,0,0,0,0,0,0,0,0,0,0,0,0,0,0,0,0,0,0,0,0,0,0,0,0,0,0,0,0,0,0,0,0,0,0,0,0,0,0,0,0,0,0,0,0,0,1,0,0,0,0,0,0,0,0,0,0,0,0,0,0,0,0,0,0,0,0,0,0,0,0,0,0,0,0,0,0,0,0,0,0,0,0,0,0,0,0,0,0,0,0,0,0,0,0,0,0,0,0,0,0,0,0,0,0,0,0,0,0,0,0,0,0,0,0,0,0,0,0,0,0,0,0,0,0,0,0,0,0,0,0,0,0,0,0,0,0,0,0,0,0,0,0,0,0,0,0,0,0,0,0,0,0,0,0,0,0,0,0,0,0,0,0,0,0,0,0,0,0,0,0,0,0,0,0,0,0,0,0,0,0,0,0,0,0,0,0,0,0,0,0,0,0,0,0,0,0,0,0,0,0,0,0,0,0,0,0,0,0,0,0,0,0,0,0,0,0,0,0,0,0,0,0,0,0,0,0,0,0,0,0,0,0,0,0],\"coloraxis\":\"coloraxis\",\"symbol\":\"circle\"},\"mode\":\"markers\",\"name\":\"\",\"orientation\":\"v\",\"showlegend\":false,\"x\":[0.3469041056320166,5.115277777777777,10.295702219998686,23.362336794349705,24.581944444444442,44.55541962385555,57.2486111111111,65.87400035812112,73.69305555555556,77.40080177367227,90.19305555555556,100.53659828677586,103.4375,116.7263888888889,137.14722258889896,140.05972222222223,159.99305555555557,160.40909811201362,176.65972222222223,185.39069692719005,199.91527777777782,210.29046808159592,223.0877777777778,238.5864529136231,243.08777777777783,263.17111111111114,263.5878947020598,279.83777777777783,303.09333333333336,319.76000000000005,339.6933333333334,341.68592559443664,359.95832537743195,366.2711111111111,386.20444444444445,394.8421572466101,409.46000000000004,411.45335531893915,436.0377777777778,441.35298342003887,455.9711111111111,462.95050565482074,476.246482199488,485.87111111111113,509.35936998391657,522.1711111111111,530.6649001201445,548.4819768871514,551.3711111111111,566.0997345300776,573.6155555555555,589.2266666666666,589.6042672628723,602.6646922918904,609.1377777777776,615.9540032638489,626.482222222222,631.1929431728502,640.3316291915615,644.782222222222,655.9358587523466,661.0044444444443,663.3129817435881,669.9063190355995,674.1155555555554,681.2488888888887,682.5189099012739,685.6213888888886,688.333324932456,693.0455461612106,696.1563888888886,699.8008333333331,700.781016178065,705.597446434995,707.3998896763428,712.151896126161,718.5189451455443,719.7786111111109,722.5502560996556,723.1674999999998,724.9675353554877,728.0674999999998,729.5686738506311,733.2008333333331,733.6696040637526,739.8674999999997,741.7378430948598,746.3230555555552,746.4208610628509,752.0567631249298,753.5563888888886,759.2360865423952,760.2897222222218,770.4230555555552,771.9181757540946,774.6981159085873,783.2230555555552,785.612450827695,790.6674999999997,794.7458154922703,806.9482397885823,808.3897222222218,816.7230555555552,820.3976660408234,823.6563888888886,830.589722222222,839.2866276639824,845.8786111111108,853.7452777777775,854.9959141099926,863.9119444444442,867.2580343209781,872.2230555555553,885.752412954939,889.9452777777775,903.7452777777776,910.0019401308559,913.5920381886355,927.9166666666664,930.6980893933134,947.9166666666664,948.1688832245754,958.0499999999995,966.0083422931355,976.1722222222218,983.0491307172406,1008.4388888888884,1014.1671256493066,1033.1388888888885,1040.3714270412625,1058.6834413237725,1061.2499999999998,1084.3611111111109,1084.6521624217444,1097.7974914523256,1098.972222222222,1109.5970128482795,1125.672222222222,1137.9463904363865,1149.672222222222,1164.783333333333,1165.0870192563132,1183.1166666666663,1192.7460607782132,1204.7388888888886,1225.3259633705463,1229.6277777777775,1245.7741687736782,1263.2989579817286,1280.8695772592846,1296.3611111111109,1299.9250710461117,1315.361111111111,1328.5089629685915,1337.6055555555554,1344.2456962268807,1353.4987562628332,1362.2277777777776,1378.882599361982,1388.2277777777776,1391.1908904357008,1401.1192714280653,1410.2277777777776,1418.4926647731509,1422.8372511970813,1423.6277777777777,1435.4277777777777,1435.6174270821282,1446.4944444444445,1450.1284290420465,1462.8277777777778,1465.3092385877499,1466.0797442280154,1470.4944444444445,1476.565314993746,1482.138888888889,1483.672876859318,1491.6277777777777,1494.3584260917607,1500.5722222222223,1500.6977371950627,1504.441707220989,1510.636015391668,1513.0166666666667,1520.7833915574608,1523.2388888888888,1526.6260978431333,1531.9217691909544,1533.8166666666666,1536.7015969231645,1544.4761049640258,1546.4166666666665,1553.5277777777776,1562.5944444444444,1572.0611111111111,1574.7167978185698,1584.9189246467215,1589.1722222222224,1596.8701958802897,1610.3166666666668,1613.5402206009069,1618.3166666666668,1630.1732141984803,1642.2494199732125,1644.1833333333336,1655.3500000000001,1663.718662600779,1664.5366666666666,1676.7505210784911,1678.8627777777779,1687.7350245430523,1703.7516666666666,1710.4026923940028,1725.977189883518,1729.6405555555552,1743.0460266760883,1747.9961111111108,1765.8849999999998,1768.666732576467,1780.8849999999998,1783.5467446842977,1795.2492372909448,1797.296111111111,1808.3516666666665,1810.710433448956,1818.8516666666665,1825.0623496305952,1833.73052341761,1838.296111111111,1845.092867531705,1849.5627777777777,1849.747617807078,1860.6466797796293,1865.8627777777776,1873.0627777777775,1875.047524567472,1883.9294444444442,1885.0693346183584,1892.404836190993,1893.0961111111108,1900.5183333333332,1903.572937492531,1906.4148597216122,1917.8183333333332,1922.07736233008,1939.6480959526066,1940.4294444444442,1955.3101185727505,1959.2294444444442,1974.117781527007,1980.1183333333333,1990.5627777777775,1991.8768773869292,2005.418333333333,2014.0405555555556,2014.3123393771484,2025.335315328531,2027.307222222222,2046.2966667197709,2048.407222222222,2076.1915253312723,2088.8626365746995,2096.1183333333333,2106.259076846703,2115.585,2124.8597359500322,2133.362777777778,2141.049425782239,2143.862777777778,2151.2892840622367,2157.6405555555557,2161.700927104342,2169.7294444444447,2171.3081121475507,2176.7294444444447,2185.1800010409443,2185.673888888889,2192.8738888888893,2193.5657983278165,2201.6738888888895,2203.3674488220277,2205.41168398197,2209.7627777777784,2210.3736160711674,2215.496111111112,2216.984149335224,2220.896111111112,2222.7958597309384,2224.4516666666677,2227.1255597879963,2230.362777777779,2231.722357040156,2238.053320807066,2238.807222222223,2245.552782620202,2248.707222222223,2249.3056417538746,2257.707222222223,2260.984692980435,2261.9294444444454,2269.5303664742532,2271.2027777777785,2278.5719444444453,2281.3381001794446,2288.060833333334,2293.4452581217565,2302.0608333333344,2303.04412760186,2309.678737985638,2310.338611111112,2316.9608333333344,2317.9964187568175,2326.0163888888897,2329.09050429002,2344.4054038567997,2348.3830555555564,2364.51219569219,2371.9719444444454,2378.945543687043,2380.9941666666673,2394.9275000000007,2403.6135782143983,2419.4830555555563,2420.9779202847258,2429.483055555557,2441.1787788928837,2447.371944444446,2463.105277777779,2466.082863348311,2473.7275000000013,2483.448455555709,2487.1719444444457,2495.7228767817455,2506.4608333333344,2512.39254074155,2520.4608333333344,2531.6608333333343,2538.705634727795,2544.938611111112,2551.7729882811864,2555.2497222222228,2566.22349600077,2569.3830555555564,2582.849722222223,2588.4170076162573,2597.31638888889,2606.428299625282,2607.149722222223,2616.4830555555563,2624.6018251850055,2630.3038888888896,2632.921528865938,2638.2638888888896,2642.9128565712554,2648.297222222223,2650.406768660579,2652.3241870056854,2657.1638888888897,2662.008333333334,2662.125549300321,2667.56388888889,2669.6875183908332,2673.44385181458,2675.2083333333344,2680.7416666666677,2684.713646748108,2685.875000000001,2690.6750000000006,2693.1360482296627,2693.830555555556,2697.1692937457406,2699.608333333334,2700.4206530256884,2703.386111111112,2704.2435305179833,2710.686111111112,2712.0602755630553,2716.029289152314,2716.8305555555567,2721.3861111111123,2721.9918801626122,2726.497222222223,2731.1022313196795,2735.6527777777787,2740.6892956841025,2741.8194444444457,2746.083159006472,2751.2265977897696,2754.8194444444457,2764.4363493502556,2767.530555555557,2776.405399695986,2781.575000000001,2786.3824672703363,2790.852777777779,2794.9855640483893,2802.786111111112,2807.160142270696,2821.786111111112,2823.1544083405697,2836.5702384968113,2837.475277777779,2855.875277777779,2858.4830248040316,2867.815277777779,2884.0126028776826,2885.004166666668,2902.581944444446,2904.1195905992627,2918.115277777779,2918.3739752316183,2936.237500000001,2937.82228291853,2949.6263888888902,2952.608728367998,2968.8375000000015,2971.925239441482,2983.3298593475643,2994.819928537469,2997.393055555557,3011.6708333333345,3013.401572232758,3026.22638888889,3032.3892604850507,3043.893055555557,3056.0737128970154,3061.7597222222234,3071.102277414635,3089.3510798424268,3092.0930555555574,3110.7722772142047,3123.017603853466,3125.7041666666682,3136.8644255440013,3147.3263888888905,3161.8088311633164,3169.259722222224,3184.9263888888904,3185.3190984686285,3210.170833333335,3212.1440533925515,3218.4555368705837,3229.1041666666683,3234.233816773104,3250.01192021662,3251.1930555555573,3266.859722222224,3277.976877926955,3288.248611111113,3300.337500000002,3303.588201384315,3322.0941666666686,3327.4898604667064,3339.6719444444466,3348.130855874101,3357.837222222224,3360.1782662801675,3374.103888888891,3376.2495760050433,3383.7150000000024,3391.3064002641618,3392.9372222222246,3401.7705555555576,3403.666546332231,3411.903888888891,3416.9270415843052,3421.570555555558,3425.7451314841646,3427.9705555555574,3432.802102462308,3435.7483333333353,3441.373587959427,3449.848333333335,3450.0046558197773,3453.1260864149467,3456.1150000000016,3461.099549011662,3465.8483333333347,3473.4891061824337,3475.848333333335,3480.276636307318,3484.4594444444465,3490.0974890364423,3496.619458353872,3501.0594444444464,3508.5705555555573,3512.6506747510202,3518.2927777777795,3532.6038888888907,3533.913532730585,3541.0927777777792,3543.5447274234944,3554.747265854325,3556.7261111111125,3568.1150000000016,3579.8372222222233,3581.326672236618,3601.7372222222234,3608.2657862709343,3616.737222222224,3632.0038888888903,3636.1941077766937,3650.2688888888906,3653.1547038140725,3674.068888888891,3678.353060174228,3698.201666666668,3706.4817912710473,3711.5350000000017,3719.7472109335567,3724.7572222222243,3735.246111111113,3743.3401621848134,3753.446111111113,3753.703428185468,3768.779444444446,3770.313644591466,3779.0016666666684,3781.790474856361,3791.6127777777797,3795.645157954982,3801.701666666669,3812.0684046595443,3824.5016666666693,3826.0282843028717,3841.3615781234494,3842.3905555555575,3860.51277777778,3860.771999793506,3880.2619353688556,3881.3127777777804,3890.9102086371554,3894.5905555555582,3907.1435365326843,3919.5157640475645,3921.923888888891,3937.42013936429,3948.351232249524,3949.3683333333356,3963.1228600888353,3965.4350000000018,3978.2683333333352,3978.572580518345,3990.9873789257363,3995.1709601074876,4000.0461111111135,4003.323678626989,4016.936912022048,4017.6461111111134,4025.0683333333354,4031.4769591369427,4035.5350000000017,4038.2582944949813,4043.1733950489065,4047.0091666666685,4050.297303869276,4053.2313888888907,4060.9632472886824,4062.2980555555573,4071.0915219284034,4073.7647222222245,4078.728022670557,4084.960483391545,4086.230000000002,4098.7783533104885,4100.896666666668,4104.888386550408,4113.5558640024465,4114.996666666669,4121.641990987323,4124.796666666669,4130.942619222766,4131.641111111114,4138.07438299687,4140.641111111113,4150.085555555557,4156.1562017181805,4164.00777777778,4173.550346088961,4174.396666666668,4183.018888888891,4186.555700302868,4201.152222222225,4201.384544404858,4219.215662263365,4222.552222222224,4238.955271001546,4239.896666666669,4250.331787090827,4252.563333333335,4270.685555555558,4271.015371644066,4292.522207866668,4294.885555555557,4303.313792739035,4313.8633333333355,4319.765506471313,4331.056834329799,4333.541111111113,4343.87788592889,4347.818888888892,4362.610315604161,4365.152222222225,4374.27033485665,4388.618888888892,4391.951553967591,4406.560000000003,4406.859651108193,4420.408187512987,4433.760000000003,4437.111818882668,4449.037777777781,4453.870533753395,4469.279146148033,4479.849444444448,4486.421528532353,4492.382777777781,4502.114806914317,4511.249444444446,4529.037310313436,4530.316111111114,4553.182075403609,4556.093888888891,4569.382809834457,4578.805000000002,4582.383681741524,4603.5850694920155,4618.005000000003,4621.619653824687,4631.160555555558,4643.001665456154,4650.893888888891,4661.086658667221,4674.240473091599,4680.493888888891,4710.520873688695,4713.382777777781,4726.4050000000025,4726.810087823239,4748.805000000002,4750.756225499437,4765.917148942042,4767.005000000002,4780.893888888891,4791.516111111113,4794.316015069766,4807.693888888891,4816.491524834414,4818.249444444446,4827.705402173756,4829.249444444446,4837.2317891968305,4837.860555555557,4845.971666666668,4851.618376304871,4853.693888888891,4858.9620495934005,4866.5918587578635,4867.840277777779,4873.52935233126,4876.1069444444465,4880.822478227364,4885.9099863569745,4887.706944444447,4892.994781077345,4894.206944444447,4898.93289352665,4903.506944444447,4907.06954256863,4909.018055555558,4917.0564917387055,4919.129166666669,4921.529351778625,4930.85841851477,4933.129166666669,4939.1420996403685,4945.029166666669,4951.459858461467,4955.829166666669,4963.206944444447,4964.319294495271,4972.595833333336,4976.731801314509,4982.651388888891,4994.701796892253,5005.941473355011,5006.851388888891,5017.429793726552,5030.184722222225,5037.771015997072,5054.851388888891,5057.668810127816,5071.550297630315,5072.506944444447,5082.818055555559,5093.74577207155,5101.840791501944,5106.9180555555595,5123.2513888888925,5124.959553123538,5134.22916666667,5142.9577767260835,5156.806944444448,5161.461039574521,5174.443936719974,5182.806944444448,5196.368471431007,5197.473611111114,5215.347777777782,5217.141328324133,5236.425555555558,5238.24662879069,5258.105292564206,5260.8700000000035,5281.1634043093045,5285.581111111114,5298.251198100982,5301.13666666667,5316.725000000003,5317.039691960357,5331.240917901707,5332.502777777781,5350.166608291757,5351.436111111114,5367.744886454726,5370.636111111115,5374.012154901524],\"xaxis\":\"x\",\"y\":[289.078124,290.0,290.53333333333336,291.8750016,292.0,293.22499968,294.0,295.05000192,296.0,296.22499968,297.0,297.7812496,298.0,299.0,299.8749997714286,300.0,299.0,299.02499968,300.0,299.62499931428573,299.0,299.0,299.0,299.77500053333335,300.0,300.0,300.0,300.0,299.0,300.0,299.0,299.0,299.0,299.0,299.0,299.0,299.0,299.0,299.0,299.0,299.0,299.0,299.0,299.0,297.7090909090909,297.0,295.55555555555554,292.5,292.0,288.03571017142855,286.0,281.0,280.55357714285714,264.4821257142857,256.0,243.62497737142857,223.0,213.55556266666667,193.55553422222224,183.0,158.48748224,146.0,141.44998656,127.44998656,118.0,107.0,104.73585318808425,99.0,95.87527921999516,89.97958675440715,86.0,82.0,81.22413903448276,77.086208,75.36206565517242,70.20689655172414,63.310344827586206,62.0,61.18,61.0,61.74285714285714,63.0,63.9,66.0,66.675,75.0,77.4,83.0,83.14285714285714,91.0,93.0,99.8,101.0,114.0,115.71111111111111,118.82222222222222,128.0,129.95000576,134.0,136.6250048,144.1249984,145.0,150.0,153.1874976,156.0,156.0,165.2500096,172.0,177.0,177.75000576,183.0,184.6250048,187.0,196.98432140753425,200.0,207.0,209.64339513510546,211.13964834149002,217.0,218.1249984,225.0,225.075,228.0,230.21428571428572,233.0,234.95,242.0,243.16666666666666,247.0,248.56,252.46,253.0,260.0,260.06,262.76,263.0,264.6,267.0,268.5375,270.0,272.0,272.05,275.0,276.33928502857145,278.0,279.6562512,280.0,281.4642852571429,283.0357156571429,284.6071424,286.0,285.8125002666667,285.0,285.5892854857143,286.0,283.6093768,280.2343768,277.0,266.3749909333333,260.0,255.0000071111111,237.22222933333333,220.0,208.52081813333334,202.1874848,201.0,177.0,176.81666666666666,166.0,162.01,147.0,144.12,143.22,138.0,134.4125,131.0,129.5857142857143,122.0,119.9,115.0,114.97,114.07,112.57,112.0,114.2875,115.0,116.3,118.3,119.0,120.63333333333334,124.93055928888889,126.0,128.0,136.0,142.0,143.95000576,151.15000576,154.0,161.12499723636364,173.0,175.8437584,180.0,186.5625056,192.9791648,194.0,201.0,207.38365368205135,208.0,213.12862888063174,214.0,217.6250048,224.0,226.34,231.74,233.0,235.18571428571428,236.0,230.0,229.08333333333334,225.0,222.8,212.8,211.0,199.0,196.8,189.0,184.66,178.36,175.0,171.4,169.0,168.93333333333334,164.93333333333334,163.0,162.0,162.18333333333334,163.0,163.25000192,164.85000192,165.0,167.0,168.08333653333332,169.08333226666667,173.0,175.31818007272727,184.59091432727274,185.0,187.37499946666668,188.0,188.0,188.0,188.0,188.2678592,191.0,194.0,194.10416533333333,198.270832,199.0,209.8333312,211.0,219.76315789473685,223.71052631578948,226.0,222.4125,219.0,209.2625,200.0,192.08,189.0,171.575,155.0,148.825,136.0,133.8,126.0,115.62857142857143,115.0,108.0,107.325,99.0,97.3749952,95.3749952,91.0,90.47916266666667,86.0,84.64582933333334,81.0,80.4687504,80.0,78.21428662857143,76.0,76.0,76.0,76.0,79.46591127272727,81.0,81.6250048,90.0,93.906248,95.0,102.42990748117683,104.0,111.0,114.3392832,122.0,129.2,140.0,141.08,148.28,149.0,149.0,150.68,163.0,165.9090909090909,179.54545454545456,183.0,189.9090909090909,193.0,200.75,203.0,209.0,213.32,221.0,221.6,225.0,228.28571428571428,230.0,236.0,236.8437488,239.0,241.17500288,242.0,244.67857005714285,248.0,249.69999872,252.0,252.0,245.17498752,239.0,234.4062416,232.0,216.58331733333333,212.0,202.0,195.99998902857143,186.0,177.67499136,177.0,168.0,160.50778486761777,155.0,151.4623081445385,144.0,137.30357485714285,129.0,125.57142857142857,122.35714285714286,114.0,109.0,108.82,100.0,96.325,89.325,86.0,83.0,78.4,77.0,72.0,71.225,71.0,67.55,65.0,65.66,68.0,68.61111111111111,73.0,74.37142857142857,78.22857142857143,79.0,82.0,83.2500096,92.0,97.6718728,103.0,109.59999744,111.0,117.59721884444444,124.98612124444445,130.0,139.9531224,143.0,152.609372,158.0,162.72500864,167.0,171.2499968,179.0,181.59722026666665,190.0,190.97865453415776,200.37366590838485,201.0,207.0,208.98994009079647,216.0,220.71428571428572,221.0,226.0,226.7,233.0,233.0,233.0,233.96,241.0,241.94285714285715,247.0,248.1,252.1,256.1,257.0,257.0,257.6,262.0,263.05,265.0,267.05,268.0,269.55,272.55,273.0,274.1136360727273,274.8409088,275.0,276.5535734857143,278.0,280.6428598857143,282.0,282.0,282.0312496,284.0,284.0,284.0,284.0,284.0,284.0,284.0,282.0,278.3749952,275.0,272.0,268.0747742854933,244.0,238.60001645714286,226.0,216.52037046994084,205.0,201.975,183.0,180.8,173.0,167.26,166.0,159.0,157.71666666666667,152.0,148.38333333333333,145.0,144.35,144.0,141.52,140.0,140.4,141.0,141.0,141.0,141.0,143.58333333333334,146.0,149.06666666666666,150.0,152.6,155.0,158.81944248888888,163.0972280888889,166.0,169.0,171.54999808,175.0,184.0,185.0937584,191.0,192.60714057142857,199.7499977142857,201.0,205.0,211.0,211.55555982222222,219.0,221.6250048,225.0,229.0,230.156586255998,234.0,234.48888604444446,238.0,238.71309230338085,242.0,240.76,240.0,238.76,238.0,236.0,235.11428571428573,234.0,233.93333333333334,230.0,230.0,230.0,229.34,227.0,227.0,227.0,227.45555555555555,228.0,228.17142857142858,229.88571428571427,230.0,233.0,233.0125,233.95,234.0,237.6250048,239.0,242.23750336,245.38749888,246.0,246.56250048,246.96250048,247.0,241.8750016,241.0,231.0,230.5625056,211.3124832,204.3124832,196.0,192.38887822222222,176.83332266666667,176.0,167.0,160.95832533333333,157.0,154.68682748800398,150.41636777244622,147.0,143.3250112,140.0,136.60000426666667,136.0,130.6625056,129.0,127.40668652391034,125.40111442065172,125.0,131.02,132.0,134.6,140.1,141.0,145.1,147.0,153.3,154.0,159.76,162.0,170.0,173.9857142857143,179.0,186.36,187.0,194.0,196.0,204.0,204.11111111111111,212.47222755555555,214.0,222.5178633142857,223.0,227.1249984,228.0,233.0,233.1249984,241.1249984,242.0,242.8928566857143,244.0,246.7321408,251.87499794285714,253.0,255.90000384,257.0,259.5624992,260.0,261.5624992,264.0,264.74688630953455,268.0,268.0444416,270.0444444444444,272.0,272.65999616,275.0,275.473682994855,276.9774431169651,278.0,280.1,282.0,282.51666666666665,283.0,285.8,286.0,289.55,290.0,291.1714285714286,292.0,292.18333333333334,293.26666666666665,294.0,294.55,296.0,296.0,296.0,296.0,296.0,296.0,296.0,296.0,293.0,292.91071542857145,288.0,286.437488,273.937488,273.0,250.0,239.0,234.01786422857143,208.0,193.15000576,190.0,168.64584,165.0,155.7499904,155.0,146.0,140.92499328,139.0,134.66084421226412,128.07731387819385,127.0,124.9500032,124.0,120.8,117.24444444444444,116.0,116.81499904,117.0,118.53763340224234,120.0,122.6,124.0,128.8,130.0,131.77777777777777,138.44444444444446,140.0,146.68571428571428,153.0,158.4,162.0,166.0,166.36,169.0,174.04,181.0,189.65454545454546,197.38181818181818,198.0,203.52,210.0,213.74999808,222.0,222.80357028571427,226.7321462857143,227.0,232.0,236.1249984,239.1249984,241.0,245.0,245.3125024,247.0,249.7343736,254.0,255.08333653333332,258.0833322666667,260.0,263.70000384,264.0,267.0,267.34285714285716,271.0,271.3,274.5499968,275.0,277.4656232,278.0,279.62999808,280.0,282.0,282.04,283.84,284.0,284.0,284.0,287.4,288.0,288.35000106666666],\"yaxis\":\"y\",\"type\":\"scatter\"}],                        {\"template\":{\"data\":{\"histogram2dcontour\":[{\"type\":\"histogram2dcontour\",\"colorbar\":{\"outlinewidth\":0,\"ticks\":\"\"},\"colorscale\":[[0.0,\"#0d0887\"],[0.1111111111111111,\"#46039f\"],[0.2222222222222222,\"#7201a8\"],[0.3333333333333333,\"#9c179e\"],[0.4444444444444444,\"#bd3786\"],[0.5555555555555556,\"#d8576b\"],[0.6666666666666666,\"#ed7953\"],[0.7777777777777778,\"#fb9f3a\"],[0.8888888888888888,\"#fdca26\"],[1.0,\"#f0f921\"]]}],\"choropleth\":[{\"type\":\"choropleth\",\"colorbar\":{\"outlinewidth\":0,\"ticks\":\"\"}}],\"histogram2d\":[{\"type\":\"histogram2d\",\"colorbar\":{\"outlinewidth\":0,\"ticks\":\"\"},\"colorscale\":[[0.0,\"#0d0887\"],[0.1111111111111111,\"#46039f\"],[0.2222222222222222,\"#7201a8\"],[0.3333333333333333,\"#9c179e\"],[0.4444444444444444,\"#bd3786\"],[0.5555555555555556,\"#d8576b\"],[0.6666666666666666,\"#ed7953\"],[0.7777777777777778,\"#fb9f3a\"],[0.8888888888888888,\"#fdca26\"],[1.0,\"#f0f921\"]]}],\"heatmap\":[{\"type\":\"heatmap\",\"colorbar\":{\"outlinewidth\":0,\"ticks\":\"\"},\"colorscale\":[[0.0,\"#0d0887\"],[0.1111111111111111,\"#46039f\"],[0.2222222222222222,\"#7201a8\"],[0.3333333333333333,\"#9c179e\"],[0.4444444444444444,\"#bd3786\"],[0.5555555555555556,\"#d8576b\"],[0.6666666666666666,\"#ed7953\"],[0.7777777777777778,\"#fb9f3a\"],[0.8888888888888888,\"#fdca26\"],[1.0,\"#f0f921\"]]}],\"heatmapgl\":[{\"type\":\"heatmapgl\",\"colorbar\":{\"outlinewidth\":0,\"ticks\":\"\"},\"colorscale\":[[0.0,\"#0d0887\"],[0.1111111111111111,\"#46039f\"],[0.2222222222222222,\"#7201a8\"],[0.3333333333333333,\"#9c179e\"],[0.4444444444444444,\"#bd3786\"],[0.5555555555555556,\"#d8576b\"],[0.6666666666666666,\"#ed7953\"],[0.7777777777777778,\"#fb9f3a\"],[0.8888888888888888,\"#fdca26\"],[1.0,\"#f0f921\"]]}],\"contourcarpet\":[{\"type\":\"contourcarpet\",\"colorbar\":{\"outlinewidth\":0,\"ticks\":\"\"}}],\"contour\":[{\"type\":\"contour\",\"colorbar\":{\"outlinewidth\":0,\"ticks\":\"\"},\"colorscale\":[[0.0,\"#0d0887\"],[0.1111111111111111,\"#46039f\"],[0.2222222222222222,\"#7201a8\"],[0.3333333333333333,\"#9c179e\"],[0.4444444444444444,\"#bd3786\"],[0.5555555555555556,\"#d8576b\"],[0.6666666666666666,\"#ed7953\"],[0.7777777777777778,\"#fb9f3a\"],[0.8888888888888888,\"#fdca26\"],[1.0,\"#f0f921\"]]}],\"surface\":[{\"type\":\"surface\",\"colorbar\":{\"outlinewidth\":0,\"ticks\":\"\"},\"colorscale\":[[0.0,\"#0d0887\"],[0.1111111111111111,\"#46039f\"],[0.2222222222222222,\"#7201a8\"],[0.3333333333333333,\"#9c179e\"],[0.4444444444444444,\"#bd3786\"],[0.5555555555555556,\"#d8576b\"],[0.6666666666666666,\"#ed7953\"],[0.7777777777777778,\"#fb9f3a\"],[0.8888888888888888,\"#fdca26\"],[1.0,\"#f0f921\"]]}],\"mesh3d\":[{\"type\":\"mesh3d\",\"colorbar\":{\"outlinewidth\":0,\"ticks\":\"\"}}],\"scatter\":[{\"fillpattern\":{\"fillmode\":\"overlay\",\"size\":10,\"solidity\":0.2},\"type\":\"scatter\"}],\"parcoords\":[{\"type\":\"parcoords\",\"line\":{\"colorbar\":{\"outlinewidth\":0,\"ticks\":\"\"}}}],\"scatterpolargl\":[{\"type\":\"scatterpolargl\",\"marker\":{\"colorbar\":{\"outlinewidth\":0,\"ticks\":\"\"}}}],\"bar\":[{\"error_x\":{\"color\":\"#2a3f5f\"},\"error_y\":{\"color\":\"#2a3f5f\"},\"marker\":{\"line\":{\"color\":\"#E5ECF6\",\"width\":0.5},\"pattern\":{\"fillmode\":\"overlay\",\"size\":10,\"solidity\":0.2}},\"type\":\"bar\"}],\"scattergeo\":[{\"type\":\"scattergeo\",\"marker\":{\"colorbar\":{\"outlinewidth\":0,\"ticks\":\"\"}}}],\"scatterpolar\":[{\"type\":\"scatterpolar\",\"marker\":{\"colorbar\":{\"outlinewidth\":0,\"ticks\":\"\"}}}],\"histogram\":[{\"marker\":{\"pattern\":{\"fillmode\":\"overlay\",\"size\":10,\"solidity\":0.2}},\"type\":\"histogram\"}],\"scattergl\":[{\"type\":\"scattergl\",\"marker\":{\"colorbar\":{\"outlinewidth\":0,\"ticks\":\"\"}}}],\"scatter3d\":[{\"type\":\"scatter3d\",\"line\":{\"colorbar\":{\"outlinewidth\":0,\"ticks\":\"\"}},\"marker\":{\"colorbar\":{\"outlinewidth\":0,\"ticks\":\"\"}}}],\"scattermapbox\":[{\"type\":\"scattermapbox\",\"marker\":{\"colorbar\":{\"outlinewidth\":0,\"ticks\":\"\"}}}],\"scatterternary\":[{\"type\":\"scatterternary\",\"marker\":{\"colorbar\":{\"outlinewidth\":0,\"ticks\":\"\"}}}],\"scattercarpet\":[{\"type\":\"scattercarpet\",\"marker\":{\"colorbar\":{\"outlinewidth\":0,\"ticks\":\"\"}}}],\"carpet\":[{\"aaxis\":{\"endlinecolor\":\"#2a3f5f\",\"gridcolor\":\"white\",\"linecolor\":\"white\",\"minorgridcolor\":\"white\",\"startlinecolor\":\"#2a3f5f\"},\"baxis\":{\"endlinecolor\":\"#2a3f5f\",\"gridcolor\":\"white\",\"linecolor\":\"white\",\"minorgridcolor\":\"white\",\"startlinecolor\":\"#2a3f5f\"},\"type\":\"carpet\"}],\"table\":[{\"cells\":{\"fill\":{\"color\":\"#EBF0F8\"},\"line\":{\"color\":\"white\"}},\"header\":{\"fill\":{\"color\":\"#C8D4E3\"},\"line\":{\"color\":\"white\"}},\"type\":\"table\"}],\"barpolar\":[{\"marker\":{\"line\":{\"color\":\"#E5ECF6\",\"width\":0.5},\"pattern\":{\"fillmode\":\"overlay\",\"size\":10,\"solidity\":0.2}},\"type\":\"barpolar\"}],\"pie\":[{\"automargin\":true,\"type\":\"pie\"}]},\"layout\":{\"autotypenumbers\":\"strict\",\"colorway\":[\"#636efa\",\"#EF553B\",\"#00cc96\",\"#ab63fa\",\"#FFA15A\",\"#19d3f3\",\"#FF6692\",\"#B6E880\",\"#FF97FF\",\"#FECB52\"],\"font\":{\"color\":\"#2a3f5f\"},\"hovermode\":\"closest\",\"hoverlabel\":{\"align\":\"left\"},\"paper_bgcolor\":\"white\",\"plot_bgcolor\":\"#E5ECF6\",\"polar\":{\"bgcolor\":\"#E5ECF6\",\"angularaxis\":{\"gridcolor\":\"white\",\"linecolor\":\"white\",\"ticks\":\"\"},\"radialaxis\":{\"gridcolor\":\"white\",\"linecolor\":\"white\",\"ticks\":\"\"}},\"ternary\":{\"bgcolor\":\"#E5ECF6\",\"aaxis\":{\"gridcolor\":\"white\",\"linecolor\":\"white\",\"ticks\":\"\"},\"baxis\":{\"gridcolor\":\"white\",\"linecolor\":\"white\",\"ticks\":\"\"},\"caxis\":{\"gridcolor\":\"white\",\"linecolor\":\"white\",\"ticks\":\"\"}},\"coloraxis\":{\"colorbar\":{\"outlinewidth\":0,\"ticks\":\"\"}},\"colorscale\":{\"sequential\":[[0.0,\"#0d0887\"],[0.1111111111111111,\"#46039f\"],[0.2222222222222222,\"#7201a8\"],[0.3333333333333333,\"#9c179e\"],[0.4444444444444444,\"#bd3786\"],[0.5555555555555556,\"#d8576b\"],[0.6666666666666666,\"#ed7953\"],[0.7777777777777778,\"#fb9f3a\"],[0.8888888888888888,\"#fdca26\"],[1.0,\"#f0f921\"]],\"sequentialminus\":[[0.0,\"#0d0887\"],[0.1111111111111111,\"#46039f\"],[0.2222222222222222,\"#7201a8\"],[0.3333333333333333,\"#9c179e\"],[0.4444444444444444,\"#bd3786\"],[0.5555555555555556,\"#d8576b\"],[0.6666666666666666,\"#ed7953\"],[0.7777777777777778,\"#fb9f3a\"],[0.8888888888888888,\"#fdca26\"],[1.0,\"#f0f921\"]],\"diverging\":[[0,\"#8e0152\"],[0.1,\"#c51b7d\"],[0.2,\"#de77ae\"],[0.3,\"#f1b6da\"],[0.4,\"#fde0ef\"],[0.5,\"#f7f7f7\"],[0.6,\"#e6f5d0\"],[0.7,\"#b8e186\"],[0.8,\"#7fbc41\"],[0.9,\"#4d9221\"],[1,\"#276419\"]]},\"xaxis\":{\"gridcolor\":\"white\",\"linecolor\":\"white\",\"ticks\":\"\",\"title\":{\"standoff\":15},\"zerolinecolor\":\"white\",\"automargin\":true,\"zerolinewidth\":2},\"yaxis\":{\"gridcolor\":\"white\",\"linecolor\":\"white\",\"ticks\":\"\",\"title\":{\"standoff\":15},\"zerolinecolor\":\"white\",\"automargin\":true,\"zerolinewidth\":2},\"scene\":{\"xaxis\":{\"backgroundcolor\":\"#E5ECF6\",\"gridcolor\":\"white\",\"linecolor\":\"white\",\"showbackground\":true,\"ticks\":\"\",\"zerolinecolor\":\"white\",\"gridwidth\":2},\"yaxis\":{\"backgroundcolor\":\"#E5ECF6\",\"gridcolor\":\"white\",\"linecolor\":\"white\",\"showbackground\":true,\"ticks\":\"\",\"zerolinecolor\":\"white\",\"gridwidth\":2},\"zaxis\":{\"backgroundcolor\":\"#E5ECF6\",\"gridcolor\":\"white\",\"linecolor\":\"white\",\"showbackground\":true,\"ticks\":\"\",\"zerolinecolor\":\"white\",\"gridwidth\":2}},\"shapedefaults\":{\"line\":{\"color\":\"#2a3f5f\"}},\"annotationdefaults\":{\"arrowcolor\":\"#2a3f5f\",\"arrowhead\":0,\"arrowwidth\":1},\"geo\":{\"bgcolor\":\"white\",\"landcolor\":\"#E5ECF6\",\"subunitcolor\":\"white\",\"showland\":true,\"showlakes\":true,\"lakecolor\":\"white\"},\"title\":{\"x\":0.05},\"mapbox\":{\"style\":\"light\"}}},\"xaxis\":{\"anchor\":\"y\",\"domain\":[0.0,1.0],\"title\":{\"text\":\"Distance\"}},\"yaxis\":{\"anchor\":\"x\",\"domain\":[0.0,1.0],\"title\":{\"text\":\"Speed\"}},\"coloraxis\":{\"colorbar\":{\"title\":{\"text\":\"Anomaly_Autoencoder\"}},\"colorscale\":[[0.0,\"#0d0887\"],[0.1111111111111111,\"#46039f\"],[0.2222222222222222,\"#7201a8\"],[0.3333333333333333,\"#9c179e\"],[0.4444444444444444,\"#bd3786\"],[0.5555555555555556,\"#d8576b\"],[0.6666666666666666,\"#ed7953\"],[0.7777777777777778,\"#fb9f3a\"],[0.8888888888888888,\"#fdca26\"],[1.0,\"#f0f921\"]]},\"legend\":{\"tracegroupgap\":0},\"title\":{\"text\":\"Anomaly Detection with Autoencoder\"}},                        {\"responsive\": true}                    ).then(function(){\n",
              "                            \n",
              "var gd = document.getElementById('e6363059-4319-40fa-9218-79824fcb562a');\n",
              "var x = new MutationObserver(function (mutations, observer) {{\n",
              "        var display = window.getComputedStyle(gd).display;\n",
              "        if (!display || display === 'none') {{\n",
              "            console.log([gd, 'removed!']);\n",
              "            Plotly.purge(gd);\n",
              "            observer.disconnect();\n",
              "        }}\n",
              "}});\n",
              "\n",
              "// Listen for the removal of the full notebook cells\n",
              "var notebookContainer = gd.closest('#notebook-container');\n",
              "if (notebookContainer) {{\n",
              "    x.observe(notebookContainer, {childList: true});\n",
              "}}\n",
              "\n",
              "// Listen for the clearing of the current output cell\n",
              "var outputEl = gd.closest('.output');\n",
              "if (outputEl) {{\n",
              "    x.observe(outputEl, {childList: true});\n",
              "}}\n",
              "\n",
              "                        })                };                            </script>        </div>\n",
              "</body>\n",
              "</html>"
            ]
          },
          "metadata": {}
        }
      ]
    },
    {
      "cell_type": "markdown",
      "source": [
        "Okay, let's explain the visualization generated by the autoencoder for anomaly detection in F1 telemetry data:\n",
        "\n",
        "Visualization Explanation: Autoencoder\n",
        "\n",
        "The autoencoder visualization is a scatter plot that highlights anomalies based on reconstruction errors. Here's a breakdown of the interpretation:\n",
        "\n",
        "Visualization Type: Scatter plot\n",
        "Purpose: To identify data points that have high reconstruction errors, indicating they are likely anomalies.\n",
        "Data:\n",
        "x-axis: 'Distance' - Represents the distance traveled by the car.\n",
        "y-axis: 'Speed' - Represents the speed of the car.\n",
        "Color: 'Anomaly_Autoencoder' - Indicates whether a data point is flagged as an anomaly (1) or not (0) by the autoencoder.\n",
        "Interpretation:\n",
        "Normal Data Points: Data points that have low reconstruction errors are considered normal and are typically represented by one color (e.g., blue). These points are well-represented by the autoencoder's learned patterns.\n",
        "Anomalies/Outliers: Data points that have high reconstruction errors are flagged as anomalies and are highlighted with a different color (e.g., red). These points deviate significantly from the autoencoder's learned patterns, suggesting unusual behavior.\n",
        "Reconstruction Error-Based Anomaly Detection: Autoencoders work by learning a compressed representation of the normal data. When presented with an anomaly, the autoencoder struggles to reconstruct it accurately, resulting in a high reconstruction error. This error is used as an indicator of anomalous behavior.\n",
        "Understanding the Scatter Plot:\n",
        "\n",
        "Clusters and Outliers: The scatter plot can reveal clusters of anomalies or individual outliers. Clusters might indicate systemic issues or specific scenarios where anomalies are likely to occur. Isolated outliers could represent sensor errors or unique events.\n",
        "Relationship with Distance and Speed: By examining the positions of anomalies on the scatter plot, you can understand how they relate to distance and speed. For example, anomalies clustered at high speeds might indicate issues with the car's aerodynamics or engine performance.\n",
        "Threshold Impact: The threshold for anomaly detection (defined as a percentile of reconstruction errors) influences the number of data points flagged as anomalies. A higher threshold will result in fewer anomalies being detected, while a lower threshold will increase the sensitivity to potential anomalies."
      ],
      "metadata": {
        "id": "tSqQEtc2hNsd"
      }
    },
    {
      "cell_type": "markdown",
      "source": [
        "Findings and Conclusions\n",
        "\n",
        "This project demonstrates an AI-powered pipeline for monitoring and flagging anomalies in Formula 1 telemetry data for George Russell. By combining a rules engine with unsupervised anomaly detection models like Isolation Forest, Local Outlier Factor (LOF), One-Class SVM (OCSVM), and autoencoders, we identified potential areas of concern in the telemetry data.\n",
        "\n",
        "Key Findings:\n",
        "\n",
        "Rules Engine: The rules engine effectively flagged basic anomalies based on predefined thresholds for speed, throttle, and brake. This provides a first-level filter for identifying obvious deviations from expected behavior.\n",
        "\n",
        "Isolation Forest: The Isolation Forest model successfully identified anomalies that deviate from the normal data distribution. The visualization highlighted these anomalies, allowing for further investigation.\n",
        "\n",
        "Local Outlier Factor (LOF): LOF identified anomalies based on local density deviations, revealing potential outliers in sparsely populated regions of the data space. The visualization highlighted these points, suggesting unusual behavior in specific driving scenarios.\n",
        "\n",
        "One-Class SVM (OCSVM): OCSVM learned a decision boundary around the normal data and flagged points outside this boundary as anomalies. This approach is useful for detecting novel or unseen data patterns that might indicate unexpected car behavior.\n",
        "\n",
        "Autoencoders: The autoencoder model detected anomalies based on reconstruction errors, highlighting data points that deviate significantly from the learned patterns. The visualization revealed clusters of anomalies and individual outliers, suggesting potential systemic issues or sensor errors.\n",
        "\n",
        "Overall Conclusions:\n",
        "\n",
        "The combination of different anomaly detection models and visualizations provides a comprehensive view of potential anomalies in the F1 telemetry data.\n",
        "Each model offers a unique perspective on anomaly detection, highlighting different types of deviations from expected behavior.\n",
        "Visualizations are crucial for interpreting the results of the models and understanding the underlying patterns in the data.\n",
        "The system can be used to identify potential issues, improve data quality, and enhance the performance of F1 cars.\n",
        "Potential Applications and Extensions:\n",
        "\n",
        "Real-time Anomaly Detection: Integrate the pipeline into a real-time data stream for live monitoring during races.\n",
        "Predictive Maintenance: Use the anomaly detection models to predict potential failures in car components.\n",
        "Driver Performance Analysis: Identify unusual driving patterns or behaviors for performance improvement.\n",
        "Data Quality Monitoring in Other Domains: Adapt the pipeline for other engineering applications.\n",
        "Limitations:\n",
        "\n",
        "The rules engine relies on predefined thresholds that may need to be adjusted for different tracks or driving styles.\n",
        "The unsupervised anomaly detection models require careful tuning of parameters to achieve optimal performance.\n",
        "The system may not be able to detect all types of anomalies, especially those that are subtle or previously unseen.\n",
        "By combining multiple models and visualizations, this project demonstrates a robust and insightful approach to data quality monitoring in F1 telemetry data. With further development and refinement, this system has the potential to significantly enhance the performance, reliability, and safety of F1 cars"
      ],
      "metadata": {
        "id": "nCcJUD9BeWPE"
      }
    },
    {
      "cell_type": "markdown",
      "source": [
        "Potential Applications and Extensions\n",
        "\n",
        "This project can be extended and applied to various scenarios, as discussed previously.\n",
        "\n",
        "By presenting the code cells alongside the textual explanations, the Kaggle project becomes more engaging and easier to follow. Users can readily understand the code's purpose and how it contributes to the overall pipeline. This presentation style also makes the project more reproducible, as users can easily copy and execute the code in their own Kaggle environments. I hope this refined presentation further enhances the value and accessibility of the project."
      ],
      "metadata": {
        "id": "54CmLjkYfPtq"
      }
    }
  ]
}